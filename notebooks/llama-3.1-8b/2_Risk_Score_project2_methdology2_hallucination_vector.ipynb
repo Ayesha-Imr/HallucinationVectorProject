{
  "cells": [
    {
      "cell_type": "markdown",
      "metadata": {
        "id": "dPoC00tREgwP"
      },
      "source": [
        "# Project 2 - Methodology 2: Hallucination Vector Routing"
      ]
    },
    {
      "cell_type": "markdown",
      "metadata": {},
      "source": [
        "## Notebook Summary\n",
        "\n",
        "This notebook details the process of building and validating a prompt-risk classifier for hallucination in Llama-3.1-8B, using the hallucination vector (`v_halluc`) constructed previously. The workflow includes: (1) generating a labeled dataset of model answers and hallucination judgments using SQuAD with standard, no-context, and distractor-context scenarios, (2) extracting a single feature for each prompt (the projection of the last prompt token's Layer 16 activation onto `v_halluc`), (3) training a logistic regression classifier to predict hallucination risk based on the aforementioned feature, and (4) evaluating the classifier's performance (AUROC ≥ 0.75). The resulting `risk_clf.joblib` model enables real-time risk scoring for any prompt, forming the core of the project's guardrail system."
      ]
    },
    {
      "cell_type": "markdown",
      "metadata": {
        "id": "9c_5BmbIoHDI"
      },
      "source": [
        "# Step 2: Turning the Vector into a Prompt-Risk Score\n",
        "**Overall Goal:** To build and validate a lightweight logistic regression classifier that takes a prompt's projection onto v_halluc and outputs a calibrated probability of hallucination. The final deliverables will be the trained classifier file (risk_clf.joblib) and a report on its predictive performance (AUROC ≥ 0.75)."
      ]
    },
    {
      "cell_type": "markdown",
      "metadata": {
        "id": "1ufywsF2dcsL"
      },
      "source": [
        "# Setup and Installation"
      ]
    },
    {
      "cell_type": "code",
      "execution_count": null,
      "metadata": {
        "colab": {
          "base_uri": "https://localhost:8080/"
        },
        "id": "MPaeNTb9Edfa",
        "outputId": "e39acaed-ca7e-4060-ef44-43599cce4d62"
      },
      "outputs": [
        {
          "name": "stdout",
          "output_type": "stream",
          "text": [
            "Artifacts directory: /home/ubuntu/HallucinationVectorProject/artifacts/llama-3.1-70b\n",
            "Data directory: /home/ubuntu/HallucinationVectorProject/data\n",
            "Project directory: /home/ubuntu/HallucinationVectorProject\n"
          ]
        }
      ],
      "source": [
        "# Setup project directories for local execution\n",
        "import os\n",
        "import pathlib\n",
        "\n",
        "# Use the actual project directory instead of generic home directory\n",
        "PROJECT_DIR = pathlib.Path(\"/home/ubuntu/HallucinationVectorProject/\")\n",
        "DATA_DIR = PROJECT_DIR / \"data\"\n",
        "ARTIFACTS_DIR = PROJECT_DIR / \"artifacts\" / \"llama-3.1-8b\"\n",
        "\n",
        "# Create necessary directories\n",
        "DATA_DIR.mkdir(parents=True, exist_ok=True)\n",
        "\n",
        "ARTIFACTS_DIR.mkdir(parents=True, exist_ok=True)\n",
        "print(f\"Artifacts directory: {ARTIFACTS_DIR}\")\n",
        "\n",
        "print(f\"Data directory: {DATA_DIR}\")\n",
        "print(f\"Project directory: {PROJECT_DIR}\")"
      ]
    },
    {
      "cell_type": "code",
      "execution_count": 4,
      "metadata": {
        "colab": {
          "base_uri": "https://localhost:8080/"
        },
        "id": "uvTy9pQhEpIW",
        "outputId": "74c97c57-92c7-4d3a-9ddf-c720590fc64a"
      },
      "outputs": [
        {
          "name": "stdout",
          "output_type": "stream",
          "text": [
            "✓ API keys loaded successfully from environment variables\n",
            "✓ HF_TOKEN: hf_NrlndFS...\n",
            "✓ SCALEDOWN_API_KEY: OMJ5hWc0m4...\n"
          ]
        }
      ],
      "source": [
        "# Load API keys from environment variables\n",
        "import os\n",
        "from dotenv import load_dotenv\n",
        "load_dotenv()  # Load variables from .env file if present\n",
        "\n",
        "# Load HuggingFace token\n",
        "HF_TOKEN = os.environ.get(\"HF_TOKEN\", \"\")\n",
        "if not HF_TOKEN:\n",
        "    raise ValueError(\n",
        "        \"HF_TOKEN environment variable is required. \"\n",
        "        \"Please set it in your .env file or export it before running this notebook.\"\n",
        "    )\n",
        "\n",
        "# Load ScaleDown API key  \n",
        "SCALEDOWN_API_KEY = os.environ.get(\"SCALEDOWN_API_KEY\", \"\")\n",
        "if not SCALEDOWN_API_KEY:\n",
        "    raise ValueError(\n",
        "        \"SCALEDOWN_API_KEY environment variable is required. \"\n",
        "        \"Please set it in your .env file or export it before running this notebook.\"\n",
        "    )\n",
        "\n",
        "print(\"✓ API keys loaded successfully from environment variables\")\n",
        "print(f\"✓ HF_TOKEN: {HF_TOKEN[:10]}...\" if len(HF_TOKEN) > 10 else \"✓ HF_TOKEN loaded\")\n",
        "print(f\"✓ SCALEDOWN_API_KEY: {SCALEDOWN_API_KEY[:10]}...\" if len(SCALEDOWN_API_KEY) > 10 else \"✓ SCALEDOWN_API_KEY loaded\")"
      ]
    },
    {
      "cell_type": "code",
      "execution_count": null,
      "metadata": {
        "colab": {
          "base_uri": "https://localhost:8080/",
          "height": 373,
          "referenced_widgets": [
            "245083aa4aef49ddbf9b790c0bf8dd6c",
            "a1e31a2696424b548f7d09c1dfcf0d76",
            "26c8bd666d4a4c48b60c14463efc0ab8",
            "35bea27c0536455fa704147fe1924cd6",
            "20070c4b9bb44da8befe67a70c3bd32c",
            "a59507b1646f4cb28e65d11fc047ccd8",
            "7c26b3717c3b4840be60270a37e0972a",
            "3c1e6764bae245739eac900833707447",
            "6c37a74fed5042edb847e1f419bfc439",
            "6e9fbb70564c469b89c0cdda4f634f99",
            "7d537e57f8714f24a4f3c480be1e0021",
            "f972586a16f84b48b7d87466c2d4339b",
            "89a17592c18f4af290fdb509c9ada6c3",
            "57ed2fae54e04e288741d08a803ad03d",
            "8890a0fe3d2d4d6db5c1263f5578ec8c",
            "a4decd256a6044429693f8bd6df38a91",
            "78cb1cc5ba7541cbbe13bfa30c813ff3",
            "bec6edbcc420403fbba17a377dbaac8b",
            "07f953a01ded42969d6f4a77ed032850",
            "6ae00f0b75a745368c438506d5600758",
            "55c669846aa24eac8e5593bc66f69edc",
            "72c8a00ba9b9401385c606e4941feba8",
            "952b60761dd04fa7924281eeecf8efc4",
            "d1ae628611104695994e2d72f7cfea70",
            "a80dd46516424d0c84f0c53cf2fa3218",
            "4904f0bf07b148a2855e82e26e9568c2",
            "c4e5b5bfb63140c2b8586c6c70f2f1b0",
            "360e8734c9f2488d863d80b000e2716d",
            "0a7fc796c21442138af32f559934562d",
            "148f2bfb5f884e32972d2229239d598b",
            "3bc825034e98411884b72790a009f68f",
            "a15c69e69e4c4f79b7054091d6eb95b7",
            "1550f0e80d254bd090f8aeefa7bf4272",
            "8e9f260dafe244e596f9718c9b42a13c",
            "1a157c8d5a754c81a35541c5c5b42bd8",
            "2f66924860504e98ac048fd605fc6f6b",
            "6503de1e717546d08f0217d92f0971da",
            "b518ba35b4fb47d5b3f7ca5208ee6822",
            "2937b42fba4c4e6ca5de1b075e391719",
            "36620307a76149fdbd597916de0edc1f",
            "b19610146f304d54b4466312a9b82638",
            "a3bac0b2e55c4ab1a27b1d79c85a3483",
            "498d3ea6fb09406394efccc317448a15",
            "9c6d0da31a1e467ca41cb62da319e1d8",
            "745d54b07a114ff5b60e5327aaada156",
            "7c19df58ecf84010ada6153e6019966c",
            "32870eed2d5245cd8b0b1eb62757a2df",
            "b4f25d9387604ccfa5244abd798c929c",
            "14f9e9b8fa71414d82ba4bb0c89c709f",
            "efdc4c776b224158aa70fecd3f370805",
            "f30d8c51a9ee4bc1a453e4c8a3e489f5",
            "8b71d09620464e73953946838a362144",
            "41073decfe4747d3a1ba145fa83ba8a0",
            "a26739ca5e44460298595201852e3f68",
            "4610a4453b3b44bd8b19a75974a7e1c4"
          ]
        },
        "id": "EKz6QVvREqgb",
        "outputId": "89435c03-1400-4892-9125-b045d1b6dd8a"
      },
      "outputs": [
        {
          "name": "stderr",
          "output_type": "stream",
          "text": [
            "/home/ubuntu/HallucinationVectorProject/venv/lib/python3.10/site-packages/tqdm/auto.py:21: TqdmWarning: IProgress not found. Please update jupyter and ipywidgets. See https://ipywidgets.readthedocs.io/en/stable/user_install.html\n",
            "  from .autonotebook import tqdm as notebook_tqdm\n"
          ]
        },
        {
          "name": "stdout",
          "output_type": "stream",
          "text": [
            "🦥 Unsloth: Will patch your computer to enable 2x faster free finetuning.\n",
            "🦥 Unsloth Zoo will now patch everything to make training faster!\n",
            "🦥 Unsloth Zoo will now patch everything to make training faster!\n",
            "Initial GPU memory:\n",
            "  GPU 0: 0.0GB allocated, 0.0GB reserved, 39.5GB total\n",
            "  GPU 1: 0.0GB allocated, 0.0GB reserved, 39.5GB total\n",
            "  GPU 2: 0.0GB allocated, 0.0GB reserved, 39.5GB total\n",
            "  GPU 3: 0.0GB allocated, 0.0GB reserved, 39.5GB total\n",
            "  GPU 4: 0.0GB allocated, 0.0GB reserved, 39.5GB total\n",
            "  GPU 5: 0.0GB allocated, 0.0GB reserved, 39.5GB total\n",
            "  GPU 6: 0.0GB allocated, 0.0GB reserved, 39.5GB total\n",
            "  GPU 7: 0.0GB allocated, 0.0GB reserved, 39.5GB total\n",
            "Loading unsloth/Meta-Llama-3.1-70B-Instruct (bf16) across 8 GPUs...\n",
            "Initial GPU memory:\n",
            "  GPU 0: 0.0GB allocated, 0.0GB reserved, 39.5GB total\n",
            "  GPU 1: 0.0GB allocated, 0.0GB reserved, 39.5GB total\n",
            "  GPU 2: 0.0GB allocated, 0.0GB reserved, 39.5GB total\n",
            "  GPU 3: 0.0GB allocated, 0.0GB reserved, 39.5GB total\n",
            "  GPU 4: 0.0GB allocated, 0.0GB reserved, 39.5GB total\n",
            "  GPU 5: 0.0GB allocated, 0.0GB reserved, 39.5GB total\n",
            "  GPU 6: 0.0GB allocated, 0.0GB reserved, 39.5GB total\n",
            "  GPU 7: 0.0GB allocated, 0.0GB reserved, 39.5GB total\n",
            "Loading unsloth/Meta-Llama-3.1-70B-Instruct (bf16) across 8 GPUs...\n",
            "Unsloth: WARNING `trust_remote_code` is True.\n",
            "Are you certain you want to do remote code execution?\n",
            "==((====))==  Unsloth 2025.10.1: Fast Llama patching. Transformers: 4.56.2.\n",
            "   \\\\   /|    NVIDIA A100-SXM4-40GB. Num GPUs = 8. Max memory: 39.495 GB. Platform: Linux.\n",
            "O^O/ \\_/ \\    Torch: 2.8.0+cu128. CUDA: 8.0. CUDA Toolkit: 12.8. Triton: 3.4.0\n",
            "\\        /    Bfloat16 = TRUE. FA [Xformers = 0.0.32.post2. FA2 = False]\n",
            " \"-____-\"     Free license: http://github.com/unslothai/unsloth\n",
            "Unsloth: Fast downloading is enabled - ignore downloading bars which are red colored!\n",
            "Unsloth: WARNING `trust_remote_code` is True.\n",
            "Are you certain you want to do remote code execution?\n",
            "==((====))==  Unsloth 2025.10.1: Fast Llama patching. Transformers: 4.56.2.\n",
            "   \\\\   /|    NVIDIA A100-SXM4-40GB. Num GPUs = 8. Max memory: 39.495 GB. Platform: Linux.\n",
            "O^O/ \\_/ \\    Torch: 2.8.0+cu128. CUDA: 8.0. CUDA Toolkit: 12.8. Triton: 3.4.0\n",
            "\\        /    Bfloat16 = TRUE. FA [Xformers = 0.0.32.post2. FA2 = False]\n",
            " \"-____-\"     Free license: http://github.com/unslothai/unsloth\n",
            "Unsloth: Fast downloading is enabled - ignore downloading bars which are red colored!\n"
          ]
        },
        {
          "name": "stderr",
          "output_type": "stream",
          "text": [
            "Loading checkpoint shards: 100%|██████████| 30/30 [00:30<00:00,  1.01s/it]\n",
            "\n"
          ]
        },
        {
          "name": "stdout",
          "output_type": "stream",
          "text": [
            "✓ Model loaded.\n",
            "  device_map: auto (sharded on 8 GPUs)\n",
            "  dtype: torch.bfloat16    max_seq_length: 4096\n",
            "Post-load GPU memory:\n",
            "  GPU 0: 16.3GB allocated, 16.3GB reserved, 39.5GB total\n",
            "  GPU 1: 17.5GB allocated, 17.6GB reserved, 39.5GB total\n",
            "  GPU 2: 17.5GB allocated, 17.6GB reserved, 39.5GB total\n",
            "  GPU 3: 17.5GB allocated, 17.6GB reserved, 39.5GB total\n",
            "  GPU 4: 17.5GB allocated, 17.6GB reserved, 39.5GB total\n",
            "  GPU 5: 17.5GB allocated, 17.6GB reserved, 39.5GB total\n",
            "  GPU 6: 17.5GB allocated, 17.6GB reserved, 39.5GB total\n",
            "  GPU 7: 10.0GB allocated, 10.0GB reserved, 39.5GB total\n"
          ]
        }
      ],
      "source": [
        "import os, torch\n",
        "from unsloth import FastLanguageModel\n",
        "\n",
        "os.environ[\"UNSLOTH_STABLE_DOWNLOADS\"] = \"1\"\n",
        "\n",
        "def print_gpu_memory():\n",
        "    if torch.cuda.is_available():\n",
        "        allocated = torch.cuda.memory_allocated(0) / 1024**3\n",
        "        reserved = torch.cuda.memory_reserved(0) / 1024**3\n",
        "        total = torch.cuda.get_device_properties(0).total_memory / 1024**3\n",
        "        print(f\"  GPU 0: {allocated:.1f}GB allocated, {reserved:.1f}GB reserved, {total:.1f}GB total\")\n",
        "\n",
        "HF_TOKEN = os.environ.get(\"HF_TOKEN\")\n",
        "assert HF_TOKEN, \"Set HF_TOKEN in your env first (export HF_TOKEN=...)\"\n",
        "\n",
        "print(\"Initial GPU memory:\")\n",
        "print_gpu_memory()\n",
        "\n",
        "max_seq_length = 4096\n",
        "model_name = \"unsloth/Meta-Llama-3.1-8B-Instruct\"\n",
        "\n",
        "print(f\"Loading {model_name} (bfloat16) on single GPU...\")\n",
        "\n",
        "model, tokenizer = FastLanguageModel.from_pretrained(\n",
        "    model_name         = model_name,\n",
        "    max_seq_length     = max_seq_length,\n",
        "    dtype              = torch.bfloat16,\n",
        "    load_in_4bit       = False,\n",
        "    token              = HF_TOKEN,          \n",
        "    trust_remote_code  = True,\n",
        ")\n",
        "\n",
        "model = FastLanguageModel.for_inference(model)\n",
        "model.gradient_checkpointing_disable()\n",
        "model.config.gradient_checkpointing = False\n",
        "model.config.use_cache = True\n",
        "model.eval()\n",
        "\n",
        "print(\"✓ Model loaded successfully.\")\n",
        "print(f\"  Device: {model.device}\")\n",
        "print(f\"  Model dtype: {model.dtype}\")\n",
        "print(f\"  Max sequence length: {max_seq_length}\")\n",
        "print(\"Post-load GPU memory:\")\n",
        "print_gpu_memory()\n"
      ]
    },
    {
      "cell_type": "markdown",
      "metadata": {
        "id": "ckerKt7WdhsZ"
      },
      "source": [
        "# Phase 1: Dataset Generation and Labeling\n",
        "\n",
        "## Overall Objective:\n",
        "To programmatically generate a large, high-quality dataset of approximately 2000 labeled examples. Each example will consist of a prompt, a model-generated answer, and a binary label (1 for hallucination, 0 for correct) determined by a Gemini LLM judge. The final artifact of this phase will be a CSV file, squad_labeled_answers.csv, stored in Google Drive.\n",
        "\n",
        "\n",
        "## Methodology Overview:\n",
        "We will use the [SQuAD dataset](https://huggingface.co/datasets/rajpurkar/squad) as our source of truth. For each sampled entry, we will ask our 4-bit Llama 3 model to answer a question based only on the provided context. A specialized LLM judge will then compare the model's answer to the context and the ground-truth answer to determine if any unsupported information was fabricated (i.e., hallucinated).\n",
        "\n",
        "This data is needed to train the logistic regression model for calculating hallucination risks for user prompts."
      ]
    },
    {
      "cell_type": "code",
      "execution_count": 6,
      "metadata": {
        "colab": {
          "base_uri": "https://localhost:8080/"
        },
        "id": "nuQEQY4UEsWp",
        "outputId": "4ead0816-649f-4bd6-9f32-9bbc73886f89"
      },
      "outputs": [
        {
          "name": "stdout",
          "output_type": "stream",
          "text": [
            "Loading SQuAD dataset...\n"
          ]
        },
        {
          "name": "stderr",
          "output_type": "stream",
          "text": [
            "Generating train split: 100%|██████████| 87599/87599 [00:00<00:00, 712285.56 examples/s]\n",
            "Generating train split: 100%|██████████| 87599/87599 [00:00<00:00, 712285.56 examples/s]\n",
            "Generating validation split: 100%|██████████| 10570/10570 [00:00<00:00, 479051.20 examples/s]\n",
            "\n"
          ]
        },
        {
          "name": "stdout",
          "output_type": "stream",
          "text": [
            "Full dataset loaded with 87599 rows.\n"
          ]
        }
      ],
      "source": [
        "# Import libraries\n",
        "import pandas as pd\n",
        "from datasets import load_dataset\n",
        "from tqdm.auto import tqdm\n",
        "import numpy as np\n",
        "\n",
        "# --- 1. Load the SQuAD dataset ---\n",
        "print(\"Loading SQuAD dataset...\")\n",
        "squad_dataset = load_dataset(\"squad\", split=\"train\")\n",
        "squad_df = squad_dataset.to_pandas()\n",
        "print(f\"Full dataset loaded with {len(squad_df)} rows.\")\n"
      ]
    },
    {
      "cell_type": "code",
      "execution_count": 7,
      "metadata": {
        "colab": {
          "base_uri": "https://localhost:8080/"
        },
        "id": "EKiVfalYF7-L",
        "outputId": "c6d7776c-714c-4bb4-a7a5-da864f42c2f4"
      },
      "outputs": [
        {
          "name": "stdout",
          "output_type": "stream",
          "text": [
            "Using 2000 rows for our experiment.\n"
          ]
        }
      ],
      "source": [
        "# --- 2. Sample the data ---\n",
        "# We'll sample 2000 rows for our experiment\n",
        "N_SAMPLES = 2000\n",
        "if len(squad_df) > N_SAMPLES:\n",
        "    sampled_df = squad_df.sample(n=N_SAMPLES, random_state=42).reset_index(drop=True)\n",
        "else:\n",
        "    sampled_df = squad_df # Use full dataset if it's smaller\n",
        "\n",
        "print(f\"Using {len(sampled_df)} rows for our experiment.\")"
      ]
    },
    {
      "cell_type": "markdown",
      "metadata": {
        "id": "8kMoOygieelQ"
      },
      "source": [
        "## Strategy: The \"No-Context\" and \"Distractor-Context\" Methods\n",
        "\n",
        "To elicit varying responses that may or may not contain hallucination, instead of changing the instruction (original dataset prompt) to the model, we will change the information (context) we give it. We will create scenarios where the model is more likely to fail and invent an answer because the correct information is either missing or obscured. This is to elicit a mix of halluicnatory and non-hallucinatory responses to effectively train the logistic regression model.\n",
        "\n",
        "We generate our ~2,000 examples by creating a mix of three different scenarios for each SQuAD entry.\n",
        "\n",
        "### Scenario 1: Standard In-Context (The \"Easy\" Case - Generates our 0s)\n",
        "We pass in the prompt + context exactly as taken from the dataset. We do this for 50% (1000 prompts) of our dataset.\n",
        "\n",
        "`FULL_PROMPT = f\"Context:\\n{context}\\n\\nQuestion:\\n{question}\"`\n",
        "\n",
        "Outcome: The model answers correctly most of the time. This is the primary source of our negative examples (label 0).\n",
        "\n",
        "### Scenario 2: No-Context (The \"Hard\" Case - Designed to induce natural hallucinations)\n",
        "For a SQuAD entry, we deliberately withhold the context.\n",
        "\n",
        "`FULL_PROMPT = f\"Question:\\n{question}\"`\n",
        "\n",
        "Outcome: The model's internal knowledge might contain information about the question's topic, but it may be incorrect, incomplete, or subtly different from the SQuAD context's specific answer. Without the grounding context, it is now much more likely to generate a plausible-sounding but factually incorrect answer. This is a primary source of natural positive examples (label 1).\n",
        "\n",
        "\n",
        "### Scenario 3: Distractor-Context (The \"Tricky\" Case - Also induces natural hallucinations)\n",
        "For a SQuAD entry, we provide the correct question but pair it with a distractor context — a paragraph from a different, unrelated SQuAD article.\n",
        "\n",
        "`FULL_PROMPT = f\"Context:\\n{distractor_context}\\n\\nQuestion:\\n{question}\"`\n",
        "\n",
        "Outcome: The model is still instructed to answer from the context. However, the answer is not there. A well-behaved model should say \"I cannot find the answer in the context.\" A model prone to hallucination might try to synthesize an answer by blending its own knowledge with irrelevant information from the distractor context. This is another excellent source of natural positive examples (label 1).\n"
      ]
    },
    {
      "cell_type": "code",
      "execution_count": 8,
      "metadata": {
        "colab": {
          "base_uri": "https://localhost:8080/"
        },
        "id": "Jkzys_1yTZFB",
        "outputId": "cb1a7805-b524-434b-c968-676488495c20"
      },
      "outputs": [
        {
          "name": "stdout",
          "output_type": "stream",
          "text": [
            "Dataset prepared with distractor contexts. Sample:\n",
            "                                             context  \\\n",
            "0  The world's first institution of technology or...   \n",
            "1  The standard specifies how speed ratings shoul...   \n",
            "2  The most impressive and famous of Sumerian bui...   \n",
            "3  Ann Arbor has a council-manager form of govern...   \n",
            "4  Shortly before his death, when he was already ...   \n",
            "\n",
            "                                            question  \\\n",
            "0         What year was the Banská Akadémia founded?   \n",
            "1  What is another speed that can also be reporte...   \n",
            "2  Where were the use of advanced materials and t...   \n",
            "3           Who is elected every even numbered year?   \n",
            "4  What was the purpose of top secret ICBM commit...   \n",
            "\n",
            "                                  distractor_context  \n",
            "0  In 2007, the Marshall Islands joined the Inter...  \n",
            "1  Notre Dame's conference affiliations for all o...  \n",
            "2  Foxconn, Apple's manufacturer, initially denie...  \n",
            "3  While equal temperament became gradually accep...  \n",
            "4  Adolescence marks a rapid change in one's role...  \n",
            "\n",
            "Scenario distribution:\n",
            "scenario\n",
            "standard      1000\n",
            "no_context     500\n",
            "distractor     500\n",
            "Name: count, dtype: int64\n"
          ]
        }
      ],
      "source": [
        "# --- 3. Create a 'distractor_context' column ---\n",
        "# For each row, the distractor is a context from another random row.\n",
        "# We'll shuffle the context column and assign it.\n",
        "distractor_indices = np.random.permutation(sampled_df.index)\n",
        "sampled_df['distractor_context'] = sampled_df.loc[distractor_indices, 'context'].values\n",
        "\n",
        "print(\"Dataset prepared with distractor contexts. Sample:\")\n",
        "print(sampled_df[['context', 'question', 'distractor_context']].head())\n",
        "\n",
        "# --- 4. Assign a scenario to each row ---\n",
        "# We'll divide our 2000 samples into the three scenarios\n",
        "scenarios = []\n",
        "# 1000 for standard, 500 for no-context, 500 for distractor\n",
        "scenario_counts = {'standard': 1000, 'no_context': 500, 'distractor': 500}\n",
        "\n",
        "for scenario_type, count in scenario_counts.items():\n",
        "    scenarios.extend([scenario_type] * count)\n",
        "\n",
        "# Make sure the scenarios list matches the dataframe length\n",
        "sampled_df = sampled_df.iloc[:len(scenarios)].copy()\n",
        "sampled_df['scenario'] = scenarios\n",
        "\n",
        "print(\"\\nScenario distribution:\")\n",
        "print(sampled_df['scenario'].value_counts())"
      ]
    },
    {
      "cell_type": "markdown",
      "metadata": {
        "id": "oy45yv9Nfvml"
      },
      "source": [
        "## Define Generation and Judging Logic\n",
        "Define the functions that will generate an answer based on the scenario and get it judged by Gemini."
      ]
    },
    {
      "cell_type": "code",
      "execution_count": 9,
      "metadata": {
        "id": "ULvuin8RUq3i"
      },
      "outputs": [],
      "source": [
        "# --- 1. Define the prompt template and generation function ---\n",
        "SYSTEM_PROMPT = \"You are a helpful assistant. Answer the following question based ONLY on the provided context.\"\n",
        "\n",
        "def generate_squad_answer_multi_scenario(model, tokenizer, row):\n",
        "    \"\"\"\n",
        "    Generates an answer based on the scenario specified in the DataFrame row.\n",
        "    \"\"\"\n",
        "    scenario = row['scenario']\n",
        "    question = row['question']\n",
        "\n",
        "    context_to_use = \"\"\n",
        "    if scenario == 'standard':\n",
        "        context_to_use = row['context']\n",
        "    elif scenario == 'distractor':\n",
        "        context_to_use = row['distractor_context']\n",
        "    # For 'no_context', context_to_use remains an empty string\n",
        "\n",
        "    # Construct the user prompt\n",
        "    if context_to_use:\n",
        "        user_prompt = f\"Context:\\n{context_to_use}\\n\\nQuestion:\\n{question}\"\n",
        "    else:\n",
        "        user_prompt = f\"Question:\\n{question}\"\n",
        "\n",
        "    # Format into the Llama 3 chat template\n",
        "    messages = [\n",
        "        {\"role\": \"system\", \"content\": SYSTEM_PROMPT},\n",
        "        {\"role\": \"user\", \"content\": user_prompt}\n",
        "    ]\n",
        "    full_prompt_templated = tokenizer.apply_chat_template(messages, tokenize=False, add_generation_prompt=True)\n",
        "\n",
        "    # Generate the answer with proper device handling\n",
        "    inputs = tokenizer(full_prompt_templated, return_tensors=\"pt\", max_length=4096, truncation=True).to(model.device)\n",
        "    with torch.no_grad():\n",
        "        outputs = model.generate(\n",
        "            **inputs,\n",
        "            max_new_tokens=128,\n",
        "            do_sample=False,\n",
        "            pad_token_id=tokenizer.eos_token_id,\n",
        "            use_cache=True\n",
        "        )\n",
        "\n",
        "    response_text = tokenizer.decode(outputs[0][inputs['input_ids'].shape[1]:], skip_special_tokens=True)\n",
        "\n",
        "    # We return the templated prompt as well, as this is what the model actually sees\n",
        "    return response_text.strip(), full_prompt_templated"
      ]
    },
    {
      "cell_type": "code",
      "execution_count": 12,
      "metadata": {
        "id": "a0e_5Gg4UK1c"
      },
      "outputs": [],
      "source": [
        "import requests\n",
        "import json\n",
        "import time\n",
        "import os\n",
        "\n",
        "# --- 1. Define the Judge Prompt Template ---\n",
        "# This prompt is highly specific to our task and gives the judge all necessary info.\n",
        "JUDGE_PROMPT_TEMPLATE = \"\"\"\n",
        "You are an impartial judge evaluating a language model's answer for its faithfulness to a given context.\n",
        "Your task is to determine if the model's answer contains any fabricated information not supported by the context.\n",
        "\n",
        "Here is the provided context:\n",
        "<context>\n",
        "{context}\n",
        "</context>\n",
        "\n",
        "Here is the question that was asked:\n",
        "<question>\n",
        "{question}\n",
        "</question>\n",
        "\n",
        "Here is the ground-truth answer, which is known to be correct and derived from the context:\n",
        "<ground_truth_answer>\n",
        "{ground_truth_answer}\n",
        "</ground_truth_answer>\n",
        "\n",
        "Here is the language model's generated answer:\n",
        "<model_answer>\n",
        "{model_answer}\n",
        "</model_answer>\n",
        "\n",
        "**Your Task:**\n",
        "Carefully compare the <model_answer> against the <context>. Does the <model_answer> contain any facts, details, or claims that are NOT present in the <context>?\n",
        "Ignore minor differences in phrasing. If the model says it cannot find the answer, that is not a hallucination.\n",
        "\n",
        "Respond with only the word 'YES' if the model's answer contains fabricated information, or 'NO' if it is faithful to the context. Do not provide any explanation.\n",
        "\"\"\"\n",
        "\n",
        "# --- 2. Implement the Judge Function with retry logic ---\n",
        "def judge_squad_answer(context, question, model_answer, ground_truth_answer, api_key, max_retries=3):\n",
        "    \"\"\"\n",
        "    Gets a binary hallucination label from the Gemini API judge with retry logic.\n",
        "    Returns: 1 for hallucination ('YES'), 0 for faithful ('NO'), -1 for error.\n",
        "    \"\"\"\n",
        "    prompt = JUDGE_PROMPT_TEMPLATE.format(\n",
        "        context=context,\n",
        "        question=question,\n",
        "        model_answer=model_answer,\n",
        "        ground_truth_answer=ground_truth_answer\n",
        "    )\n",
        "\n",
        "    url = \"https://api.scaledown.xyz/compress/\"\n",
        "    payload = json.dumps({\n",
        "        \"context\": \"You are an impartial judge evaluating for hallucinations.\",\n",
        "        \"prompt\": prompt,\n",
        "        \"model\": \"gpt-4o\",\n",
        "        \"scaledown\": {\n",
        "          \"rate\": 0 # no compression\n",
        "        }\n",
        "    })\n",
        "    headers = {'x-api-key': api_key, 'Content-Type': 'application/json'}\n",
        "\n",
        "    for attempt in range(max_retries):\n",
        "        try:\n",
        "            response = requests.post(url, headers=headers, data=payload, timeout=30)\n",
        "            response.raise_for_status()\n",
        "\n",
        "            response_data = json.loads(response.text)\n",
        "            content = response_data.get(\"full_response\", \"\").strip().upper()\n",
        "\n",
        "            if 'YES' in content:\n",
        "                return 1\n",
        "            elif 'NO' in content:\n",
        "                return 0\n",
        "            else:\n",
        "                print(f\"Judge Warning: Unexpected response: {content}\")\n",
        "                return -1\n",
        "\n",
        "        except (requests.exceptions.RequestException, json.JSONDecodeError, KeyError) as e:\n",
        "            print(f\"ERROR on attempt {attempt + 1}/{max_retries}: {e}\")\n",
        "            if attempt < max_retries - 1:\n",
        "                wait_time = 2 ** attempt  # Exponential backoff\n",
        "                print(f\"Retrying in {wait_time} seconds...\")\n",
        "                time.sleep(wait_time)\n",
        "            else:\n",
        "                print(\"All retry attempts failed\")\n",
        "                return -1\n",
        "    \n",
        "    return -1"
      ]
    },
    {
      "cell_type": "markdown",
      "metadata": {
        "id": "qj5E88CWf5e8"
      },
      "source": [
        "Run the generation + judging loop and save results to Drive."
      ]
    },
    {
      "cell_type": "code",
      "execution_count": 13,
      "metadata": {
        "colab": {
          "base_uri": "https://localhost:8080/",
          "height": 1000,
          "referenced_widgets": [
            "301b32b34604450cba6227d2c612ea33",
            "3f36a54d08c1481fb0d77d20421e2f92",
            "e0318de1404a4a9fa1436afba86269cb",
            "13b9861eb1e14cc382392459632230c3",
            "2a6eafbfd58448a39cef408264109b39",
            "7b5f9d65e8a14ce3ab3336349fa88ed1",
            "57ec178a81084f9ebb44dcd2fc59e0c4",
            "18f99de0df1c4d0b998fea67197a4ace",
            "a99a9d79c38344e490cb52b1ff3bc96d",
            "d323a085905940408bab8308fd1a39ee",
            "cc2f958d7161415c87739cce12bac821"
          ]
        },
        "id": "ZeE7tcR3UHpi",
        "outputId": "33a7e580-11f4-42c8-b4b9-d94ed06e5927"
      },
      "outputs": [
        {
          "name": "stdout",
          "output_type": "stream",
          "text": [
            "Starting from scratch.\n"
          ]
        },
        {
          "name": "stderr",
          "output_type": "stream",
          "text": [
            "Generating & Judging:   0%|          | 4/2000 [04:40<38:51:08, 70.07s/it]\u001b[A\n",
            "\n"
          ]
        },
        {
          "name": "stdout",
          "output_type": "stream",
          "text": [
            "\n",
            "Saved through index 14. Total rows on disk: 15\n",
            "GPU: 131.9GB | ETA: 159.8min\n",
            "Current batch label counts:\n",
            "hallucination_label\n",
            "0    15\n",
            "Name: count, dtype: int64\n"
          ]
        },
        {
          "name": "stderr",
          "output_type": "stream",
          "text": [
            "Generating & Judging:   1%|          | 16/2000 [01:14<2:05:54,  3.81s/it]\u001b[A"
          ]
        },
        {
          "name": "stdout",
          "output_type": "stream",
          "text": [
            "\n",
            "Saved through index 29. Total rows on disk: 30\n",
            "GPU: 131.9GB | ETA: 312.8min\n",
            "Current batch label counts:\n",
            "hallucination_label\n",
            "0    13\n",
            "1     2\n",
            "Name: count, dtype: int64\n"
          ]
        },
        {
          "name": "stderr",
          "output_type": "stream",
          "text": [
            "Generating & Judging:   2%|▏         | 31/2000 [02:26<2:53:15,  5.28s/it]\u001b[A"
          ]
        },
        {
          "name": "stdout",
          "output_type": "stream",
          "text": [
            "\n",
            "Saved through index 44. Total rows on disk: 45\n",
            "GPU: 131.9GB | ETA: 462.6min\n",
            "Current batch label counts:\n",
            "hallucination_label\n",
            "0    15\n",
            "Name: count, dtype: int64\n"
          ]
        },
        {
          "name": "stderr",
          "output_type": "stream",
          "text": [
            "Generating & Judging:   2%|▏         | 46/2000 [03:36<3:00:14,  5.53s/it]\u001b[A"
          ]
        },
        {
          "name": "stdout",
          "output_type": "stream",
          "text": [
            "\n",
            "Saved through index 59. Total rows on disk: 60\n",
            "GPU: 131.9GB | ETA: 606.9min\n",
            "Current batch label counts:\n",
            "hallucination_label\n",
            "0    15\n",
            "Name: count, dtype: int64\n"
          ]
        },
        {
          "name": "stderr",
          "output_type": "stream",
          "text": [
            "Generating & Judging:   3%|▎         | 61/2000 [04:46<2:21:18,  4.37s/it]\u001b[A"
          ]
        },
        {
          "name": "stdout",
          "output_type": "stream",
          "text": [
            "\n",
            "Saved through index 74. Total rows on disk: 75\n",
            "GPU: 131.9GB | ETA: 748.9min\n",
            "Current batch label counts:\n",
            "hallucination_label\n",
            "0    15\n",
            "Name: count, dtype: int64\n"
          ]
        },
        {
          "name": "stderr",
          "output_type": "stream",
          "text": [
            "Generating & Judging:   4%|▍         | 76/2000 [05:52<2:03:45,  3.86s/it]\u001b[A"
          ]
        },
        {
          "name": "stdout",
          "output_type": "stream",
          "text": [
            "\n",
            "Saved through index 89. Total rows on disk: 90\n",
            "GPU: 131.9GB | ETA: 874.7min\n",
            "Current batch label counts:\n",
            "hallucination_label\n",
            "0    15\n",
            "Name: count, dtype: int64\n"
          ]
        },
        {
          "name": "stderr",
          "output_type": "stream",
          "text": [
            "Generating & Judging:   5%|▍         | 91/2000 [07:10<4:37:06,  8.71s/it]\u001b[A"
          ]
        },
        {
          "name": "stdout",
          "output_type": "stream",
          "text": [
            "\n",
            "Saved through index 104. Total rows on disk: 105\n",
            "GPU: 131.9GB | ETA: 1032.3min\n",
            "Current batch label counts:\n",
            "hallucination_label\n",
            "0    15\n",
            "Name: count, dtype: int64\n"
          ]
        },
        {
          "name": "stderr",
          "output_type": "stream",
          "text": [
            "Generating & Judging:   5%|▌         | 106/2000 [08:12<2:09:51,  4.11s/it]\u001b[A"
          ]
        },
        {
          "name": "stdout",
          "output_type": "stream",
          "text": [
            "\n",
            "Saved through index 119. Total rows on disk: 120\n",
            "GPU: 131.9GB | ETA: 1143.7min\n",
            "Current batch label counts:\n",
            "hallucination_label\n",
            "0    14\n",
            "1     1\n",
            "Name: count, dtype: int64\n"
          ]
        },
        {
          "name": "stderr",
          "output_type": "stream",
          "text": [
            "Generating & Judging:   6%|▌         | 121/2000 [09:12<2:15:05,  4.31s/it]\u001b[A"
          ]
        },
        {
          "name": "stdout",
          "output_type": "stream",
          "text": [
            "\n",
            "Saved through index 134. Total rows on disk: 135\n",
            "GPU: 131.9GB | ETA: 1294.5min\n",
            "Current batch label counts:\n",
            "hallucination_label\n",
            "0    14\n",
            "1     1\n",
            "Name: count, dtype: int64\n"
          ]
        },
        {
          "name": "stderr",
          "output_type": "stream",
          "text": [
            "Generating & Judging:   7%|▋         | 136/2000 [10:30<2:48:43,  5.43s/it]\u001b[A"
          ]
        },
        {
          "name": "stdout",
          "output_type": "stream",
          "text": [
            "\n",
            "Saved through index 149. Total rows on disk: 150\n",
            "GPU: 131.9GB | ETA: 1417.2min\n",
            "Current batch label counts:\n",
            "hallucination_label\n",
            "0    15\n",
            "Name: count, dtype: int64\n"
          ]
        },
        {
          "name": "stderr",
          "output_type": "stream",
          "text": [
            "Generating & Judging:   8%|▊         | 151/2000 [11:32<1:41:22,  3.29s/it]\u001b[A"
          ]
        },
        {
          "name": "stdout",
          "output_type": "stream",
          "text": [
            "\n",
            "Saved through index 164. Total rows on disk: 165\n",
            "GPU: 131.9GB | ETA: 1526.4min\n",
            "Current batch label counts:\n",
            "hallucination_label\n",
            "0    15\n",
            "Name: count, dtype: int64\n"
          ]
        },
        {
          "name": "stderr",
          "output_type": "stream",
          "text": [
            "Generating & Judging:   8%|▊         | 166/2000 [12:32<1:46:58,  3.50s/it]\u001b[A"
          ]
        },
        {
          "name": "stdout",
          "output_type": "stream",
          "text": [
            "\n",
            "Saved through index 179. Total rows on disk: 180\n",
            "GPU: 131.9GB | ETA: 1634.0min\n",
            "Current batch label counts:\n",
            "hallucination_label\n",
            "0    15\n",
            "Name: count, dtype: int64\n"
          ]
        },
        {
          "name": "stderr",
          "output_type": "stream",
          "text": [
            "Generating & Judging:   9%|▉         | 181/2000 [13:31<1:42:04,  3.37s/it]\u001b[A"
          ]
        },
        {
          "name": "stdout",
          "output_type": "stream",
          "text": [
            "\n",
            "Saved through index 194. Total rows on disk: 195\n",
            "GPU: 131.9GB | ETA: 1733.7min\n",
            "Current batch label counts:\n",
            "hallucination_label\n",
            "0    15\n",
            "Name: count, dtype: int64\n"
          ]
        },
        {
          "name": "stderr",
          "output_type": "stream",
          "text": [
            "Generating & Judging:  10%|▉         | 196/2000 [14:28<1:58:23,  3.94s/it]\u001b[A"
          ]
        },
        {
          "name": "stdout",
          "output_type": "stream",
          "text": [
            "\n",
            "Saved through index 209. Total rows on disk: 210\n",
            "GPU: 131.9GB | ETA: 1846.1min\n",
            "Current batch label counts:\n",
            "hallucination_label\n",
            "0    15\n",
            "Name: count, dtype: int64\n"
          ]
        },
        {
          "name": "stderr",
          "output_type": "stream",
          "text": [
            "Generating & Judging:  11%|█         | 211/2000 [15:47<4:32:39,  9.14s/it]\u001b[A"
          ]
        },
        {
          "name": "stdout",
          "output_type": "stream",
          "text": [
            "\n",
            "Saved through index 224. Total rows on disk: 225\n",
            "GPU: 131.9GB | ETA: 2008.1min\n",
            "Current batch label counts:\n",
            "hallucination_label\n",
            "0    14\n",
            "1     1\n",
            "Name: count, dtype: int64\n"
          ]
        },
        {
          "name": "stderr",
          "output_type": "stream",
          "text": [
            "Generating & Judging:  11%|█▏        | 226/2000 [17:01<3:09:54,  6.42s/it]\u001b[A"
          ]
        },
        {
          "name": "stdout",
          "output_type": "stream",
          "text": [
            "\n",
            "Saved through index 239. Total rows on disk: 240\n",
            "GPU: 131.9GB | ETA: 2131.1min\n",
            "Current batch label counts:\n",
            "hallucination_label\n",
            "0    14\n",
            "1     1\n",
            "Name: count, dtype: int64\n"
          ]
        },
        {
          "name": "stderr",
          "output_type": "stream",
          "text": [
            "Generating & Judging:  12%|█▏        | 241/2000 [18:13<2:42:18,  5.54s/it]\u001b[A"
          ]
        },
        {
          "name": "stdout",
          "output_type": "stream",
          "text": [
            "\n",
            "Saved through index 254. Total rows on disk: 255\n",
            "GPU: 131.9GB | ETA: 2229.1min\n",
            "Current batch label counts:\n",
            "hallucination_label\n",
            "0    15\n",
            "Name: count, dtype: int64\n"
          ]
        },
        {
          "name": "stderr",
          "output_type": "stream",
          "text": [
            "Generating & Judging:  13%|█▎        | 256/2000 [19:15<2:00:26,  4.14s/it]\u001b[A"
          ]
        },
        {
          "name": "stdout",
          "output_type": "stream",
          "text": [
            "\n",
            "Saved through index 269. Total rows on disk: 270\n",
            "GPU: 131.9GB | ETA: 2335.5min\n",
            "Current batch label counts:\n",
            "hallucination_label\n",
            "0    14\n",
            "1     1\n",
            "Name: count, dtype: int64\n"
          ]
        },
        {
          "name": "stderr",
          "output_type": "stream",
          "text": [
            "Generating & Judging:  14%|█▎        | 271/2000 [20:29<3:18:39,  6.89s/it]\u001b[A"
          ]
        },
        {
          "name": "stdout",
          "output_type": "stream",
          "text": [
            "\n",
            "Saved through index 284. Total rows on disk: 285\n",
            "GPU: 131.9GB | ETA: 2471.8min\n",
            "Current batch label counts:\n",
            "hallucination_label\n",
            "0    15\n",
            "Name: count, dtype: int64\n"
          ]
        },
        {
          "name": "stderr",
          "output_type": "stream",
          "text": [
            "Generating & Judging:  14%|█▍        | 286/2000 [21:42<2:14:51,  4.72s/it]\u001b[A"
          ]
        },
        {
          "name": "stdout",
          "output_type": "stream",
          "text": [
            "\n",
            "Saved through index 299. Total rows on disk: 300\n",
            "GPU: 131.9GB | ETA: 2574.0min\n",
            "Current batch label counts:\n",
            "hallucination_label\n",
            "0    14\n",
            "1     1\n",
            "Name: count, dtype: int64\n"
          ]
        },
        {
          "name": "stderr",
          "output_type": "stream",
          "text": [
            "Generating & Judging:  15%|█▌        | 301/2000 [22:46<1:53:36,  4.01s/it]\u001b[A"
          ]
        },
        {
          "name": "stdout",
          "output_type": "stream",
          "text": [
            "\n",
            "Saved through index 314. Total rows on disk: 315\n",
            "GPU: 131.9GB | ETA: 2673.8min\n",
            "Current batch label counts:\n",
            "hallucination_label\n",
            "0    14\n",
            "1     1\n",
            "Name: count, dtype: int64\n"
          ]
        },
        {
          "name": "stderr",
          "output_type": "stream",
          "text": [
            "Generating & Judging:  16%|█▌        | 316/2000 [23:51<1:43:04,  3.67s/it]\u001b[A"
          ]
        },
        {
          "name": "stdout",
          "output_type": "stream",
          "text": [
            "\n",
            "Saved through index 329. Total rows on disk: 330\n",
            "GPU: 131.9GB | ETA: 2740.1min\n",
            "Current batch label counts:\n",
            "hallucination_label\n",
            "0    15\n",
            "Name: count, dtype: int64\n"
          ]
        },
        {
          "name": "stderr",
          "output_type": "stream",
          "text": [
            "Generating & Judging:  17%|█▋        | 331/2000 [24:41<1:53:48,  4.09s/it]\u001b[A"
          ]
        },
        {
          "name": "stdout",
          "output_type": "stream",
          "text": [
            "\n",
            "Saved through index 344. Total rows on disk: 345\n",
            "GPU: 131.9GB | ETA: 2852.0min\n",
            "Current batch label counts:\n",
            "hallucination_label\n",
            "0    13\n",
            "1     2\n",
            "Name: count, dtype: int64\n"
          ]
        },
        {
          "name": "stderr",
          "output_type": "stream",
          "text": [
            "Generating & Judging:  17%|█▋        | 346/2000 [25:54<2:27:00,  5.33s/it]\u001b[A"
          ]
        },
        {
          "name": "stdout",
          "output_type": "stream",
          "text": [
            "\n",
            "Saved through index 359. Total rows on disk: 360\n",
            "GPU: 131.9GB | ETA: 2938.8min\n",
            "Current batch label counts:\n",
            "hallucination_label\n",
            "0    14\n",
            "1     1\n",
            "Name: count, dtype: int64\n"
          ]
        },
        {
          "name": "stderr",
          "output_type": "stream",
          "text": [
            "Generating & Judging:  18%|█▊        | 361/2000 [27:00<2:20:41,  5.15s/it]\u001b[A"
          ]
        },
        {
          "name": "stdout",
          "output_type": "stream",
          "text": [
            "\n",
            "Saved through index 374. Total rows on disk: 375\n",
            "GPU: 131.9GB | ETA: 3023.2min\n",
            "Current batch label counts:\n",
            "hallucination_label\n",
            "0    15\n",
            "Name: count, dtype: int64\n"
          ]
        },
        {
          "name": "stderr",
          "output_type": "stream",
          "text": [
            "Generating & Judging:  19%|█▉        | 376/2000 [27:59<2:06:35,  4.68s/it]\u001b[A"
          ]
        },
        {
          "name": "stdout",
          "output_type": "stream",
          "text": [
            "\n",
            "Saved through index 389. Total rows on disk: 390\n",
            "GPU: 131.9GB | ETA: 3094.8min\n",
            "Current batch label counts:\n",
            "hallucination_label\n",
            "0    15\n",
            "Name: count, dtype: int64\n"
          ]
        },
        {
          "name": "stderr",
          "output_type": "stream",
          "text": [
            "Generating & Judging:  20%|█▉        | 391/2000 [28:51<1:21:39,  3.05s/it]\u001b[A"
          ]
        },
        {
          "name": "stdout",
          "output_type": "stream",
          "text": [
            "\n",
            "Saved through index 404. Total rows on disk: 405\n",
            "GPU: 131.9GB | ETA: 3213.5min\n",
            "Current batch label counts:\n",
            "hallucination_label\n",
            "0    14\n",
            "1     1\n",
            "Name: count, dtype: int64\n"
          ]
        },
        {
          "name": "stderr",
          "output_type": "stream",
          "text": [
            "Generating & Judging:  20%|██        | 406/2000 [30:17<2:20:42,  5.30s/it]\u001b[A"
          ]
        },
        {
          "name": "stdout",
          "output_type": "stream",
          "text": [
            "\n",
            "Saved through index 419. Total rows on disk: 420\n",
            "GPU: 131.9GB | ETA: 3288.0min\n",
            "Current batch label counts:\n",
            "hallucination_label\n",
            "0    13\n",
            "1     2\n",
            "Name: count, dtype: int64\n"
          ]
        },
        {
          "name": "stderr",
          "output_type": "stream",
          "text": [
            "Generating & Judging:  21%|██        | 421/2000 [31:16<1:39:33,  3.78s/it]\u001b[A"
          ]
        },
        {
          "name": "stdout",
          "output_type": "stream",
          "text": [
            "\n",
            "Saved through index 434. Total rows on disk: 435\n",
            "GPU: 131.9GB | ETA: 3366.7min\n",
            "Current batch label counts:\n",
            "hallucination_label\n",
            "0    15\n",
            "Name: count, dtype: int64\n"
          ]
        },
        {
          "name": "stderr",
          "output_type": "stream",
          "text": [
            "Generating & Judging:  22%|██▏       | 436/2000 [32:21<1:56:41,  4.48s/it]\u001b[A"
          ]
        },
        {
          "name": "stdout",
          "output_type": "stream",
          "text": [
            "\n",
            "Saved through index 449. Total rows on disk: 450\n",
            "GPU: 131.9GB | ETA: 3428.0min\n",
            "Current batch label counts:\n",
            "hallucination_label\n",
            "0    15\n",
            "Name: count, dtype: int64\n"
          ]
        },
        {
          "name": "stderr",
          "output_type": "stream",
          "text": [
            "Generating & Judging:  23%|██▎       | 451/2000 [33:13<1:27:19,  3.38s/it]\u001b[A"
          ]
        },
        {
          "name": "stdout",
          "output_type": "stream",
          "text": [
            "\n",
            "Saved through index 464. Total rows on disk: 465\n",
            "GPU: 131.9GB | ETA: 3491.3min\n",
            "Current batch label counts:\n",
            "hallucination_label\n",
            "0    15\n",
            "Name: count, dtype: int64\n"
          ]
        },
        {
          "name": "stderr",
          "output_type": "stream",
          "text": [
            "Generating & Judging:  23%|██▎       | 466/2000 [34:09<1:25:32,  3.35s/it]\u001b[A"
          ]
        },
        {
          "name": "stdout",
          "output_type": "stream",
          "text": [
            "\n",
            "Saved through index 479. Total rows on disk: 480\n",
            "GPU: 131.9GB | ETA: 3551.8min\n",
            "Current batch label counts:\n",
            "hallucination_label\n",
            "0    15\n",
            "Name: count, dtype: int64\n"
          ]
        },
        {
          "name": "stderr",
          "output_type": "stream",
          "text": [
            "Generating & Judging:  24%|██▍       | 481/2000 [35:08<1:52:12,  4.43s/it]\u001b[A"
          ]
        },
        {
          "name": "stdout",
          "output_type": "stream",
          "text": [
            "\n",
            "Saved through index 494. Total rows on disk: 495\n",
            "GPU: 131.9GB | ETA: 3618.6min\n",
            "Current batch label counts:\n",
            "hallucination_label\n",
            "0    15\n",
            "Name: count, dtype: int64\n"
          ]
        },
        {
          "name": "stderr",
          "output_type": "stream",
          "text": [
            "Generating & Judging:  25%|██▍       | 496/2000 [36:07<1:27:18,  3.48s/it]\u001b[A"
          ]
        },
        {
          "name": "stdout",
          "output_type": "stream",
          "text": [
            "\n",
            "Saved through index 509. Total rows on disk: 510\n",
            "GPU: 131.9GB | ETA: 3682.6min\n",
            "Current batch label counts:\n",
            "hallucination_label\n",
            "0    14\n",
            "1     1\n",
            "Name: count, dtype: int64\n"
          ]
        },
        {
          "name": "stderr",
          "output_type": "stream",
          "text": [
            "Generating & Judging:  26%|██▌       | 511/2000 [37:08<1:44:07,  4.20s/it]\u001b[A"
          ]
        },
        {
          "name": "stdout",
          "output_type": "stream",
          "text": [
            "\n",
            "Saved through index 524. Total rows on disk: 525\n",
            "GPU: 131.9GB | ETA: 3742.4min\n",
            "Current batch label counts:\n",
            "hallucination_label\n",
            "0    14\n",
            "1     1\n",
            "Name: count, dtype: int64\n"
          ]
        },
        {
          "name": "stderr",
          "output_type": "stream",
          "text": [
            "Generating & Judging:  26%|██▋       | 526/2000 [38:07<1:29:16,  3.63s/it]\u001b[A"
          ]
        },
        {
          "name": "stdout",
          "output_type": "stream",
          "text": [
            "\n",
            "Saved through index 539. Total rows on disk: 540\n",
            "GPU: 131.9GB | ETA: 3808.8min\n",
            "Current batch label counts:\n",
            "hallucination_label\n",
            "0    15\n",
            "Name: count, dtype: int64\n"
          ]
        },
        {
          "name": "stderr",
          "output_type": "stream",
          "text": [
            "Generating & Judging:  27%|██▋       | 541/2000 [39:12<1:35:03,  3.91s/it]\u001b[A"
          ]
        },
        {
          "name": "stdout",
          "output_type": "stream",
          "text": [
            "\n",
            "Saved through index 554. Total rows on disk: 555\n",
            "GPU: 131.9GB | ETA: 3870.5min\n",
            "Current batch label counts:\n",
            "hallucination_label\n",
            "0    15\n",
            "Name: count, dtype: int64\n"
          ]
        },
        {
          "name": "stderr",
          "output_type": "stream",
          "text": [
            "Generating & Judging:  28%|██▊       | 556/2000 [40:14<1:25:40,  3.56s/it]\u001b[A"
          ]
        },
        {
          "name": "stdout",
          "output_type": "stream",
          "text": [
            "\n",
            "Saved through index 569. Total rows on disk: 570\n",
            "GPU: 131.9GB | ETA: 3929.6min\n",
            "Current batch label counts:\n",
            "hallucination_label\n",
            "0    15\n",
            "Name: count, dtype: int64\n"
          ]
        },
        {
          "name": "stderr",
          "output_type": "stream",
          "text": [
            "Generating & Judging:  29%|██▊       | 571/2000 [41:18<1:43:32,  4.35s/it]\u001b[A"
          ]
        },
        {
          "name": "stdout",
          "output_type": "stream",
          "text": [
            "\n",
            "Saved through index 584. Total rows on disk: 585\n",
            "GPU: 131.9GB | ETA: 3998.9min\n",
            "Current batch label counts:\n",
            "hallucination_label\n",
            "0    15\n",
            "Name: count, dtype: int64\n"
          ]
        },
        {
          "name": "stderr",
          "output_type": "stream",
          "text": [
            "Generating & Judging:  29%|██▉       | 586/2000 [42:26<1:37:48,  4.15s/it]\u001b[A"
          ]
        },
        {
          "name": "stdout",
          "output_type": "stream",
          "text": [
            "\n",
            "Saved through index 599. Total rows on disk: 600\n",
            "GPU: 131.8GB | ETA: 4036.9min\n",
            "Current batch label counts:\n",
            "hallucination_label\n",
            "0    15\n",
            "Name: count, dtype: int64\n"
          ]
        },
        {
          "name": "stderr",
          "output_type": "stream",
          "text": [
            "Generating & Judging:  30%|███       | 601/2000 [43:20<1:28:49,  3.81s/it]\u001b[A"
          ]
        },
        {
          "name": "stdout",
          "output_type": "stream",
          "text": [
            "\n",
            "Saved through index 614. Total rows on disk: 615\n",
            "GPU: 131.9GB | ETA: 4085.8min\n",
            "Current batch label counts:\n",
            "hallucination_label\n",
            "0    14\n",
            "1     1\n",
            "Name: count, dtype: int64\n"
          ]
        },
        {
          "name": "stderr",
          "output_type": "stream",
          "text": [
            "Generating & Judging:  31%|███       | 616/2000 [44:19<1:36:31,  4.18s/it]\u001b[A"
          ]
        },
        {
          "name": "stdout",
          "output_type": "stream",
          "text": [
            "\n",
            "Saved through index 629. Total rows on disk: 630\n",
            "GPU: 131.9GB | ETA: 4137.6min\n",
            "Current batch label counts:\n",
            "hallucination_label\n",
            "0    15\n",
            "Name: count, dtype: int64\n"
          ]
        },
        {
          "name": "stderr",
          "output_type": "stream",
          "text": [
            "Generating & Judging:  32%|███▏      | 631/2000 [45:22<1:29:27,  3.92s/it]\u001b[A"
          ]
        },
        {
          "name": "stdout",
          "output_type": "stream",
          "text": [
            "\n",
            "Saved through index 644. Total rows on disk: 645\n",
            "GPU: 131.9GB | ETA: 4190.3min\n",
            "Current batch label counts:\n",
            "hallucination_label\n",
            "0    15\n",
            "Name: count, dtype: int64\n"
          ]
        },
        {
          "name": "stderr",
          "output_type": "stream",
          "text": [
            "Generating & Judging:  32%|███▏      | 646/2000 [46:27<1:25:02,  3.77s/it]\u001b[A"
          ]
        },
        {
          "name": "stdout",
          "output_type": "stream",
          "text": [
            "\n",
            "Saved through index 659. Total rows on disk: 660\n",
            "GPU: 131.9GB | ETA: 4270.6min\n",
            "Current batch label counts:\n",
            "hallucination_label\n",
            "0    14\n",
            "1     1\n",
            "Name: count, dtype: int64\n"
          ]
        },
        {
          "name": "stderr",
          "output_type": "stream",
          "text": [
            "Generating & Judging:  33%|███▎      | 661/2000 [47:53<2:25:11,  6.51s/it]\u001b[A"
          ]
        },
        {
          "name": "stdout",
          "output_type": "stream",
          "text": [
            "\n",
            "Saved through index 674. Total rows on disk: 675\n",
            "GPU: 131.9GB | ETA: 4327.8min\n",
            "Current batch label counts:\n",
            "hallucination_label\n",
            "0    15\n",
            "Name: count, dtype: int64\n"
          ]
        },
        {
          "name": "stderr",
          "output_type": "stream",
          "text": [
            "Generating & Judging:  34%|███▍      | 676/2000 [49:04<1:47:57,  4.89s/it]\u001b[A"
          ]
        },
        {
          "name": "stdout",
          "output_type": "stream",
          "text": [
            "\n",
            "Saved through index 689. Total rows on disk: 690\n",
            "GPU: 131.9GB | ETA: 4371.8min\n",
            "Current batch label counts:\n",
            "hallucination_label\n",
            "0    15\n",
            "Name: count, dtype: int64\n"
          ]
        },
        {
          "name": "stderr",
          "output_type": "stream",
          "text": [
            "Generating & Judging:  35%|███▍      | 691/2000 [50:06<1:28:13,  4.04s/it]\u001b[A"
          ]
        },
        {
          "name": "stdout",
          "output_type": "stream",
          "text": [
            "\n",
            "Saved through index 704. Total rows on disk: 705\n",
            "GPU: 131.9GB | ETA: 4413.6min\n",
            "Current batch label counts:\n",
            "hallucination_label\n",
            "0    15\n",
            "Name: count, dtype: int64\n"
          ]
        },
        {
          "name": "stderr",
          "output_type": "stream",
          "text": [
            "Generating & Judging:  35%|███▌      | 706/2000 [51:12<1:43:03,  4.78s/it]\u001b[A"
          ]
        },
        {
          "name": "stdout",
          "output_type": "stream",
          "text": [
            "\n",
            "Saved through index 719. Total rows on disk: 720\n",
            "GPU: 131.9GB | ETA: 4465.8min\n",
            "Current batch label counts:\n",
            "hallucination_label\n",
            "0    15\n",
            "Name: count, dtype: int64\n"
          ]
        },
        {
          "name": "stderr",
          "output_type": "stream",
          "text": [
            "Generating & Judging:  36%|███▌      | 721/2000 [52:24<1:22:20,  3.86s/it]\u001b[A"
          ]
        },
        {
          "name": "stdout",
          "output_type": "stream",
          "text": [
            "\n",
            "Saved through index 734. Total rows on disk: 735\n",
            "GPU: 131.9GB | ETA: 4494.5min\n",
            "Current batch label counts:\n",
            "hallucination_label\n",
            "0    14\n",
            "1     1\n",
            "Name: count, dtype: int64\n"
          ]
        },
        {
          "name": "stderr",
          "output_type": "stream",
          "text": [
            "Generating & Judging:  37%|███▋      | 736/2000 [53:21<1:28:07,  4.18s/it]\u001b[A"
          ]
        },
        {
          "name": "stdout",
          "output_type": "stream",
          "text": [
            "\n",
            "Saved through index 749. Total rows on disk: 750\n",
            "GPU: 131.9GB | ETA: 4538.0min\n",
            "Current batch label counts:\n",
            "hallucination_label\n",
            "0    13\n",
            "1     2\n",
            "Name: count, dtype: int64\n"
          ]
        },
        {
          "name": "stderr",
          "output_type": "stream",
          "text": [
            "Generating & Judging:  38%|███▊      | 751/2000 [54:31<1:34:40,  4.55s/it]\u001b[A"
          ]
        },
        {
          "name": "stdout",
          "output_type": "stream",
          "text": [
            "\n",
            "Saved through index 764. Total rows on disk: 765\n",
            "GPU: 131.9GB | ETA: 4575.6min\n",
            "Current batch label counts:\n",
            "hallucination_label\n",
            "0    15\n",
            "Name: count, dtype: int64\n"
          ]
        },
        {
          "name": "stderr",
          "output_type": "stream",
          "text": [
            "Generating & Judging:  38%|███▊      | 766/2000 [55:44<2:17:44,  6.70s/it]\u001b[A"
          ]
        },
        {
          "name": "stdout",
          "output_type": "stream",
          "text": [
            "\n",
            "Saved through index 779. Total rows on disk: 780\n",
            "GPU: 131.9GB | ETA: 4618.9min\n",
            "Current batch label counts:\n",
            "hallucination_label\n",
            "0    15\n",
            "Name: count, dtype: int64\n"
          ]
        },
        {
          "name": "stderr",
          "output_type": "stream",
          "text": [
            "Generating & Judging:  39%|███▉      | 781/2000 [56:51<1:19:25,  3.91s/it]\u001b[A"
          ]
        },
        {
          "name": "stdout",
          "output_type": "stream",
          "text": [
            "\n",
            "Saved through index 794. Total rows on disk: 795\n",
            "GPU: 131.9GB | ETA: 4649.3min\n",
            "Current batch label counts:\n",
            "hallucination_label\n",
            "0    15\n",
            "Name: count, dtype: int64\n"
          ]
        },
        {
          "name": "stderr",
          "output_type": "stream",
          "text": [
            "Generating & Judging:  40%|███▉      | 796/2000 [57:55<1:12:53,  3.63s/it]\u001b[A"
          ]
        },
        {
          "name": "stdout",
          "output_type": "stream",
          "text": [
            "\n",
            "Saved through index 809. Total rows on disk: 810\n",
            "GPU: 131.9GB | ETA: 4691.2min\n",
            "Current batch label counts:\n",
            "hallucination_label\n",
            "0    14\n",
            "1     1\n",
            "Name: count, dtype: int64\n"
          ]
        },
        {
          "name": "stderr",
          "output_type": "stream",
          "text": [
            "Generating & Judging:  41%|████      | 811/2000 [59:12<1:40:38,  5.08s/it]\u001b[A"
          ]
        },
        {
          "name": "stdout",
          "output_type": "stream",
          "text": [
            "\n",
            "Saved through index 824. Total rows on disk: 825\n",
            "GPU: 131.9GB | ETA: 4714.5min\n",
            "Current batch label counts:\n",
            "hallucination_label\n",
            "0    13\n",
            "1     2\n",
            "Name: count, dtype: int64\n"
          ]
        },
        {
          "name": "stderr",
          "output_type": "stream",
          "text": [
            "Generating & Judging:  41%|████▏     | 826/2000 [1:00:16<1:37:56,  5.01s/it]\u001b[A"
          ]
        },
        {
          "name": "stdout",
          "output_type": "stream",
          "text": [
            "\n",
            "Saved through index 839. Total rows on disk: 840\n",
            "GPU: 131.9GB | ETA: 4742.1min\n",
            "Current batch label counts:\n",
            "hallucination_label\n",
            "0    15\n",
            "Name: count, dtype: int64\n"
          ]
        },
        {
          "name": "stderr",
          "output_type": "stream",
          "text": [
            "Generating & Judging:  42%|████▏     | 841/2000 [1:01:23<1:31:04,  4.72s/it]\u001b[A"
          ]
        },
        {
          "name": "stdout",
          "output_type": "stream",
          "text": [
            "\n",
            "Saved through index 854. Total rows on disk: 855\n",
            "GPU: 131.9GB | ETA: 4758.7min\n",
            "Current batch label counts:\n",
            "hallucination_label\n",
            "0    14\n",
            "1     1\n",
            "Name: count, dtype: int64\n"
          ]
        },
        {
          "name": "stderr",
          "output_type": "stream",
          "text": [
            "Generating & Judging:  43%|████▎     | 856/2000 [1:02:23<1:06:05,  3.47s/it]\u001b[A"
          ]
        },
        {
          "name": "stdout",
          "output_type": "stream",
          "text": [
            "\n",
            "Saved through index 869. Total rows on disk: 870\n",
            "GPU: 131.9GB | ETA: 4776.1min\n",
            "Current batch label counts:\n",
            "hallucination_label\n",
            "0    14\n",
            "1     1\n",
            "Name: count, dtype: int64\n"
          ]
        },
        {
          "name": "stderr",
          "output_type": "stream",
          "text": [
            "Generating & Judging:  44%|████▎     | 871/2000 [1:03:26<1:11:28,  3.80s/it]\u001b[A"
          ]
        },
        {
          "name": "stdout",
          "output_type": "stream",
          "text": [
            "\n",
            "Saved through index 884. Total rows on disk: 885\n",
            "GPU: 131.9GB | ETA: 4790.3min\n",
            "Current batch label counts:\n",
            "hallucination_label\n",
            "0    15\n",
            "Name: count, dtype: int64\n"
          ]
        },
        {
          "name": "stderr",
          "output_type": "stream",
          "text": [
            "Generating & Judging:  44%|████▍     | 886/2000 [1:04:30<1:28:56,  4.79s/it]\u001b[A"
          ]
        },
        {
          "name": "stdout",
          "output_type": "stream",
          "text": [
            "\n",
            "Saved through index 899. Total rows on disk: 900\n",
            "GPU: 131.9GB | ETA: 4792.2min\n",
            "Current batch label counts:\n",
            "hallucination_label\n",
            "0    15\n",
            "Name: count, dtype: int64\n"
          ]
        },
        {
          "name": "stderr",
          "output_type": "stream",
          "text": [
            "Generating & Judging:  45%|████▌     | 901/2000 [1:05:29<1:34:49,  5.18s/it]\u001b[A"
          ]
        },
        {
          "name": "stdout",
          "output_type": "stream",
          "text": [
            "\n",
            "Saved through index 914. Total rows on disk: 915\n",
            "GPU: 131.9GB | ETA: 4806.1min\n",
            "Current batch label counts:\n",
            "hallucination_label\n",
            "0    15\n",
            "Name: count, dtype: int64\n"
          ]
        },
        {
          "name": "stderr",
          "output_type": "stream",
          "text": [
            "Generating & Judging:  46%|████▌     | 916/2000 [1:06:28<1:08:45,  3.81s/it]\u001b[A"
          ]
        },
        {
          "name": "stdout",
          "output_type": "stream",
          "text": [
            "\n",
            "Saved through index 929. Total rows on disk: 930\n",
            "GPU: 131.9GB | ETA: 4801.6min\n",
            "Current batch label counts:\n",
            "hallucination_label\n",
            "0    15\n",
            "Name: count, dtype: int64\n"
          ]
        },
        {
          "name": "stderr",
          "output_type": "stream",
          "text": [
            "Generating & Judging:  47%|████▋     | 931/2000 [1:07:23<1:06:24,  3.73s/it]\u001b[A"
          ]
        },
        {
          "name": "stdout",
          "output_type": "stream",
          "text": [
            "\n",
            "Saved through index 944. Total rows on disk: 945\n",
            "GPU: 131.9GB | ETA: 4812.4min\n",
            "Current batch label counts:\n",
            "hallucination_label\n",
            "0    15\n",
            "Name: count, dtype: int64\n"
          ]
        },
        {
          "name": "stderr",
          "output_type": "stream",
          "text": [
            "Generating & Judging:  47%|████▋     | 946/2000 [1:08:31<1:30:04,  5.13s/it]\u001b[A"
          ]
        },
        {
          "name": "stdout",
          "output_type": "stream",
          "text": [
            "\n",
            "Saved through index 959. Total rows on disk: 960\n",
            "GPU: 131.9GB | ETA: 4815.7min\n",
            "Current batch label counts:\n",
            "hallucination_label\n",
            "0    15\n",
            "Name: count, dtype: int64\n"
          ]
        },
        {
          "name": "stderr",
          "output_type": "stream",
          "text": [
            "Generating & Judging:  48%|████▊     | 961/2000 [1:09:33<1:17:08,  4.46s/it]\u001b[A"
          ]
        },
        {
          "name": "stdout",
          "output_type": "stream",
          "text": [
            "\n",
            "Saved through index 974. Total rows on disk: 975\n",
            "GPU: 131.9GB | ETA: 4820.8min\n",
            "Current batch label counts:\n",
            "hallucination_label\n",
            "0    13\n",
            "1     2\n",
            "Name: count, dtype: int64\n"
          ]
        },
        {
          "name": "stderr",
          "output_type": "stream",
          "text": [
            "Generating & Judging:  49%|████▉     | 976/2000 [1:10:37<1:09:48,  4.09s/it]\u001b[A"
          ]
        },
        {
          "name": "stdout",
          "output_type": "stream",
          "text": [
            "\n",
            "Saved through index 989. Total rows on disk: 990\n",
            "GPU: 131.9GB | ETA: 4827.6min\n",
            "Current batch label counts:\n",
            "hallucination_label\n",
            "0    15\n",
            "Name: count, dtype: int64\n"
          ]
        },
        {
          "name": "stderr",
          "output_type": "stream",
          "text": [
            "Generating & Judging:  50%|████▉     | 991/2000 [1:11:48<1:32:09,  5.48s/it]\u001b[A"
          ]
        },
        {
          "name": "stdout",
          "output_type": "stream",
          "text": [
            "\n",
            "Saved through index 1004. Total rows on disk: 1005\n",
            "GPU: 131.8GB | ETA: 4820.3min\n",
            "Current batch label counts:\n",
            "hallucination_label\n",
            "0    12\n",
            "1     3\n",
            "Name: count, dtype: int64\n"
          ]
        },
        {
          "name": "stderr",
          "output_type": "stream",
          "text": [
            "Generating & Judging:  50%|█████     | 1006/2000 [1:12:43<57:36,  3.48s/it]\u001b[A"
          ]
        },
        {
          "name": "stdout",
          "output_type": "stream",
          "text": [
            "\n",
            "Saved through index 1019. Total rows on disk: 1020\n",
            "GPU: 131.8GB | ETA: 4879.2min\n",
            "Current batch label counts:\n",
            "hallucination_label\n",
            "0     3\n",
            "1    12\n",
            "Name: count, dtype: int64\n"
          ]
        },
        {
          "name": "stderr",
          "output_type": "stream",
          "text": [
            "Generating & Judging:  51%|█████     | 1021/2000 [1:14:45<1:53:53,  6.98s/it]\u001b[A"
          ]
        },
        {
          "name": "stdout",
          "output_type": "stream",
          "text": [
            "\n",
            "Saved through index 1034. Total rows on disk: 1035\n",
            "GPU: 131.8GB | ETA: 4882.2min\n",
            "Current batch label counts:\n",
            "hallucination_label\n",
            "0    6\n",
            "1    9\n",
            "Name: count, dtype: int64\n"
          ]
        },
        {
          "name": "stderr",
          "output_type": "stream",
          "text": [
            "Generating & Judging:  52%|█████▏    | 1036/2000 [1:16:11<2:15:19,  8.42s/it]\u001b[A"
          ]
        },
        {
          "name": "stdout",
          "output_type": "stream",
          "text": [
            "\n",
            "Saved through index 1049. Total rows on disk: 1050\n",
            "GPU: 131.8GB | ETA: 4931.0min\n",
            "Current batch label counts:\n",
            "hallucination_label\n",
            "0    6\n",
            "1    9\n",
            "Name: count, dtype: int64\n"
          ]
        },
        {
          "name": "stderr",
          "output_type": "stream",
          "text": [
            "Generating & Judging:  53%|█████▎    | 1051/2000 [1:18:07<2:10:14,  8.23s/it]\u001b[A"
          ]
        },
        {
          "name": "stdout",
          "output_type": "stream",
          "text": [
            "\n",
            "Saved through index 1064. Total rows on disk: 1065\n",
            "GPU: 131.8GB | ETA: 4964.2min\n",
            "Current batch label counts:\n",
            "hallucination_label\n",
            "0    6\n",
            "1    9\n",
            "Name: count, dtype: int64\n"
          ]
        },
        {
          "name": "stderr",
          "output_type": "stream",
          "text": [
            "Generating & Judging:  53%|█████▎    | 1066/2000 [1:19:41<1:40:46,  6.47s/it]\u001b[A"
          ]
        },
        {
          "name": "stdout",
          "output_type": "stream",
          "text": [
            "\n",
            "Saved through index 1079. Total rows on disk: 1080\n",
            "GPU: 131.8GB | ETA: 4960.2min\n",
            "Current batch label counts:\n",
            "hallucination_label\n",
            "0     4\n",
            "1    11\n",
            "Name: count, dtype: int64\n"
          ]
        },
        {
          "name": "stderr",
          "output_type": "stream",
          "text": [
            "Generating & Judging:  54%|█████▍    | 1081/2000 [1:20:55<1:05:45,  4.29s/it]\u001b[A"
          ]
        },
        {
          "name": "stdout",
          "output_type": "stream",
          "text": [
            "\n",
            "Saved through index 1094. Total rows on disk: 1095\n",
            "GPU: 131.8GB | ETA: 4955.8min\n",
            "Current batch label counts:\n",
            "hallucination_label\n",
            "0    8\n",
            "1    7\n",
            "Name: count, dtype: int64\n"
          ]
        },
        {
          "name": "stderr",
          "output_type": "stream",
          "text": [
            "Generating & Judging:  55%|█████▍    | 1096/2000 [1:22:12<1:31:08,  6.05s/it]\u001b[A"
          ]
        },
        {
          "name": "stdout",
          "output_type": "stream",
          "text": [
            "\n",
            "Saved through index 1109. Total rows on disk: 1110\n",
            "GPU: 131.8GB | ETA: 4998.1min\n",
            "Current batch label counts:\n",
            "hallucination_label\n",
            "0     3\n",
            "1    12\n",
            "Name: count, dtype: int64\n"
          ]
        },
        {
          "name": "stderr",
          "output_type": "stream",
          "text": [
            "Generating & Judging:  56%|█████▌    | 1111/2000 [1:24:32<2:56:32, 11.91s/it]\u001b[A"
          ]
        },
        {
          "name": "stdout",
          "output_type": "stream",
          "text": [
            "\n",
            "Saved through index 1124. Total rows on disk: 1125\n",
            "GPU: 131.8GB | ETA: 5050.3min\n",
            "Current batch label counts:\n",
            "hallucination_label\n",
            "0     4\n",
            "1    11\n",
            "Name: count, dtype: int64\n"
          ]
        },
        {
          "name": "stderr",
          "output_type": "stream",
          "text": [
            "Generating & Judging:  56%|█████▋    | 1126/2000 [1:26:41<2:35:09, 10.65s/it]\u001b[A"
          ]
        },
        {
          "name": "stdout",
          "output_type": "stream",
          "text": [
            "\n",
            "Saved through index 1139. Total rows on disk: 1140\n",
            "GPU: 131.8GB | ETA: 5025.7min\n",
            "Current batch label counts:\n",
            "hallucination_label\n",
            "0    11\n",
            "1     4\n",
            "Name: count, dtype: int64\n"
          ]
        },
        {
          "name": "stderr",
          "output_type": "stream",
          "text": [
            "Generating & Judging:  57%|█████▋    | 1141/2000 [1:27:43<1:03:27,  4.43s/it]\u001b[A"
          ]
        },
        {
          "name": "stdout",
          "output_type": "stream",
          "text": [
            "\n",
            "Saved through index 1154. Total rows on disk: 1155\n",
            "GPU: 131.8GB | ETA: 5027.8min\n",
            "Current batch label counts:\n",
            "hallucination_label\n",
            "0     5\n",
            "1    10\n",
            "Name: count, dtype: int64\n"
          ]
        },
        {
          "name": "stderr",
          "output_type": "stream",
          "text": [
            "Generating & Judging:  58%|█████▊    | 1156/2000 [1:29:21<2:07:21,  9.05s/it]\u001b[A"
          ]
        },
        {
          "name": "stdout",
          "output_type": "stream",
          "text": [
            "\n",
            "Saved through index 1169. Total rows on disk: 1170\n",
            "GPU: 131.8GB | ETA: 5004.9min\n",
            "Current batch label counts:\n",
            "hallucination_label\n",
            "0    6\n",
            "1    9\n",
            "Name: count, dtype: int64\n"
          ]
        },
        {
          "name": "stderr",
          "output_type": "stream",
          "text": [
            "Generating & Judging:  59%|█████▊    | 1171/2000 [1:30:30<59:32,  4.31s/it]  \u001b[A"
          ]
        },
        {
          "name": "stdout",
          "output_type": "stream",
          "text": [
            "\n",
            "Saved through index 1184. Total rows on disk: 1185\n",
            "GPU: 131.8GB | ETA: 5015.0min\n",
            "Current batch label counts:\n",
            "hallucination_label\n",
            "0    6\n",
            "1    9\n",
            "Name: count, dtype: int64\n"
          ]
        },
        {
          "name": "stderr",
          "output_type": "stream",
          "text": [
            "Generating & Judging:  59%|█████▉    | 1186/2000 [1:32:22<1:30:27,  6.67s/it]\u001b[A"
          ]
        },
        {
          "name": "stdout",
          "output_type": "stream",
          "text": [
            "\n",
            "Saved through index 1199. Total rows on disk: 1200\n",
            "GPU: 131.8GB | ETA: 4989.7min\n",
            "Current batch label counts:\n",
            "hallucination_label\n",
            "0    9\n",
            "1    6\n",
            "Name: count, dtype: int64\n"
          ]
        },
        {
          "name": "stderr",
          "output_type": "stream",
          "text": [
            "Generating & Judging:  60%|██████    | 1201/2000 [1:33:36<1:01:19,  4.60s/it]\u001b[A"
          ]
        },
        {
          "name": "stdout",
          "output_type": "stream",
          "text": [
            "\n",
            "Saved through index 1214. Total rows on disk: 1215\n",
            "GPU: 131.8GB | ETA: 4988.0min\n",
            "Current batch label counts:\n",
            "hallucination_label\n",
            "0    7\n",
            "1    8\n",
            "Name: count, dtype: int64\n"
          ]
        },
        {
          "name": "stderr",
          "output_type": "stream",
          "text": [
            "Generating & Judging:  61%|██████    | 1216/2000 [1:35:20<1:21:41,  6.25s/it]\u001b[A"
          ]
        },
        {
          "name": "stdout",
          "output_type": "stream",
          "text": [
            "\n",
            "Saved through index 1229. Total rows on disk: 1230\n",
            "GPU: 131.8GB | ETA: 4988.3min\n",
            "Current batch label counts:\n",
            "hallucination_label\n",
            "0    6\n",
            "1    9\n",
            "Name: count, dtype: int64\n"
          ]
        },
        {
          "name": "stderr",
          "output_type": "stream",
          "text": [
            "Generating & Judging:  62%|██████▏   | 1231/2000 [1:37:17<2:00:38,  9.41s/it]\u001b[A"
          ]
        },
        {
          "name": "stdout",
          "output_type": "stream",
          "text": [
            "\n",
            "Saved through index 1244. Total rows on disk: 1245\n",
            "GPU: 131.8GB | ETA: 4993.2min\n",
            "Current batch label counts:\n",
            "hallucination_label\n",
            "0     4\n",
            "1    11\n",
            "Name: count, dtype: int64\n"
          ]
        },
        {
          "name": "stderr",
          "output_type": "stream",
          "text": [
            "Generating & Judging:  62%|██████▏   | 1246/2000 [1:39:17<1:26:54,  6.92s/it]\u001b[A"
          ]
        },
        {
          "name": "stdout",
          "output_type": "stream",
          "text": [
            "\n",
            "Saved through index 1259. Total rows on disk: 1260\n",
            "GPU: 131.8GB | ETA: 4970.0min\n",
            "Current batch label counts:\n",
            "hallucination_label\n",
            "0    10\n",
            "1     5\n",
            "Name: count, dtype: int64\n"
          ]
        },
        {
          "name": "stderr",
          "output_type": "stream",
          "text": [
            "Generating & Judging:  63%|██████▎   | 1261/2000 [1:40:50<1:36:43,  7.85s/it]\u001b[A"
          ]
        },
        {
          "name": "stdout",
          "output_type": "stream",
          "text": [
            "\n",
            "Saved through index 1274. Total rows on disk: 1275\n",
            "GPU: 131.8GB | ETA: 4937.7min\n",
            "Current batch label counts:\n",
            "hallucination_label\n",
            "0    10\n",
            "1     5\n",
            "Name: count, dtype: int64\n"
          ]
        },
        {
          "name": "stderr",
          "output_type": "stream",
          "text": [
            "Generating & Judging:  64%|██████▍   | 1276/2000 [1:42:13<1:05:35,  5.44s/it]\u001b[A"
          ]
        },
        {
          "name": "stdout",
          "output_type": "stream",
          "text": [
            "\n",
            "Saved through index 1289. Total rows on disk: 1290\n",
            "GPU: 131.8GB | ETA: 4903.5min\n",
            "Current batch label counts:\n",
            "hallucination_label\n",
            "0    8\n",
            "1    7\n",
            "Name: count, dtype: int64\n"
          ]
        },
        {
          "name": "stderr",
          "output_type": "stream",
          "text": [
            "Generating & Judging:  65%|██████▍   | 1291/2000 [1:43:42<1:11:46,  6.07s/it]\u001b[A"
          ]
        },
        {
          "name": "stdout",
          "output_type": "stream",
          "text": [
            "\n",
            "Saved through index 1304. Total rows on disk: 1305\n",
            "GPU: 131.8GB | ETA: 4860.2min\n",
            "Current batch label counts:\n",
            "hallucination_label\n",
            "0     5\n",
            "1    10\n",
            "Name: count, dtype: int64\n"
          ]
        },
        {
          "name": "stderr",
          "output_type": "stream",
          "text": [
            "Generating & Judging:  65%|██████▌   | 1306/2000 [1:44:57<46:51,  4.05s/it]\u001b[A"
          ]
        },
        {
          "name": "stdout",
          "output_type": "stream",
          "text": [
            "\n",
            "Saved through index 1319. Total rows on disk: 1320\n",
            "GPU: 131.8GB | ETA: 4815.1min\n",
            "Current batch label counts:\n",
            "hallucination_label\n",
            "0    7\n",
            "1    8\n",
            "Name: count, dtype: int64\n"
          ]
        },
        {
          "name": "stderr",
          "output_type": "stream",
          "text": [
            "Generating & Judging:  66%|██████▌   | 1321/2000 [1:46:30<1:40:33,  8.89s/it]\u001b[A"
          ]
        },
        {
          "name": "stdout",
          "output_type": "stream",
          "text": [
            "\n",
            "Saved through index 1334. Total rows on disk: 1335\n",
            "GPU: 131.8GB | ETA: 4769.6min\n",
            "Current batch label counts:\n",
            "hallucination_label\n",
            "0     3\n",
            "1    12\n",
            "Name: count, dtype: int64\n"
          ]
        },
        {
          "name": "stderr",
          "output_type": "stream",
          "text": [
            "Generating & Judging:  67%|██████▋   | 1336/2000 [1:47:39<47:21,  4.28s/it]\u001b[A"
          ]
        },
        {
          "name": "stdout",
          "output_type": "stream",
          "text": [
            "\n",
            "Saved through index 1349. Total rows on disk: 1350\n",
            "GPU: 131.8GB | ETA: 4724.9min\n",
            "Current batch label counts:\n",
            "hallucination_label\n",
            "0     4\n",
            "1    11\n",
            "Name: count, dtype: int64\n"
          ]
        },
        {
          "name": "stderr",
          "output_type": "stream",
          "text": [
            "Generating & Judging:  68%|██████▊   | 1351/2000 [1:49:04<37:23,  3.46s/it]\u001b[A"
          ]
        },
        {
          "name": "stdout",
          "output_type": "stream",
          "text": [
            "\n",
            "Saved through index 1364. Total rows on disk: 1365\n",
            "GPU: 131.8GB | ETA: 4672.3min\n",
            "Current batch label counts:\n",
            "hallucination_label\n",
            "0    8\n",
            "1    7\n",
            "Name: count, dtype: int64\n"
          ]
        },
        {
          "name": "stderr",
          "output_type": "stream",
          "text": [
            "Generating & Judging:  68%|██████▊   | 1366/2000 [1:50:40<1:29:17,  8.45s/it]\u001b[A"
          ]
        },
        {
          "name": "stdout",
          "output_type": "stream",
          "text": [
            "\n",
            "Saved through index 1379. Total rows on disk: 1380\n",
            "GPU: 131.8GB | ETA: 4629.6min\n",
            "Current batch label counts:\n",
            "hallucination_label\n",
            "0    9\n",
            "1    6\n",
            "Name: count, dtype: int64\n"
          ]
        },
        {
          "name": "stderr",
          "output_type": "stream",
          "text": [
            "Generating & Judging:  69%|██████▉   | 1381/2000 [1:52:02<38:02,  3.69s/it]\u001b[A"
          ]
        },
        {
          "name": "stdout",
          "output_type": "stream",
          "text": [
            "\n",
            "Saved through index 1394. Total rows on disk: 1395\n",
            "GPU: 131.8GB | ETA: 4561.8min\n",
            "Current batch label counts:\n",
            "hallucination_label\n",
            "0    8\n",
            "1    7\n",
            "Name: count, dtype: int64\n"
          ]
        },
        {
          "name": "stderr",
          "output_type": "stream",
          "text": [
            "Generating & Judging:  70%|██████▉   | 1396/2000 [1:53:12<50:05,  4.98s/it]\u001b[A"
          ]
        },
        {
          "name": "stdout",
          "output_type": "stream",
          "text": [
            "\n",
            "Saved through index 1409. Total rows on disk: 1410\n",
            "GPU: 131.8GB | ETA: 4508.4min\n",
            "Current batch label counts:\n",
            "hallucination_label\n",
            "0    11\n",
            "1     4\n",
            "Name: count, dtype: int64\n"
          ]
        },
        {
          "name": "stderr",
          "output_type": "stream",
          "text": [
            "Generating & Judging:  71%|███████   | 1411/2000 [1:54:40<58:49,  5.99s/it]  \u001b[A"
          ]
        },
        {
          "name": "stdout",
          "output_type": "stream",
          "text": [
            "\n",
            "Saved through index 1424. Total rows on disk: 1425\n",
            "GPU: 131.8GB | ETA: 4460.0min\n",
            "Current batch label counts:\n",
            "hallucination_label\n",
            "0     4\n",
            "1    11\n",
            "Name: count, dtype: int64\n"
          ]
        },
        {
          "name": "stderr",
          "output_type": "stream",
          "text": [
            "Generating & Judging:  71%|███████▏  | 1426/2000 [1:56:23<1:00:57,  6.37s/it]\u001b[A"
          ]
        },
        {
          "name": "stdout",
          "output_type": "stream",
          "text": [
            "\n",
            "Saved through index 1439. Total rows on disk: 1440\n",
            "GPU: 131.8GB | ETA: 4404.1min\n",
            "Current batch label counts:\n",
            "hallucination_label\n",
            "0     5\n",
            "1    10\n",
            "Name: count, dtype: int64\n"
          ]
        },
        {
          "name": "stderr",
          "output_type": "stream",
          "text": [
            "Generating & Judging:  72%|███████▏  | 1441/2000 [1:58:04<1:17:03,  8.27s/it]\u001b[A"
          ]
        },
        {
          "name": "stdout",
          "output_type": "stream",
          "text": [
            "\n",
            "Saved through index 1454. Total rows on disk: 1455\n",
            "GPU: 131.8GB | ETA: 4329.6min\n",
            "Current batch label counts:\n",
            "hallucination_label\n",
            "0    7\n",
            "1    8\n",
            "Name: count, dtype: int64\n"
          ]
        },
        {
          "name": "stderr",
          "output_type": "stream",
          "text": [
            "Generating & Judging:  73%|███████▎  | 1456/2000 [1:59:12<35:16,  3.89s/it]\u001b[A"
          ]
        },
        {
          "name": "stdout",
          "output_type": "stream",
          "text": [
            "\n",
            "Saved through index 1469. Total rows on disk: 1470\n",
            "GPU: 131.8GB | ETA: 4257.8min\n",
            "Current batch label counts:\n",
            "hallucination_label\n",
            "0    7\n",
            "1    8\n",
            "Name: count, dtype: int64\n"
          ]
        },
        {
          "name": "stderr",
          "output_type": "stream",
          "text": [
            "Generating & Judging:  74%|███████▎  | 1471/2000 [2:00:33<37:15,  4.23s/it]\u001b[A"
          ]
        },
        {
          "name": "stdout",
          "output_type": "stream",
          "text": [
            "\n",
            "Saved through index 1484. Total rows on disk: 1485\n",
            "GPU: 131.8GB | ETA: 4206.7min\n",
            "Current batch label counts:\n",
            "hallucination_label\n",
            "0    6\n",
            "1    9\n",
            "Name: count, dtype: int64\n"
          ]
        },
        {
          "name": "stderr",
          "output_type": "stream",
          "text": [
            "Generating & Judging:  74%|███████▍  | 1486/2000 [2:02:37<57:21,  6.70s/it]  \u001b[A"
          ]
        },
        {
          "name": "stdout",
          "output_type": "stream",
          "text": [
            "\n",
            "Saved through index 1499. Total rows on disk: 1500\n",
            "GPU: 131.8GB | ETA: 4118.9min\n",
            "Current batch label counts:\n",
            "hallucination_label\n",
            "0    6\n",
            "1    9\n",
            "Name: count, dtype: int64\n"
          ]
        },
        {
          "name": "stderr",
          "output_type": "stream",
          "text": [
            "Generating & Judging:  75%|███████▌  | 1501/2000 [2:03:39<38:54,  4.68s/it]\u001b[A"
          ]
        },
        {
          "name": "stdout",
          "output_type": "stream",
          "text": [
            "\n",
            "Saved through index 1514. Total rows on disk: 1515\n",
            "GPU: 131.9GB | ETA: 4042.2min\n",
            "Current batch label counts:\n",
            "hallucination_label\n",
            "1    15\n",
            "Name: count, dtype: int64\n"
          ]
        },
        {
          "name": "stderr",
          "output_type": "stream",
          "text": [
            "Generating & Judging:  76%|███████▌  | 1516/2000 [2:05:05<48:34,  6.02s/it]\u001b[A"
          ]
        },
        {
          "name": "stdout",
          "output_type": "stream",
          "text": [
            "\n",
            "Saved through index 1529. Total rows on disk: 1530\n",
            "GPU: 131.9GB | ETA: 3955.9min\n",
            "Current batch label counts:\n",
            "hallucination_label\n",
            "0     1\n",
            "1    14\n",
            "Name: count, dtype: int64\n"
          ]
        },
        {
          "name": "stderr",
          "output_type": "stream",
          "text": [
            "Generating & Judging:  77%|███████▋  | 1531/2000 [2:06:18<36:40,  4.69s/it]\u001b[A"
          ]
        },
        {
          "name": "stdout",
          "output_type": "stream",
          "text": [
            "\n",
            "Saved through index 1544. Total rows on disk: 1545\n",
            "GPU: 131.9GB | ETA: 3872.8min\n",
            "Current batch label counts:\n",
            "hallucination_label\n",
            "1    15\n",
            "Name: count, dtype: int64\n"
          ]
        },
        {
          "name": "stderr",
          "output_type": "stream",
          "text": [
            "Generating & Judging:  77%|███████▋  | 1546/2000 [2:07:43<35:43,  4.72s/it]\u001b[A"
          ]
        },
        {
          "name": "stdout",
          "output_type": "stream",
          "text": [
            "\n",
            "Saved through index 1559. Total rows on disk: 1560\n",
            "GPU: 131.9GB | ETA: 3782.8min\n",
            "Current batch label counts:\n",
            "hallucination_label\n",
            "1    15\n",
            "Name: count, dtype: int64\n"
          ]
        },
        {
          "name": "stderr",
          "output_type": "stream",
          "text": [
            "Generating & Judging:  78%|███████▊  | 1561/2000 [2:09:04<44:53,  6.13s/it]\u001b[A"
          ]
        },
        {
          "name": "stdout",
          "output_type": "stream",
          "text": [
            "\n",
            "Saved through index 1574. Total rows on disk: 1575\n",
            "GPU: 131.9GB | ETA: 3693.0min\n",
            "Current batch label counts:\n",
            "hallucination_label\n",
            "1    15\n",
            "Name: count, dtype: int64\n"
          ]
        },
        {
          "name": "stderr",
          "output_type": "stream",
          "text": [
            "Generating & Judging:  79%|███████▉  | 1576/2000 [2:10:23<35:04,  4.96s/it]\u001b[A"
          ]
        },
        {
          "name": "stdout",
          "output_type": "stream",
          "text": [
            "\n",
            "Saved through index 1589. Total rows on disk: 1590\n",
            "GPU: 131.9GB | ETA: 3601.9min\n",
            "Current batch label counts:\n",
            "hallucination_label\n",
            "1    15\n",
            "Name: count, dtype: int64\n"
          ]
        },
        {
          "name": "stderr",
          "output_type": "stream",
          "text": [
            "Generating & Judging:  80%|███████▉  | 1591/2000 [2:11:53<41:06,  6.03s/it]\u001b[A"
          ]
        },
        {
          "name": "stdout",
          "output_type": "stream",
          "text": [
            "\n",
            "Saved through index 1604. Total rows on disk: 1605\n",
            "GPU: 131.9GB | ETA: 3507.2min\n",
            "Current batch label counts:\n",
            "hallucination_label\n",
            "1    15\n",
            "Name: count, dtype: int64\n"
          ]
        },
        {
          "name": "stderr",
          "output_type": "stream",
          "text": [
            "Generating & Judging:  80%|████████  | 1606/2000 [2:13:15<38:08,  5.81s/it]\u001b[A"
          ]
        },
        {
          "name": "stdout",
          "output_type": "stream",
          "text": [
            "\n",
            "Saved through index 1619. Total rows on disk: 1620\n",
            "GPU: 131.9GB | ETA: 3413.3min\n",
            "Current batch label counts:\n",
            "hallucination_label\n",
            "1    15\n",
            "Name: count, dtype: int64\n"
          ]
        },
        {
          "name": "stderr",
          "output_type": "stream",
          "text": [
            "Generating & Judging:  81%|████████  | 1621/2000 [2:14:50<46:48,  7.41s/it]\u001b[A"
          ]
        },
        {
          "name": "stdout",
          "output_type": "stream",
          "text": [
            "\n",
            "Saved through index 1634. Total rows on disk: 1635\n",
            "GPU: 131.9GB | ETA: 3313.5min\n",
            "Current batch label counts:\n",
            "hallucination_label\n",
            "0     2\n",
            "1    13\n",
            "Name: count, dtype: int64\n"
          ]
        },
        {
          "name": "stderr",
          "output_type": "stream",
          "text": [
            "Generating & Judging:  82%|████████▏ | 1636/2000 [2:16:15<30:21,  5.00s/it]\u001b[A"
          ]
        },
        {
          "name": "stdout",
          "output_type": "stream",
          "text": [
            "\n",
            "Saved through index 1649. Total rows on disk: 1650\n",
            "GPU: 131.9GB | ETA: 3208.5min\n",
            "Current batch label counts:\n",
            "hallucination_label\n",
            "1    15\n",
            "Name: count, dtype: int64\n"
          ]
        },
        {
          "name": "stderr",
          "output_type": "stream",
          "text": [
            "Generating & Judging:  83%|████████▎ | 1651/2000 [2:17:33<26:22,  4.53s/it]\u001b[A"
          ]
        },
        {
          "name": "stdout",
          "output_type": "stream",
          "text": [
            "\n",
            "Saved through index 1664. Total rows on disk: 1665\n",
            "GPU: 131.9GB | ETA: 3099.7min\n",
            "Current batch label counts:\n",
            "hallucination_label\n",
            "0     1\n",
            "1    14\n",
            "Name: count, dtype: int64\n"
          ]
        },
        {
          "name": "stderr",
          "output_type": "stream",
          "text": [
            "Generating & Judging:  83%|████████▎ | 1666/2000 [2:18:52<29:13,  5.25s/it]\u001b[A"
          ]
        },
        {
          "name": "stdout",
          "output_type": "stream",
          "text": [
            "\n",
            "Saved through index 1679. Total rows on disk: 1680\n",
            "GPU: 131.9GB | ETA: 2990.3min\n",
            "Current batch label counts:\n",
            "hallucination_label\n",
            "1    15\n",
            "Name: count, dtype: int64\n"
          ]
        },
        {
          "name": "stderr",
          "output_type": "stream",
          "text": [
            "Generating & Judging:  84%|████████▍ | 1681/2000 [2:20:16<33:27,  6.29s/it]\u001b[A"
          ]
        },
        {
          "name": "stdout",
          "output_type": "stream",
          "text": [
            "\n",
            "Saved through index 1694. Total rows on disk: 1695\n",
            "GPU: 131.9GB | ETA: 2877.6min\n",
            "Current batch label counts:\n",
            "hallucination_label\n",
            "1    15\n",
            "Name: count, dtype: int64\n"
          ]
        },
        {
          "name": "stderr",
          "output_type": "stream",
          "text": [
            "Generating & Judging:  85%|████████▍ | 1696/2000 [2:21:36<27:57,  5.52s/it]\u001b[A"
          ]
        },
        {
          "name": "stdout",
          "output_type": "stream",
          "text": [
            "\n",
            "Saved through index 1709. Total rows on disk: 1710\n",
            "GPU: 131.9GB | ETA: 2762.9min\n",
            "Current batch label counts:\n",
            "hallucination_label\n",
            "1    15\n",
            "Name: count, dtype: int64\n"
          ]
        },
        {
          "name": "stderr",
          "output_type": "stream",
          "text": [
            "Generating & Judging:  86%|████████▌ | 1711/2000 [2:22:59<25:59,  5.40s/it]\u001b[A"
          ]
        },
        {
          "name": "stdout",
          "output_type": "stream",
          "text": [
            "\n",
            "Saved through index 1724. Total rows on disk: 1725\n",
            "GPU: 131.9GB | ETA: 2643.3min\n",
            "Current batch label counts:\n",
            "hallucination_label\n",
            "0     1\n",
            "1    14\n",
            "Name: count, dtype: int64\n"
          ]
        },
        {
          "name": "stderr",
          "output_type": "stream",
          "text": [
            "Generating & Judging:  86%|████████▋ | 1726/2000 [2:24:17<23:19,  5.11s/it]\u001b[A"
          ]
        },
        {
          "name": "stdout",
          "output_type": "stream",
          "text": [
            "\n",
            "Saved through index 1739. Total rows on disk: 1740\n",
            "GPU: 131.9GB | ETA: 2523.7min\n",
            "Current batch label counts:\n",
            "hallucination_label\n",
            "1    15\n",
            "Name: count, dtype: int64\n"
          ]
        },
        {
          "name": "stderr",
          "output_type": "stream",
          "text": [
            "Generating & Judging:  87%|████████▋ | 1741/2000 [2:25:42<26:07,  6.05s/it]\u001b[A"
          ]
        },
        {
          "name": "stdout",
          "output_type": "stream",
          "text": [
            "\n",
            "Saved through index 1754. Total rows on disk: 1755\n",
            "GPU: 131.9GB | ETA: 2404.7min\n",
            "Current batch label counts:\n",
            "hallucination_label\n",
            "1    15\n",
            "Name: count, dtype: int64\n"
          ]
        },
        {
          "name": "stderr",
          "output_type": "stream",
          "text": [
            "Generating & Judging:  88%|████████▊ | 1756/2000 [2:27:18<23:16,  5.72s/it]\u001b[A"
          ]
        },
        {
          "name": "stdout",
          "output_type": "stream",
          "text": [
            "\n",
            "Saved through index 1769. Total rows on disk: 1770\n",
            "GPU: 132.0GB | ETA: 2277.1min\n",
            "Current batch label counts:\n",
            "hallucination_label\n",
            "0     1\n",
            "1    14\n",
            "Name: count, dtype: int64\n"
          ]
        },
        {
          "name": "stderr",
          "output_type": "stream",
          "text": [
            "Generating & Judging:  89%|████████▊ | 1771/2000 [2:28:38<25:07,  6.58s/it]\u001b[A"
          ]
        },
        {
          "name": "stdout",
          "output_type": "stream",
          "text": [
            "\n",
            "Saved through index 1784. Total rows on disk: 1785\n",
            "GPU: 131.9GB | ETA: 2151.7min\n",
            "Current batch label counts:\n",
            "hallucination_label\n",
            "1    15\n",
            "Name: count, dtype: int64\n"
          ]
        },
        {
          "name": "stderr",
          "output_type": "stream",
          "text": [
            "Generating & Judging:  89%|████████▉ | 1786/2000 [2:30:15<23:57,  6.72s/it]\u001b[A"
          ]
        },
        {
          "name": "stdout",
          "output_type": "stream",
          "text": [
            "\n",
            "Saved through index 1799. Total rows on disk: 1800\n",
            "GPU: 131.9GB | ETA: 2019.8min\n",
            "Current batch label counts:\n",
            "hallucination_label\n",
            "1    15\n",
            "Name: count, dtype: int64\n"
          ]
        },
        {
          "name": "stderr",
          "output_type": "stream",
          "text": [
            "Generating & Judging:  90%|█████████ | 1801/2000 [2:31:32<16:17,  4.91s/it]\u001b[A"
          ]
        },
        {
          "name": "stdout",
          "output_type": "stream",
          "text": [
            "\n",
            "Saved through index 1814. Total rows on disk: 1815\n",
            "GPU: 131.9GB | ETA: 1884.4min\n",
            "Current batch label counts:\n",
            "hallucination_label\n",
            "1    15\n",
            "Name: count, dtype: int64\n"
          ]
        },
        {
          "name": "stderr",
          "output_type": "stream",
          "text": [
            "Generating & Judging:  91%|█████████ | 1816/2000 [2:32:54<18:10,  5.93s/it]\u001b[A"
          ]
        },
        {
          "name": "stdout",
          "output_type": "stream",
          "text": [
            "\n",
            "Saved through index 1829. Total rows on disk: 1830\n",
            "GPU: 131.9GB | ETA: 1746.2min\n",
            "Current batch label counts:\n",
            "hallucination_label\n",
            "0     1\n",
            "1    14\n",
            "Name: count, dtype: int64\n"
          ]
        },
        {
          "name": "stderr",
          "output_type": "stream",
          "text": [
            "Generating & Judging:  92%|█████████▏| 1831/2000 [2:34:09<14:59,  5.33s/it]\u001b[A"
          ]
        },
        {
          "name": "stdout",
          "output_type": "stream",
          "text": [
            "\n",
            "Saved through index 1844. Total rows on disk: 1845\n",
            "GPU: 131.9GB | ETA: 1606.5min\n",
            "Current batch label counts:\n",
            "hallucination_label\n",
            "0     1\n",
            "1    14\n",
            "Name: count, dtype: int64\n"
          ]
        },
        {
          "name": "stderr",
          "output_type": "stream",
          "text": [
            "Generating & Judging:  92%|█████████▏| 1846/2000 [2:35:35<16:24,  6.39s/it]\u001b[A"
          ]
        },
        {
          "name": "stdout",
          "output_type": "stream",
          "text": [
            "\n",
            "Saved through index 1859. Total rows on disk: 1860\n",
            "GPU: 131.9GB | ETA: 1465.0min\n",
            "Current batch label counts:\n",
            "hallucination_label\n",
            "1    15\n",
            "Name: count, dtype: int64\n"
          ]
        },
        {
          "name": "stderr",
          "output_type": "stream",
          "text": [
            "Generating & Judging:  93%|█████████▎| 1861/2000 [2:37:02<14:10,  6.12s/it]\u001b[A"
          ]
        },
        {
          "name": "stdout",
          "output_type": "stream",
          "text": [
            "\n",
            "Saved through index 1874. Total rows on disk: 1875\n",
            "GPU: 131.9GB | ETA: 1320.9min\n",
            "Current batch label counts:\n",
            "hallucination_label\n",
            "1    15\n",
            "Name: count, dtype: int64\n"
          ]
        },
        {
          "name": "stderr",
          "output_type": "stream",
          "text": [
            "Generating & Judging:  94%|█████████▍| 1876/2000 [2:38:34<11:56,  5.78s/it]\u001b[A"
          ]
        },
        {
          "name": "stdout",
          "output_type": "stream",
          "text": [
            "\n",
            "Saved through index 1889. Total rows on disk: 1890\n",
            "GPU: 131.9GB | ETA: 1172.3min\n",
            "Current batch label counts:\n",
            "hallucination_label\n",
            "1    15\n",
            "Name: count, dtype: int64\n"
          ]
        },
        {
          "name": "stderr",
          "output_type": "stream",
          "text": [
            "Generating & Judging:  95%|█████████▍| 1891/2000 [2:39:55<08:36,  4.74s/it]\u001b[A"
          ]
        },
        {
          "name": "stdout",
          "output_type": "stream",
          "text": [
            "\n",
            "Saved through index 1904. Total rows on disk: 1905\n",
            "GPU: 131.9GB | ETA: 1020.3min\n",
            "Current batch label counts:\n",
            "hallucination_label\n",
            "0     5\n",
            "1    10\n",
            "Name: count, dtype: int64\n"
          ]
        },
        {
          "name": "stderr",
          "output_type": "stream",
          "text": [
            "Generating & Judging:  95%|█████████▌| 1906/2000 [2:41:12<07:42,  4.92s/it]\u001b[A"
          ]
        },
        {
          "name": "stdout",
          "output_type": "stream",
          "text": [
            "\n",
            "Saved through index 1919. Total rows on disk: 1920\n",
            "GPU: 131.9GB | ETA: 866.7min\n",
            "Current batch label counts:\n",
            "hallucination_label\n",
            "1    15\n",
            "Name: count, dtype: int64\n"
          ]
        },
        {
          "name": "stderr",
          "output_type": "stream",
          "text": [
            "Generating & Judging:  96%|█████████▌| 1921/2000 [2:42:33<06:24,  4.86s/it]\u001b[A"
          ]
        },
        {
          "name": "stdout",
          "output_type": "stream",
          "text": [
            "\n",
            "Saved through index 1934. Total rows on disk: 1935\n",
            "GPU: 131.9GB | ETA: 710.0min\n",
            "Current batch label counts:\n",
            "hallucination_label\n",
            "0     2\n",
            "1    13\n",
            "Name: count, dtype: int64\n"
          ]
        },
        {
          "name": "stderr",
          "output_type": "stream",
          "text": [
            "Generating & Judging:  97%|█████████▋| 1936/2000 [2:43:55<05:34,  5.22s/it]\u001b[A"
          ]
        },
        {
          "name": "stdout",
          "output_type": "stream",
          "text": [
            "\n",
            "Saved through index 1949. Total rows on disk: 1950\n",
            "GPU: 131.9GB | ETA: 550.3min\n",
            "Current batch label counts:\n",
            "hallucination_label\n",
            "0     3\n",
            "1    12\n",
            "Name: count, dtype: int64\n"
          ]
        },
        {
          "name": "stderr",
          "output_type": "stream",
          "text": [
            "Generating & Judging:  98%|█████████▊| 1951/2000 [2:45:11<04:50,  5.92s/it]\u001b[A"
          ]
        },
        {
          "name": "stdout",
          "output_type": "stream",
          "text": [
            "\n",
            "Saved through index 1964. Total rows on disk: 1965\n",
            "GPU: 131.9GB | ETA: 388.3min\n",
            "Current batch label counts:\n",
            "hallucination_label\n",
            "0     3\n",
            "1    12\n",
            "Name: count, dtype: int64\n"
          ]
        },
        {
          "name": "stderr",
          "output_type": "stream",
          "text": [
            "Generating & Judging:  98%|█████████▊| 1966/2000 [2:46:39<04:41,  8.29s/it]\u001b[A"
          ]
        },
        {
          "name": "stdout",
          "output_type": "stream",
          "text": [
            "\n",
            "Saved through index 1979. Total rows on disk: 1980\n",
            "GPU: 131.9GB | ETA: 224.0min\n",
            "Current batch label counts:\n",
            "hallucination_label\n",
            "0     1\n",
            "1    14\n",
            "Name: count, dtype: int64\n"
          ]
        },
        {
          "name": "stderr",
          "output_type": "stream",
          "text": [
            "Generating & Judging:  99%|█████████▉| 1981/2000 [2:48:04<01:31,  4.82s/it]\u001b[A"
          ]
        },
        {
          "name": "stdout",
          "output_type": "stream",
          "text": [
            "\n",
            "Saved through index 1994. Total rows on disk: 1995\n",
            "GPU: 131.9GB | ETA: 56.5min\n",
            "Current batch label counts:\n",
            "hallucination_label\n",
            "1    15\n",
            "Name: count, dtype: int64\n"
          ]
        },
        {
          "name": "stderr",
          "output_type": "stream",
          "text": [
            "Generating & Judging: 100%|██████████| 2000/2000 [2:49:53<00:00,  5.10s/it]\u001b[A"
          ]
        },
        {
          "name": "stdout",
          "output_type": "stream",
          "text": [
            "\n",
            "Saved through index 1999. Total rows on disk: 2000\n",
            "GPU: 131.9GB | ETA: 0.0min\n",
            "Current batch label counts:\n",
            "hallucination_label\n",
            "1    5\n",
            "Name: count, dtype: int64\n",
            "Phase 1 complete in 169.9 minutes. Labeled dataset saved to /home/ubuntu/HallucinationVectorProject/artifacts/llama-3.1-70b/squad_labeled_answers_multi_scenario.csv\n",
            "\n",
            "Final Class Balance:\n",
            "hallucination_label\n",
            "0    1207\n",
            "1     793\n",
            "Name: count, dtype: int64\n"
          ]
        },
        {
          "name": "stderr",
          "output_type": "stream",
          "text": [
            "\n"
          ]
        }
      ],
      "source": [
        "import os\n",
        "import pandas as pd\n",
        "import time\n",
        "from tqdm.auto import tqdm\n",
        "\n",
        "# --- 1. Setup paths and constants ---\n",
        "OUTPUT_CSV_PATH = ARTIFACTS_DIR / 'squad_labeled_answers_multi_scenario.csv'\n",
        "BATCH_SIZE = 15  # Reduced for 70B model memory management\n",
        "API_KEY = SCALEDOWN_API_KEY  # Use the loaded environment variable\n",
        "\n",
        "# NEW: simple counter for rows already on disk\n",
        "written_count = 0\n",
        "\n",
        "# Memory monitoring helper\n",
        "def check_and_clear_memory():\n",
        "    if torch.cuda.is_available():\n",
        "        allocated = sum(torch.cuda.memory_allocated(i) for i in range(torch.cuda.device_count())) / 1024**3\n",
        "        if allocated > 60:  # If using more than 60GB across all GPUs\n",
        "            torch.cuda.empty_cache()\n",
        "        return allocated\n",
        "    return 0\n",
        "\n",
        "# --- 2. Resume logic (robust to partial/dirty last lines) ---\n",
        "try:\n",
        "    # Try normal read\n",
        "    existing_df = pd.read_csv(OUTPUT_CSV_PATH)\n",
        "except FileNotFoundError:\n",
        "    existing_df = pd.DataFrame()\n",
        "except Exception:\n",
        "    # If the file was cut off mid-write, skip bad lines and continue\n",
        "    existing_df = pd.read_csv(OUTPUT_CSV_PATH, on_bad_lines='skip')\n",
        "\n",
        "start_index = len(existing_df)\n",
        "written_count = start_index\n",
        "print(\"Resuming from index {}.\".format(start_index) if start_index else \"Starting from scratch.\")\n",
        "\n",
        "# Helper: append a single row immediately (header only if file doesn't exist/empty)\n",
        "def append_row_immediately(row_dict):\n",
        "    df = pd.DataFrame([row_dict])\n",
        "    file_exists = os.path.exists(OUTPUT_CSV_PATH)\n",
        "    write_header = not file_exists or os.path.getsize(OUTPUT_CSV_PATH) == 0\n",
        "    # Appending one row at a time keeps progress durable\n",
        "    df.to_csv(OUTPUT_CSV_PATH, mode='a', header=write_header, index=False)\n",
        "\n",
        "# --- 3. The Main Loop ---\n",
        "results_list = []          # kept for batch reporting only\n",
        "start_time = time.time()\n",
        "\n",
        "pbar = tqdm(total=len(sampled_df), initial=start_index, desc=\"Generating & Judging\")\n",
        "for i in range(start_index, len(sampled_df)):\n",
        "    row = sampled_df.iloc[i]\n",
        "\n",
        "    try:\n",
        "        # Memory check before processing\n",
        "        memory_usage = check_and_clear_memory()\n",
        "        \n",
        "        # --- Generate ---\n",
        "        model_answer, full_prompt = generate_squad_answer_multi_scenario(model, tokenizer, row)\n",
        "\n",
        "        # --- Judge ---\n",
        "        # The judge ALWAYS compares against the original, correct context and answer\n",
        "        ground_truth_answer = row['answers']['text'][0] if row['answers']['text'] else \"\"\n",
        "        label = judge_squad_answer(\n",
        "            context=row['context'],  # Always the original context\n",
        "            question=row['question'],\n",
        "            model_answer=model_answer,\n",
        "            ground_truth_answer=ground_truth_answer,\n",
        "            api_key=API_KEY\n",
        "        )\n",
        "\n",
        "        # Prepare the result record once\n",
        "        result_record = {\n",
        "            'scenario': row['scenario'],\n",
        "            'full_prompt': full_prompt,  # The actual text fed to the model\n",
        "            'model_answer': model_answer,\n",
        "            'ground_truth_answer': ground_truth_answer,\n",
        "            'hallucination_label': label,\n",
        "            'original_context': row['context'],  # Keep for reference\n",
        "            'question': row['question']\n",
        "        }\n",
        "\n",
        "        # --- NEW: Save immediately after each item ---\n",
        "        append_row_immediately(result_record)\n",
        "        written_count += 1\n",
        "\n",
        "        # Keep for batch reporting only\n",
        "        results_list.append(result_record)\n",
        "\n",
        "        pbar.update(1)\n",
        "\n",
        "        # --- Batch progress reporting (no re-writing the whole file) ---\n",
        "        if (i + 1) % BATCH_SIZE == 0 or (i + 1) == len(sampled_df):\n",
        "            elapsed = time.time() - start_time\n",
        "            avg_time_per_item = elapsed / max(1, len(results_list))\n",
        "            remaining = len(sampled_df) - (i + 1)\n",
        "            eta = avg_time_per_item * remaining if avg_time_per_item > 0 else 0\n",
        "\n",
        "            print(f\"\\nSaved through index {i}. Total rows on disk: {written_count}\")\n",
        "            print(f\"GPU: {memory_usage:.1f}GB | ETA: {eta/60:.1f}min\")\n",
        "\n",
        "            # Print count of 1s and 0s for the current batch only\n",
        "            temp_df = pd.DataFrame(results_list)\n",
        "            valid_labels = temp_df[temp_df['hallucination_label'] != -1]['hallucination_label']\n",
        "            if not valid_labels.empty:\n",
        "                counts = valid_labels.value_counts().sort_index()\n",
        "                print(\"Current batch label counts:\")\n",
        "                print(counts)\n",
        "            else:\n",
        "                print(\"No valid labels in this batch.\")\n",
        "\n",
        "            # Clear batch cache to keep memory low\n",
        "            results_list = []\n",
        "\n",
        "    except Exception as e:\n",
        "        print(f\"Error processing row {i}: {e}\")\n",
        "        print(\"Continuing with next row...\")\n",
        "        continue\n",
        "\n",
        "pbar.close()\n",
        "total_time = time.time() - start_time\n",
        "print(f\"Phase 1 complete in {total_time/60:.1f} minutes. Labeled dataset saved to {OUTPUT_CSV_PATH}\")\n",
        "\n",
        "# --- Final check of the class balance ---\n",
        "# Be tolerant to any trailing partials\n",
        "final_df = pd.read_csv(OUTPUT_CSV_PATH, on_bad_lines='skip')\n",
        "print(\"\\nFinal Class Balance:\")\n",
        "print(final_df[final_df['hallucination_label'] != -1]['hallucination_label'].value_counts())\n"
      ]
    },
    {
      "cell_type": "markdown",
      "metadata": {
        "id": "z7-5MN_YgIfL"
      },
      "source": [
        "# Phase 2: Feature Calculation\n",
        "## Overall Objective:\n",
        "To process our squad_labeled_answers_multi_scenario.csv file and add a new column, z_feature, to it. This feature is the dot product of the last prompt token's Layer 16 activation with our v_halluc vector. The final artifact will be an updated CSV file, ready for training our classifier in the next phase.\n",
        "\n",
        "## Methodology Overview:\n",
        "We load our pre-computed hallucination vector and the labeled dataset. Then, in a resilient, batched loop, we feed each prompt from the dataset into the Llama 3 model, extract the specific activation vector we need, compute the projection, and save the results incrementally.\n"
      ]
    },
    {
      "cell_type": "markdown",
      "metadata": {
        "id": "v1jJVphSgbnO"
      },
      "source": [
        "## Load the Hallucination Vector and Labeled Data\n",
        "Load the necessary artifacts (v_halluc.pt and the CSV from Phase 1) into our Colab environment."
      ]
    },
    {
      "cell_type": "code",
      "execution_count": 14,
      "metadata": {
        "colab": {
          "base_uri": "https://localhost:8080/"
        },
        "id": "hIKKE2FQViBM",
        "outputId": "3f9fb942-dedc-4466-b980-9267b301b876"
      },
      "outputs": [
        {
          "name": "stdout",
          "output_type": "stream",
          "text": [
            "Hallucination vector loaded successfully. Shape: torch.Size([8192]), Dtype: torch.bfloat16\n",
            "Loaded 2000 labeled examples.\n",
            "Filtered out 0 rows with invalid labels.\n",
            "Proceeding with 2000 valid examples.\n",
            "Cleaned DataFrame sample:\n",
            "   scenario                                        full_prompt  \\\n",
            "0  standard  <|begin_of_text|><|start_header_id|>system<|en...   \n",
            "1  standard  <|begin_of_text|><|start_header_id|>system<|en...   \n",
            "2  standard  <|begin_of_text|><|start_header_id|>system<|en...   \n",
            "3  standard  <|begin_of_text|><|start_header_id|>system<|en...   \n",
            "4  standard  <|begin_of_text|><|start_header_id|>system<|en...   \n",
            "\n",
            "                                        model_answer  \\\n",
            "0           The Banská Akadémia was founded in 1735.   \n",
            "1  Another speed that can also be reported by the...   \n",
            "2  In Sumer, the use of advanced materials and te...   \n",
            "3     The mayor is elected every even-numbered year.   \n",
            "4  The purpose of the top secret ICBM committee, ...   \n",
            "\n",
            "                                 ground_truth_answer  hallucination_label  \\\n",
            "0                                               1735                    0   \n",
            "1                                    SOS-based speed                    0   \n",
            "2                       Sumerian temples and palaces                    0   \n",
            "3                                              mayor                    0   \n",
            "4  decide on the feasibility of building an ICBM ...                    0   \n",
            "\n",
            "                                    original_context  \\\n",
            "0  The world's first institution of technology or...   \n",
            "1  The standard specifies how speed ratings shoul...   \n",
            "2  The most impressive and famous of Sumerian bui...   \n",
            "3  Ann Arbor has a council-manager form of govern...   \n",
            "4  Shortly before his death, when he was already ...   \n",
            "\n",
            "                                            question  \n",
            "0         What year was the Banská Akadémia founded?  \n",
            "1  What is another speed that can also be reporte...  \n",
            "2  Where were the use of advanced materials and t...  \n",
            "3           Who is elected every even numbered year?  \n",
            "4  What was the purpose of top secret ICBM commit...  \n"
          ]
        }
      ],
      "source": [
        "import pandas as pd\n",
        "import numpy as np\n",
        "import torch\n",
        "from tqdm.auto import tqdm\n",
        "\n",
        "# --- 1. Define paths ---\n",
        "VECTOR_PATH = ARTIFACTS_DIR / 'v_halluc.pt'\n",
        "LABELED_DATA_PATH = ARTIFACTS_DIR / 'squad_labeled_answers_multi_scenario.csv'\n",
        "OUTPUT_PATH = ARTIFACTS_DIR / 'squad_data_with_features.csv'\n",
        "\n",
        "# --- 2. Load the hallucination vector ---\n",
        "v_halluc = torch.load(VECTOR_PATH, map_location='cpu').to(model.device)\n",
        "print(f\"Hallucination vector loaded successfully. Shape: {v_halluc.shape}, Dtype: {v_halluc.dtype}\")\n",
        "\n",
        "# --- 3. Load and clean the labeled dataset ---\n",
        "labeled_df = pd.read_csv(LABELED_DATA_PATH)\n",
        "print(f\"Loaded {len(labeled_df)} labeled examples.\")\n",
        "\n",
        "# Filter out rows where the judge failed (label == -1) and any rows with missing prompts\n",
        "initial_rows = len(labeled_df)\n",
        "labeled_df = labeled_df[labeled_df['hallucination_label'] != -1].dropna(subset=['full_prompt'])\n",
        "labeled_df['hallucination_label'] = labeled_df['hallucination_label'].astype(int)\n",
        "final_rows = len(labeled_df)\n",
        "\n",
        "print(f\"Filtered out {initial_rows - final_rows} rows with invalid labels.\")\n",
        "print(f\"Proceeding with {final_rows} valid examples.\")\n",
        "print(\"Cleaned DataFrame sample:\")\n",
        "print(labeled_df.head())"
      ]
    },
    {
      "cell_type": "markdown",
      "metadata": {
        "id": "yvAxHjjWgfiU"
      },
      "source": [
        "## Implement the Last-Token Activation Extraction Function\n",
        "Create a function that takes a prompt, runs it through the model, and returns the specific hidden-state vector of the last token of that prompt at Layer 16."
      ]
    },
    {
      "cell_type": "code",
      "execution_count": 15,
      "metadata": {
        "colab": {
          "base_uri": "https://localhost:8080/"
        },
        "id": "3ZbtXn2nA3-z",
        "outputId": "99270f5a-fd60-4868-cd65-005e94d2c5a5"
      },
      "outputs": [
        {
          "name": "stdout",
          "output_type": "stream",
          "text": [
            "Successfully extracted activation for one prompt.\n",
            "Activation vector shape: torch.Size([8192])\n",
            "Activation vector dtype: torch.bfloat16\n"
          ]
        }
      ],
      "source": [
        "TARGET_LAYER = 16\n",
        "\n",
        "def get_last_prompt_token_activation(model, tokenizer, prompt_text):\n",
        "    \"\"\"\n",
        "    Runs the model on the prompt and extracts the hidden state of the\n",
        "    last prompt token at the target layer with memory optimization.\n",
        "    \"\"\"\n",
        "    try:\n",
        "        # Tokenize the prompt with truncation for safety\n",
        "        inputs = tokenizer(prompt_text, return_tensors=\"pt\", truncation=True, max_length=4096).to(model.device)\n",
        "\n",
        "        # Perform a forward pass to get hidden states\n",
        "        # We don't need to generate text, just get the activations\n",
        "        with torch.no_grad():\n",
        "            outputs = model(**inputs, output_hidden_states=True)\n",
        "\n",
        "        # Extract the hidden states for our target layer\n",
        "        # The shape is (batch_size, sequence_length, hidden_dim)\n",
        "        hidden_states = outputs.hidden_states[TARGET_LAYER]\n",
        "\n",
        "        # The last token's activation is at the final sequence position\n",
        "        # Squeeze() removes the batch dimension of 1\n",
        "        last_token_activation = hidden_states[0, -1, :].squeeze()\n",
        "\n",
        "        # Clean up to free memory\n",
        "        del outputs, hidden_states\n",
        "        \n",
        "        return last_token_activation\n",
        "\n",
        "    except Exception as e:\n",
        "        print(f\"Error in activation extraction: {e}\")\n",
        "        # Return zero vector on error\n",
        "        return torch.zeros(model.config.hidden_size, dtype=torch.bfloat16).to(model.device)\n",
        "\n",
        "# --- Test the function with one example ---\n",
        "example_prompt = labeled_df.iloc[0]['full_prompt']\n",
        "activation_vector = get_last_prompt_token_activation(model, tokenizer, example_prompt)\n",
        "print(f\"Successfully extracted activation for one prompt.\")\n",
        "print(f\"Activation vector shape: {activation_vector.shape}\")\n",
        "print(f\"Activation vector dtype: {activation_vector.dtype}\")"
      ]
    },
    {
      "cell_type": "markdown",
      "metadata": {
        "id": "1haFLKo4gmSF"
      },
      "source": [
        "## The Main Processing Loop (Extract, Project, Save)\n",
        "Iterate through our entire dataset, compute the z feature for each prompt, and save the results incrementally."
      ]
    },
    {
      "cell_type": "code",
      "execution_count": 16,
      "metadata": {
        "colab": {
          "base_uri": "https://localhost:8080/",
          "height": 567,
          "referenced_widgets": [
            "a3155c44a8874062a8c3fc2a1554417f",
            "0228cf71e1344c1eb5da29d9a45e53e1",
            "110ab7c6677d4a14ab6e5699557c092d",
            "1f06596a6c444e65b2a6eda3979885cc",
            "7617531036164f2a9c10c35d5191df6e",
            "cd3c1c33d4b243b9b819b2daf594a967",
            "d34bc348152f41f4a76578172f47c729",
            "f65a30a99c0f4470b550fff6975d3def",
            "23769235325e492e961fc4c0e7b6713d",
            "e95dc0042d464d9a8b7d09c4ad1b4fa8",
            "ba769b414a094db09ce77039ffe0c2f3"
          ]
        },
        "id": "CZwiopgxA-Lj",
        "outputId": "24807df9-c5c0-43df-d48c-0615e293e9de"
      },
      "outputs": [
        {
          "name": "stdout",
          "output_type": "stream",
          "text": [
            "Initializing 'z_feature' column for new run.\n",
            "Starting feature calculation from scratch.\n"
          ]
        },
        {
          "name": "stderr",
          "output_type": "stream",
          "text": [
            "Saved batch 67 | ETA: 0.0min: 100%|██████████| 2000/2000 [08:37<00:00,  3.86it/s]\n",
            "\n"
          ]
        },
        {
          "name": "stdout",
          "output_type": "stream",
          "text": [
            "Phase 2 complete in 8.6 minutes. Final dataset saved to: /home/ubuntu/HallucinationVectorProject/artifacts/llama-3.1-70b/squad_data_with_features.csv\n",
            "\n",
            "Final DataFrame with 'z_feature' column:\n",
            "                                         full_prompt  hallucination_label  \\\n",
            "0  <|begin_of_text|><|start_header_id|>system<|en...                    0   \n",
            "1  <|begin_of_text|><|start_header_id|>system<|en...                    0   \n",
            "2  <|begin_of_text|><|start_header_id|>system<|en...                    0   \n",
            "3  <|begin_of_text|><|start_header_id|>system<|en...                    0   \n",
            "4  <|begin_of_text|><|start_header_id|>system<|en...                    0   \n",
            "\n",
            "   z_feature  \n",
            "0  -2.125000  \n",
            "1  -1.757812  \n",
            "2  -1.703125  \n",
            "3  -1.796875  \n",
            "4  -1.882812  \n",
            "\n",
            "Description of z_feature:\n",
            "count    2000.000000\n",
            "mean       -1.837410\n",
            "std         0.164858\n",
            "min        -2.359375\n",
            "25%        -1.947266\n",
            "50%        -1.843750\n",
            "75%        -1.734375\n",
            "max        -1.265625\n",
            "Name: z_feature, dtype: float64\n"
          ]
        }
      ],
      "source": [
        "import os\n",
        "import pandas as pd\n",
        "from tqdm.auto import tqdm\n",
        "import torch\n",
        "import numpy as np\n",
        "import time\n",
        "\n",
        "# --- 1. Setup for the loop ---\n",
        "BATCH_SIZE = 30  # Reduced for 70B model memory management\n",
        "MEMORY_CLEANUP_INTERVAL = 10  # Clear memory every 10 extractions\n",
        "\n",
        "# --- 2. Check for existing progress to resume ---\n",
        "try:\n",
        "    df_to_process = pd.read_csv(OUTPUT_PATH)\n",
        "    start_index = len(df_to_process)\n",
        "    # Ensure the z_feature column exists if we are resuming an older version\n",
        "    if 'z_feature' not in df_to_process.columns:\n",
        "        df_to_process['z_feature'] = pd.NA\n",
        "    print(f\"Resuming feature calculation from index {start_index}.\")\n",
        "except FileNotFoundError:\n",
        "    start_index = 0\n",
        "    df_to_process = labeled_df.copy() # Use the DataFrame we loaded in the previous cell\n",
        "    \n",
        "    # Initialize z_feature column for new run\n",
        "    print(\"Initializing 'z_feature' column for new run.\")\n",
        "    df_to_process['z_feature'] = pd.NA\n",
        "    print(\"Starting feature calculation from scratch.\")\n",
        "\n",
        "# --- 3. The Main Loop with memory management ---\n",
        "start_time = time.time()\n",
        "pbar = tqdm(total=len(df_to_process), initial=start_index, desc=\"Calculating z-features\")\n",
        "\n",
        "for i in range(start_index, len(df_to_process)):\n",
        "    # Check if the feature has already been computed in a previous run\n",
        "    if pd.notna(df_to_process.loc[i, 'z_feature']):\n",
        "        pbar.update(1)\n",
        "        continue\n",
        "\n",
        "    try:\n",
        "        row = df_to_process.iloc[i]\n",
        "        prompt = row['full_prompt']\n",
        "\n",
        "        # --- Extract Activation ---\n",
        "        last_token_activation = get_last_prompt_token_activation(model, tokenizer, prompt)\n",
        "\n",
        "        # --- Compute Projection (Dot Product) ---\n",
        "        # Ensure both vectors are on the same device and have the same dtype\n",
        "        projection = torch.dot(last_token_activation.to(v_halluc.device).to(v_halluc.dtype), v_halluc)\n",
        "        z_feature = projection.item() # .item() gets the scalar value\n",
        "\n",
        "        # Store the feature in the DataFrame\n",
        "        df_to_process.loc[i, 'z_feature'] = z_feature\n",
        "\n",
        "        pbar.update(1)\n",
        "\n",
        "        # Periodic memory cleanup for large model\n",
        "        if (i + 1) % MEMORY_CLEANUP_INTERVAL == 0:\n",
        "            if torch.cuda.is_available():\n",
        "                torch.cuda.empty_cache()\n",
        "\n",
        "        # --- Save progress in batches ---\n",
        "        if (i + 1) % BATCH_SIZE == 0 or (i + 1) == len(df_to_process):\n",
        "            df_to_process.to_csv(OUTPUT_PATH, index=False)\n",
        "            \n",
        "            # Progress reporting with time estimates\n",
        "            elapsed = time.time() - start_time\n",
        "            avg_time_per_item = elapsed / ((i + 1) - start_index) if (i + 1) > start_index else 0\n",
        "            remaining = len(df_to_process) - (i + 1)\n",
        "            eta = avg_time_per_item * remaining if avg_time_per_item > 0 else 0\n",
        "            \n",
        "            pbar.set_description(f\"Saved batch {(i // BATCH_SIZE) + 1} | ETA: {eta/60:.1f}min\")\n",
        "\n",
        "    except Exception as e:\n",
        "        print(f\"Error processing row {i}: {e}\")\n",
        "        df_to_process.loc[i, 'z_feature'] = pd.NA\n",
        "        continue\n",
        "\n",
        "# Final save to ensure the last batch is written\n",
        "df_to_process.to_csv(OUTPUT_PATH, index=False)\n",
        "pbar.close()\n",
        "\n",
        "# Final cleanup\n",
        "if torch.cuda.is_available():\n",
        "    torch.cuda.empty_cache()\n",
        "\n",
        "total_time = time.time() - start_time\n",
        "print(f\"Phase 2 complete in {total_time/60:.1f} minutes. Final dataset saved to: {OUTPUT_PATH}\")\n",
        "\n",
        "# --- Final check of the output ---\n",
        "final_df = pd.read_csv(OUTPUT_PATH)\n",
        "print(\"\\nFinal DataFrame with 'z_feature' column:\")\n",
        "print(final_df[['full_prompt', 'hallucination_label', 'z_feature']].head())\n",
        "print(f\"\\nDescription of z_feature:\\n{final_df['z_feature'].describe()}\")"
      ]
    },
    {
      "cell_type": "markdown",
      "metadata": {
        "id": "slOeHmD4g1a3"
      },
      "source": [
        "# Phase 3: Training and Validating the Risk Scorer\n",
        "Objective: To use our (z_feature, hallucination_label) dataset to train a simple, fast classifier and rigorously evaluate its predictive power."
      ]
    },
    {
      "cell_type": "markdown",
      "metadata": {
        "id": "QIrUcYtRg7Yb"
      },
      "source": [
        "## Load Data and Create a Train-Test Split\n",
        "Prepare our data for supervised learning by splitting it into a training set for the model to learn from and a held-out test set to evaluate its performance on unseen data.\n"
      ]
    },
    {
      "cell_type": "code",
      "execution_count": 17,
      "metadata": {
        "colab": {
          "base_uri": "https://localhost:8080/"
        },
        "id": "BvHC4ysOBHu_",
        "outputId": "52584ad5-e861-4870-d393-2cb32086e27a"
      },
      "outputs": [
        {
          "name": "stdout",
          "output_type": "stream",
          "text": [
            "Loaded dataset with features. Sample:\n",
            "   z_feature  hallucination_label\n",
            "0  -2.125000                    0\n",
            "1  -1.757812                    0\n",
            "2  -1.703125                    0\n",
            "3  -1.796875                    0\n",
            "4  -1.882812                    0\n",
            "\n",
            "Data split into training and testing sets:\n",
            "Training set size: 1600 samples\n",
            "Test set size: 400 samples\n",
            "Hallucination proportion in training set: 39.62%\n",
            "Hallucination proportion in test set: 39.75%\n"
          ]
        }
      ],
      "source": [
        "import pandas as pd\n",
        "from sklearn.model_selection import train_test_split\n",
        "from sklearn.linear_model import LogisticRegression\n",
        "from sklearn.metrics import roc_auc_score, roc_curve, classification_report\n",
        "import matplotlib.pyplot as plt\n",
        "import joblib\n",
        "\n",
        "# --- 1. Load the dataset with features ---\n",
        "FEATURES_DATA_PATH = ARTIFACTS_DIR / 'squad_data_with_features.csv'\n",
        "df_final = pd.read_csv(FEATURES_DATA_PATH)\n",
        "\n",
        "print(\"Loaded dataset with features. Sample:\")\n",
        "print(df_final[['z_feature', 'hallucination_label']].head())\n",
        "\n",
        "# --- 2. Define Features (X) and Labels (y) ---\n",
        "# Our feature X is the 'z_feature' column\n",
        "X = df_final[['z_feature']]\n",
        "# Our target y is the 'hallucination_label' column\n",
        "y = df_final['hallucination_label']\n",
        "\n",
        "# --- 3. Create the Train-Test Split ---\n",
        "# We'll use a standard 80/20 split.\n",
        "# 'stratify=y' ensures the proportion of 0s and 1s is the same in both sets.\n",
        "# 'random_state=42' makes our split reproducible.\n",
        "X_train, X_test, y_train, y_test = train_test_split(\n",
        "    X, y,\n",
        "    test_size=0.2,\n",
        "    stratify=y,\n",
        "    random_state=42\n",
        ")\n",
        "\n",
        "print(f\"\\nData split into training and testing sets:\")\n",
        "print(f\"Training set size: {len(X_train)} samples\")\n",
        "print(f\"Test set size: {len(X_test)} samples\")\n",
        "print(f\"Hallucination proportion in training set: {y_train.mean():.2%}\")\n",
        "print(f\"Hallucination proportion in test set: {y_test.mean():.2%}\")"
      ]
    },
    {
      "cell_type": "markdown",
      "metadata": {
        "id": "YKkOqhKMhBUs"
      },
      "source": [
        "## Fit the Logistic Regression Model\n",
        "Train the logistic regression classifier on our training data and save the resulting model."
      ]
    },
    {
      "cell_type": "code",
      "execution_count": 18,
      "metadata": {
        "colab": {
          "base_uri": "https://localhost:8080/"
        },
        "id": "LFWe4MLWJEz2",
        "outputId": "23bb96bf-9aac-41fd-f213-f519dbb29302"
      },
      "outputs": [
        {
          "name": "stdout",
          "output_type": "stream",
          "text": [
            "Training the logistic regression model...\n",
            "Training complete.\n",
            "Learned Intercept (β₀): -0.8713\n",
            "Learned Coefficient (β₁): -0.2445\n",
            "Classifier saved to: /home/ubuntu/HallucinationVectorProject/artifacts/llama-3.1-70b/risk_clf.joblib\n"
          ]
        }
      ],
      "source": [
        "# --- 1. Initialize and train the model ---\n",
        "print(\"Training the logistic regression model...\")\n",
        "risk_classifier = LogisticRegression(random_state=42)\n",
        "risk_classifier.fit(X_train, y_train)\n",
        "\n",
        "print(\"Training complete.\")\n",
        "\n",
        "# --- 2. Inspect the learned coefficients (optional but insightful) ---\n",
        "intercept = risk_classifier.intercept_[0]\n",
        "coefficient = risk_classifier.coef_[0][0]\n",
        "print(f\"Learned Intercept (β₀): {intercept:.4f}\")\n",
        "print(f\"Learned Coefficient (β₁): {coefficient:.4f}\")\n",
        "# A positive coefficient means that a higher z_feature value corresponds to a higher probability of hallucination.\n",
        "\n",
        "# --- 3. Save the trained model for later use ---\n",
        "CLASSIFIER_PATH = ARTIFACTS_DIR / 'risk_clf.joblib'\n",
        "joblib.dump(risk_classifier, CLASSIFIER_PATH)\n",
        "print(f\"Classifier saved to: {CLASSIFIER_PATH}\")"
      ]
    },
    {
      "cell_type": "markdown",
      "metadata": {
        "id": "aZSdJwK9hLF8"
      },
      "source": [
        "## Evaluate Performance on the Test Set\n",
        "Test our classifier on unseen data and verify that it meets our AUROC ≥ 0.75 success criterion."
      ]
    },
    {
      "cell_type": "code",
      "execution_count": 19,
      "metadata": {
        "colab": {
          "base_uri": "https://localhost:8080/",
          "height": 832
        },
        "id": "dmtFNXBeJHvi",
        "outputId": "c72c2bf1-b818-41e4-a2a9-c902693af9b5"
      },
      "outputs": [
        {
          "name": "stdout",
          "output_type": "stream",
          "text": [
            "\n",
            "--- Performance Evaluation ---\n",
            "AUROC Score on Test Set: 0.4639\n",
            "⚠️ Warning: AUROC is below the target of 0.75.\n"
          ]
        },
        {
          "data": {
            "image/png": "[encoded data removed]",
            "text/plain": [
              "<Figure size 800x600 with 1 Axes>"
            ]
          },
          "metadata": {},
          "output_type": "display_data"
        },
        {
          "name": "stdout",
          "output_type": "stream",
          "text": [
            "\n",
            "Classification Report (at 0.5 threshold):\n",
            "                   precision    recall  f1-score   support\n",
            "\n",
            "     Faithful (0)       0.60      1.00      0.75       241\n",
            "Hallucination (1)       0.00      0.00      0.00       159\n",
            "\n",
            "         accuracy                           0.60       400\n",
            "        macro avg       0.30      0.50      0.38       400\n",
            "     weighted avg       0.36      0.60      0.45       400\n",
            "\n"
          ]
        },
        {
          "name": "stderr",
          "output_type": "stream",
          "text": [
            "/home/ubuntu/HallucinationVectorProject/venv/lib/python3.10/site-packages/sklearn/metrics/_classification.py:1731: UndefinedMetricWarning: Precision is ill-defined and being set to 0.0 in labels with no predicted samples. Use `zero_division` parameter to control this behavior.\n",
            "  _warn_prf(average, modifier, f\"{metric.capitalize()} is\", result.shape[0])\n",
            "/home/ubuntu/HallucinationVectorProject/venv/lib/python3.10/site-packages/sklearn/metrics/_classification.py:1731: UndefinedMetricWarning: Precision is ill-defined and being set to 0.0 in labels with no predicted samples. Use `zero_division` parameter to control this behavior.\n",
            "  _warn_prf(average, modifier, f\"{metric.capitalize()} is\", result.shape[0])\n",
            "/home/ubuntu/HallucinationVectorProject/venv/lib/python3.10/site-packages/sklearn/metrics/_classification.py:1731: UndefinedMetricWarning: Precision is ill-defined and being set to 0.0 in labels with no predicted samples. Use `zero_division` parameter to control this behavior.\n",
            "  _warn_prf(average, modifier, f\"{metric.capitalize()} is\", result.shape[0])\n"
          ]
        }
      ],
      "source": [
        "# --- 1. Predict probabilities on the test set ---\n",
        "# We need the probability of the positive class (hallucination, which is class 1)\n",
        "y_pred_proba = risk_classifier.predict_proba(X_test)[:, 1]\n",
        "\n",
        "# --- 2. Calculate and validate the AUROC score ---\n",
        "auroc_score = roc_auc_score(y_test, y_pred_proba)\n",
        "print(f\"\\n--- Performance Evaluation ---\")\n",
        "print(f\"AUROC Score on Test Set: {auroc_score:.4f}\")\n",
        "\n",
        "if auroc_score >= 0.75:\n",
        "    print(\"✅ Success! AUROC meets or exceeds the target of 0.75.\")\n",
        "else:\n",
        "    print(\"⚠️ Warning: AUROC is below the target of 0.75.\")\n",
        "\n",
        "# --- 3. Plot the ROC Curve for our report ---\n",
        "fpr, tpr, thresholds = roc_curve(y_test, y_pred_proba)\n",
        "\n",
        "plt.figure(figsize=(8, 6))\n",
        "plt.plot(fpr, tpr, color='darkorange', lw=2, label=f'ROC curve (area = {auroc_score:.2f})')\n",
        "plt.plot([0, 1], [0, 1], color='navy', lw=2, linestyle='--', label='Random Guess')\n",
        "plt.xlim([0.0, 1.0])\n",
        "plt.ylim([0.0, 1.05])\n",
        "plt.xlabel('False Positive Rate')\n",
        "plt.ylabel('True Positive Rate')\n",
        "plt.title('Receiver Operating Characteristic (ROC) Curve')\n",
        "plt.legend(loc=\"lower right\")\n",
        "plt.grid(True)\n",
        "plt.show()\n",
        "\n",
        "# --- 4. Generate a detailed classification report ---\n",
        "# This shows precision and recall at a default 0.5 probability threshold\n",
        "y_pred_binary = (y_pred_proba >= 0.5).astype(int)\n",
        "print(\"\\nClassification Report (at 0.5 threshold):\")\n",
        "print(classification_report(y_test, y_pred_binary, target_names=['Faithful (0)', 'Hallucination (1)']))"
      ]
    },
    {
      "cell_type": "markdown",
      "metadata": {
        "id": "PggTGn_thSKZ"
      },
      "source": [
        "# Phase 4: Create the Real-Time Risk Function\n",
        "\n",
        "Objective: To encapsulate our entire prediction pipeline into a single, easy-to-use function that will be the core of our Step 3 guardrail.\n",
        "\n",
        "Essentially, we apply our logistic regression model on the layer-16 last token activation's projection of user prompts on persona vector (z-score) to get the \"risk score\" for hallucination."
      ]
    },
    {
      "cell_type": "code",
      "execution_count": 20,
      "metadata": {
        "colab": {
          "base_uri": "https://localhost:8080/"
        },
        "id": "Lz2ZFRcZJN8l",
        "outputId": "23657075-d2bd-4315-c258-7f3134102584"
      },
      "outputs": [
        {
          "name": "stdout",
          "output_type": "stream",
          "text": [
            "Loaded vector and classifier for real-time function.\n"
          ]
        },
        {
          "name": "stderr",
          "output_type": "stream",
          "text": [
            "/home/ubuntu/HallucinationVectorProject/venv/lib/python3.10/site-packages/sklearn/utils/validation.py:2749: UserWarning: X does not have valid feature names, but LogisticRegression was fitted with feature names\n",
            "  warnings.warn(\n"
          ]
        },
        {
          "name": "stdout",
          "output_type": "stream",
          "text": [
            "\n",
            "--- Real-Time Function Test ---\n",
            "Risk score for a likely SAFE prompt: 0.4130\n",
            "Risk score for a likely RISKY prompt: 0.4024\n"
          ]
        },
        {
          "name": "stderr",
          "output_type": "stream",
          "text": [
            "/home/ubuntu/HallucinationVectorProject/venv/lib/python3.10/site-packages/sklearn/utils/validation.py:2749: UserWarning: X does not have valid feature names, but LogisticRegression was fitted with feature names\n",
            "  warnings.warn(\n"
          ]
        }
      ],
      "source": [
        "import joblib\n",
        "\n",
        "# --- 1. Load all necessary artifacts once ---\n",
        "# This is more efficient than loading them inside the function every time.\n",
        "VECTOR_PATH = ARTIFACTS_DIR / 'v_halluc.pt'\n",
        "CLASSIFIER_PATH = ARTIFACTS_DIR / 'risk_clf.joblib'\n",
        "\n",
        "v_halluc_loaded = torch.load(VECTOR_PATH, map_location='cpu').to(model.device)\n",
        "risk_classifier_loaded = joblib.load(CLASSIFIER_PATH)\n",
        "print(\"Loaded vector and classifier for real-time function.\")\n",
        "\n",
        "# --- 2. Define the final, real-time risk function ---\n",
        "def get_hallucination_risk(prompt_text, model, tokenizer, v_halluc, classifier):\n",
        "    \"\"\"\n",
        "    Takes a raw prompt and returns a calibrated hallucination risk score (0.0 to 1.0).\n",
        "    \"\"\"\n",
        "    try:\n",
        "        # Step 1: Extract the last-token activation at Layer 16\n",
        "        activation = get_last_prompt_token_activation(model, tokenizer, prompt_text)\n",
        "\n",
        "        # Step 2: Compute the projection (z-feature)\n",
        "        projection = torch.dot(activation.to(v_halluc.device).to(v_halluc.dtype), v_halluc)\n",
        "        z_feature = projection.item()\n",
        "\n",
        "        # Step 3: Use the classifier to predict the probability\n",
        "        # The classifier expects a 2D array, so we reshape\n",
        "        z_feature_reshaped = [[z_feature]]\n",
        "        risk_probability = classifier.predict_proba(z_feature_reshaped)[0, 1]\n",
        "\n",
        "        return risk_probability\n",
        "        \n",
        "    except Exception as e:\n",
        "        print(f\"Error in risk calculation: {e}\")\n",
        "        return 0.5  # Return neutral risk on error\n",
        "\n",
        "# --- 3. Test the function on safe and risky examples ---\n",
        "# Find one 'standard' and one 'no_context' example from our DataFrame\n",
        "safe_prompt_example = df_final[df_final['scenario'] == 'standard'].iloc[0]['full_prompt']\n",
        "risky_prompt_example = df_final[df_final['scenario'] == 'no_context'].iloc[0]['full_prompt']\n",
        "\n",
        "# Calculate risk for both\n",
        "risk_safe = get_hallucination_risk(safe_prompt_example, model, tokenizer, v_halluc_loaded, risk_classifier_loaded)\n",
        "risk_risky = get_hallucination_risk(risky_prompt_example, model, tokenizer, v_halluc_loaded, risk_classifier_loaded)\n",
        "\n",
        "print(f\"\\n--- Real-Time Function Test ---\")\n",
        "print(f\"Risk score for a likely SAFE prompt: {risk_safe:.4f}\")\n",
        "print(f\"Risk score for a likely RISKY prompt: {risk_risky:.4f}\")\n",
        "\n",
        "# We expect the risky score to be significantly higher than the safe score."
      ]
    },
    {
      "cell_type": "code",
      "execution_count": null,
      "metadata": {
        "id": "2VZZUbTAJ8go"
      },
      "outputs": [],
      "source": []
    }
  ],
  "metadata": {
    "accelerator": "GPU",
    "colab": {
      "gpuType": "T4",
      "provenance": []
    },
    "kernelspec": {
      "display_name": "venv",
      "language": "python",
      "name": "python3"
    },
    "language_info": {
      "codemirror_mode": {
        "name": "ipython",
        "version": 3
      },
      "file_extension": ".py",
      "mimetype": "text/x-python",
      "name": "python",
      "nbconvert_exporter": "python",
      "pygments_lexer": "ipython3",
      "version": "3.10.12"
    },
    "widgets": {
      "application/vnd.jupyter.widget-state+json": {
        "0228cf71e1344c1eb5da29d9a45e53e1": {
          "model_module": "@jupyter-widgets/controls",
          "model_module_version": "1.5.0",
          "model_name": "HTMLModel",
          "state": {
            "_dom_classes": [],
            "_model_module": "@jupyter-widgets/controls",
            "_model_module_version": "1.5.0",
            "_model_name": "HTMLModel",
            "_view_count": null,
            "_view_module": "@jupyter-widgets/controls",
            "_view_module_version": "1.5.0",
            "_view_name": "HTMLView",
            "description": "",
            "description_tooltip": null,
            "layout": "IPY_MODEL_cd3c1c33d4b243b9b819b2daf594a967",
            "placeholder": "​",
            "style": "IPY_MODEL_d34bc348152f41f4a76578172f47c729",
            "value": "Saved batch up to index 1999: 100%"
          }
        },
        "07f953a01ded42969d6f4a77ed032850": {
          "model_module": "@jupyter-widgets/base",
          "model_module_version": "1.2.0",
          "model_name": "LayoutModel",
          "state": {
            "_model_module": "@jupyter-widgets/base",
            "_model_module_version": "1.2.0",
            "_model_name": "LayoutModel",
            "_view_count": null,
            "_view_module": "@jupyter-widgets/base",
            "_view_module_version": "1.2.0",
            "_view_name": "LayoutView",
            "align_content": null,
            "align_items": null,
            "align_self": null,
            "border": null,
            "bottom": null,
            "display": null,
            "flex": null,
            "flex_flow": null,
            "grid_area": null,
            "grid_auto_columns": null,
            "grid_auto_flow": null,
            "grid_auto_rows": null,
            "grid_column": null,
            "grid_gap": null,
            "grid_row": null,
            "grid_template_areas": null,
            "grid_template_columns": null,
            "grid_template_rows": null,
            "height": null,
            "justify_content": null,
            "justify_items": null,
            "left": null,
            "margin": null,
            "max_height": null,
            "max_width": null,
            "min_height": null,
            "min_width": null,
            "object_fit": null,
            "object_position": null,
            "order": null,
            "overflow": null,
            "overflow_x": null,
            "overflow_y": null,
            "padding": null,
            "right": null,
            "top": null,
            "visibility": null,
            "width": null
          }
        },
        "0a7fc796c21442138af32f559934562d": {
          "model_module": "@jupyter-widgets/controls",
          "model_module_version": "1.5.0",
          "model_name": "DescriptionStyleModel",
          "state": {
            "_model_module": "@jupyter-widgets/controls",
            "_model_module_version": "1.5.0",
            "_model_name": "DescriptionStyleModel",
            "_view_count": null,
            "_view_module": "@jupyter-widgets/base",
            "_view_module_version": "1.2.0",
            "_view_name": "StyleView",
            "description_width": ""
          }
        },
        "110ab7c6677d4a14ab6e5699557c092d": {
          "model_module": "@jupyter-widgets/controls",
          "model_module_version": "1.5.0",
          "model_name": "FloatProgressModel",
          "state": {
            "_dom_classes": [],
            "_model_module": "@jupyter-widgets/controls",
            "_model_module_version": "1.5.0",
            "_model_name": "FloatProgressModel",
            "_view_count": null,
            "_view_module": "@jupyter-widgets/controls",
            "_view_module_version": "1.5.0",
            "_view_name": "ProgressView",
            "bar_style": "success",
            "description": "",
            "description_tooltip": null,
            "layout": "IPY_MODEL_f65a30a99c0f4470b550fff6975d3def",
            "max": 2000,
            "min": 0,
            "orientation": "horizontal",
            "style": "IPY_MODEL_23769235325e492e961fc4c0e7b6713d",
            "value": 2000
          }
        },
        "13b9861eb1e14cc382392459632230c3": {
          "model_module": "@jupyter-widgets/controls",
          "model_module_version": "1.5.0",
          "model_name": "HTMLModel",
          "state": {
            "_dom_classes": [],
            "_model_module": "@jupyter-widgets/controls",
            "_model_module_version": "1.5.0",
            "_model_name": "HTMLModel",
            "_view_count": null,
            "_view_module": "@jupyter-widgets/controls",
            "_view_module_version": "1.5.0",
            "_view_name": "HTMLView",
            "description": "",
            "description_tooltip": null,
            "layout": "IPY_MODEL_d323a085905940408bab8308fd1a39ee",
            "placeholder": "​",
            "style": "IPY_MODEL_cc2f958d7161415c87739cce12bac821",
            "value": " 2000/2000 [3:00:34&lt;00:00,  5.08s/it]"
          }
        },
        "148f2bfb5f884e32972d2229239d598b": {
          "model_module": "@jupyter-widgets/base",
          "model_module_version": "1.2.0",
          "model_name": "LayoutModel",
          "state": {
            "_model_module": "@jupyter-widgets/base",
            "_model_module_version": "1.2.0",
            "_model_name": "LayoutModel",
            "_view_count": null,
            "_view_module": "@jupyter-widgets/base",
            "_view_module_version": "1.2.0",
            "_view_name": "LayoutView",
            "align_content": null,
            "align_items": null,
            "align_self": null,
            "border": null,
            "bottom": null,
            "display": null,
            "flex": null,
            "flex_flow": null,
            "grid_area": null,
            "grid_auto_columns": null,
            "grid_auto_flow": null,
            "grid_auto_rows": null,
            "grid_column": null,
            "grid_gap": null,
            "grid_row": null,
            "grid_template_areas": null,
            "grid_template_columns": null,
            "grid_template_rows": null,
            "height": null,
            "justify_content": null,
            "justify_items": null,
            "left": null,
            "margin": null,
            "max_height": null,
            "max_width": null,
            "min_height": null,
            "min_width": null,
            "object_fit": null,
            "object_position": null,
            "order": null,
            "overflow": null,
            "overflow_x": null,
            "overflow_y": null,
            "padding": null,
            "right": null,
            "top": null,
            "visibility": null,
            "width": "20px"
          }
        },
        "14f9e9b8fa71414d82ba4bb0c89c709f": {
          "model_module": "@jupyter-widgets/base",
          "model_module_version": "1.2.0",
          "model_name": "LayoutModel",
          "state": {
            "_model_module": "@jupyter-widgets/base",
            "_model_module_version": "1.2.0",
            "_model_name": "LayoutModel",
            "_view_count": null,
            "_view_module": "@jupyter-widgets/base",
            "_view_module_version": "1.2.0",
            "_view_name": "LayoutView",
            "align_content": null,
            "align_items": null,
            "align_self": null,
            "border": null,
            "bottom": null,
            "display": null,
            "flex": null,
            "flex_flow": null,
            "grid_area": null,
            "grid_auto_columns": null,
            "grid_auto_flow": null,
            "grid_auto_rows": null,
            "grid_column": null,
            "grid_gap": null,
            "grid_row": null,
            "grid_template_areas": null,
            "grid_template_columns": null,
            "grid_template_rows": null,
            "height": null,
            "justify_content": null,
            "justify_items": null,
            "left": null,
            "margin": null,
            "max_height": null,
            "max_width": null,
            "min_height": null,
            "min_width": null,
            "object_fit": null,
            "object_position": null,
            "order": null,
            "overflow": null,
            "overflow_x": null,
            "overflow_y": null,
            "padding": null,
            "right": null,
            "top": null,
            "visibility": null,
            "width": null
          }
        },
        "1550f0e80d254bd090f8aeefa7bf4272": {
          "model_module": "@jupyter-widgets/controls",
          "model_module_version": "1.5.0",
          "model_name": "DescriptionStyleModel",
          "state": {
            "_model_module": "@jupyter-widgets/controls",
            "_model_module_version": "1.5.0",
            "_model_name": "DescriptionStyleModel",
            "_view_count": null,
            "_view_module": "@jupyter-widgets/base",
            "_view_module_version": "1.2.0",
            "_view_name": "StyleView",
            "description_width": ""
          }
        },
        "18f99de0df1c4d0b998fea67197a4ace": {
          "model_module": "@jupyter-widgets/base",
          "model_module_version": "1.2.0",
          "model_name": "LayoutModel",
          "state": {
            "_model_module": "@jupyter-widgets/base",
            "_model_module_version": "1.2.0",
            "_model_name": "LayoutModel",
            "_view_count": null,
            "_view_module": "@jupyter-widgets/base",
            "_view_module_version": "1.2.0",
            "_view_name": "LayoutView",
            "align_content": null,
            "align_items": null,
            "align_self": null,
            "border": null,
            "bottom": null,
            "display": null,
            "flex": null,
            "flex_flow": null,
            "grid_area": null,
            "grid_auto_columns": null,
            "grid_auto_flow": null,
            "grid_auto_rows": null,
            "grid_column": null,
            "grid_gap": null,
            "grid_row": null,
            "grid_template_areas": null,
            "grid_template_columns": null,
            "grid_template_rows": null,
            "height": null,
            "justify_content": null,
            "justify_items": null,
            "left": null,
            "margin": null,
            "max_height": null,
            "max_width": null,
            "min_height": null,
            "min_width": null,
            "object_fit": null,
            "object_position": null,
            "order": null,
            "overflow": null,
            "overflow_x": null,
            "overflow_y": null,
            "padding": null,
            "right": null,
            "top": null,
            "visibility": null,
            "width": null
          }
        },
        "1a157c8d5a754c81a35541c5c5b42bd8": {
          "model_module": "@jupyter-widgets/controls",
          "model_module_version": "1.5.0",
          "model_name": "HTMLModel",
          "state": {
            "_dom_classes": [],
            "_model_module": "@jupyter-widgets/controls",
            "_model_module_version": "1.5.0",
            "_model_name": "HTMLModel",
            "_view_count": null,
            "_view_module": "@jupyter-widgets/controls",
            "_view_module_version": "1.5.0",
            "_view_name": "HTMLView",
            "description": "",
            "description_tooltip": null,
            "layout": "IPY_MODEL_2937b42fba4c4e6ca5de1b075e391719",
            "placeholder": "​",
            "style": "IPY_MODEL_36620307a76149fdbd597916de0edc1f",
            "value": "tokenizer.json: "
          }
        },
        "1f06596a6c444e65b2a6eda3979885cc": {
          "model_module": "@jupyter-widgets/controls",
          "model_module_version": "1.5.0",
          "model_name": "HTMLModel",
          "state": {
            "_dom_classes": [],
            "_model_module": "@jupyter-widgets/controls",
            "_model_module_version": "1.5.0",
            "_model_name": "HTMLModel",
            "_view_count": null,
            "_view_module": "@jupyter-widgets/controls",
            "_view_module_version": "1.5.0",
            "_view_name": "HTMLView",
            "description": "",
            "description_tooltip": null,
            "layout": "IPY_MODEL_e95dc0042d464d9a8b7d09c4ad1b4fa8",
            "placeholder": "​",
            "style": "IPY_MODEL_ba769b414a094db09ce77039ffe0c2f3",
            "value": " 2000/2000 [12:45&lt;00:00,  2.23it/s]"
          }
        },
        "20070c4b9bb44da8befe67a70c3bd32c": {
          "model_module": "@jupyter-widgets/base",
          "model_module_version": "1.2.0",
          "model_name": "LayoutModel",
          "state": {
            "_model_module": "@jupyter-widgets/base",
            "_model_module_version": "1.2.0",
            "_model_name": "LayoutModel",
            "_view_count": null,
            "_view_module": "@jupyter-widgets/base",
            "_view_module_version": "1.2.0",
            "_view_name": "LayoutView",
            "align_content": null,
            "align_items": null,
            "align_self": null,
            "border": null,
            "bottom": null,
            "display": null,
            "flex": null,
            "flex_flow": null,
            "grid_area": null,
            "grid_auto_columns": null,
            "grid_auto_flow": null,
            "grid_auto_rows": null,
            "grid_column": null,
            "grid_gap": null,
            "grid_row": null,
            "grid_template_areas": null,
            "grid_template_columns": null,
            "grid_template_rows": null,
            "height": null,
            "justify_content": null,
            "justify_items": null,
            "left": null,
            "margin": null,
            "max_height": null,
            "max_width": null,
            "min_height": null,
            "min_width": null,
            "object_fit": null,
            "object_position": null,
            "order": null,
            "overflow": null,
            "overflow_x": null,
            "overflow_y": null,
            "padding": null,
            "right": null,
            "top": null,
            "visibility": null,
            "width": null
          }
        },
        "23769235325e492e961fc4c0e7b6713d": {
          "model_module": "@jupyter-widgets/controls",
          "model_module_version": "1.5.0",
          "model_name": "ProgressStyleModel",
          "state": {
            "_model_module": "@jupyter-widgets/controls",
            "_model_module_version": "1.5.0",
            "_model_name": "ProgressStyleModel",
            "_view_count": null,
            "_view_module": "@jupyter-widgets/base",
            "_view_module_version": "1.2.0",
            "_view_name": "StyleView",
            "bar_color": null,
            "description_width": ""
          }
        },
        "245083aa4aef49ddbf9b790c0bf8dd6c": {
          "model_module": "@jupyter-widgets/controls",
          "model_module_version": "1.5.0",
          "model_name": "HBoxModel",
          "state": {
            "_dom_classes": [],
            "_model_module": "@jupyter-widgets/controls",
            "_model_module_version": "1.5.0",
            "_model_name": "HBoxModel",
            "_view_count": null,
            "_view_module": "@jupyter-widgets/controls",
            "_view_module_version": "1.5.0",
            "_view_name": "HBoxView",
            "box_style": "",
            "children": [
              "IPY_MODEL_a1e31a2696424b548f7d09c1dfcf0d76",
              "IPY_MODEL_26c8bd666d4a4c48b60c14463efc0ab8",
              "IPY_MODEL_35bea27c0536455fa704147fe1924cd6"
            ],
            "layout": "IPY_MODEL_20070c4b9bb44da8befe67a70c3bd32c"
          }
        },
        "26c8bd666d4a4c48b60c14463efc0ab8": {
          "model_module": "@jupyter-widgets/controls",
          "model_module_version": "1.5.0",
          "model_name": "FloatProgressModel",
          "state": {
            "_dom_classes": [],
            "_model_module": "@jupyter-widgets/controls",
            "_model_module_version": "1.5.0",
            "_model_name": "FloatProgressModel",
            "_view_count": null,
            "_view_module": "@jupyter-widgets/controls",
            "_view_module_version": "1.5.0",
            "_view_name": "ProgressView",
            "bar_style": "success",
            "description": "",
            "description_tooltip": null,
            "layout": "IPY_MODEL_3c1e6764bae245739eac900833707447",
            "max": 5702746403,
            "min": 0,
            "orientation": "horizontal",
            "style": "IPY_MODEL_6c37a74fed5042edb847e1f419bfc439",
            "value": 5702746403
          }
        },
        "2937b42fba4c4e6ca5de1b075e391719": {
          "model_module": "@jupyter-widgets/base",
          "model_module_version": "1.2.0",
          "model_name": "LayoutModel",
          "state": {
            "_model_module": "@jupyter-widgets/base",
            "_model_module_version": "1.2.0",
            "_model_name": "LayoutModel",
            "_view_count": null,
            "_view_module": "@jupyter-widgets/base",
            "_view_module_version": "1.2.0",
            "_view_name": "LayoutView",
            "align_content": null,
            "align_items": null,
            "align_self": null,
            "border": null,
            "bottom": null,
            "display": null,
            "flex": null,
            "flex_flow": null,
            "grid_area": null,
            "grid_auto_columns": null,
            "grid_auto_flow": null,
            "grid_auto_rows": null,
            "grid_column": null,
            "grid_gap": null,
            "grid_row": null,
            "grid_template_areas": null,
            "grid_template_columns": null,
            "grid_template_rows": null,
            "height": null,
            "justify_content": null,
            "justify_items": null,
            "left": null,
            "margin": null,
            "max_height": null,
            "max_width": null,
            "min_height": null,
            "min_width": null,
            "object_fit": null,
            "object_position": null,
            "order": null,
            "overflow": null,
            "overflow_x": null,
            "overflow_y": null,
            "padding": null,
            "right": null,
            "top": null,
            "visibility": null,
            "width": null
          }
        },
        "2a6eafbfd58448a39cef408264109b39": {
          "model_module": "@jupyter-widgets/base",
          "model_module_version": "1.2.0",
          "model_name": "LayoutModel",
          "state": {
            "_model_module": "@jupyter-widgets/base",
            "_model_module_version": "1.2.0",
            "_model_name": "LayoutModel",
            "_view_count": null,
            "_view_module": "@jupyter-widgets/base",
            "_view_module_version": "1.2.0",
            "_view_name": "LayoutView",
            "align_content": null,
            "align_items": null,
            "align_self": null,
            "border": null,
            "bottom": null,
            "display": null,
            "flex": null,
            "flex_flow": null,
            "grid_area": null,
            "grid_auto_columns": null,
            "grid_auto_flow": null,
            "grid_auto_rows": null,
            "grid_column": null,
            "grid_gap": null,
            "grid_row": null,
            "grid_template_areas": null,
            "grid_template_columns": null,
            "grid_template_rows": null,
            "height": null,
            "justify_content": null,
            "justify_items": null,
            "left": null,
            "margin": null,
            "max_height": null,
            "max_width": null,
            "min_height": null,
            "min_width": null,
            "object_fit": null,
            "object_position": null,
            "order": null,
            "overflow": null,
            "overflow_x": null,
            "overflow_y": null,
            "padding": null,
            "right": null,
            "top": null,
            "visibility": null,
            "width": null
          }
        },
        "2f66924860504e98ac048fd605fc6f6b": {
          "model_module": "@jupyter-widgets/controls",
          "model_module_version": "1.5.0",
          "model_name": "FloatProgressModel",
          "state": {
            "_dom_classes": [],
            "_model_module": "@jupyter-widgets/controls",
            "_model_module_version": "1.5.0",
            "_model_name": "FloatProgressModel",
            "_view_count": null,
            "_view_module": "@jupyter-widgets/controls",
            "_view_module_version": "1.5.0",
            "_view_name": "ProgressView",
            "bar_style": "success",
            "description": "",
            "description_tooltip": null,
            "layout": "IPY_MODEL_b19610146f304d54b4466312a9b82638",
            "max": 1,
            "min": 0,
            "orientation": "horizontal",
            "style": "IPY_MODEL_a3bac0b2e55c4ab1a27b1d79c85a3483",
            "value": 1
          }
        },
        "301b32b34604450cba6227d2c612ea33": {
          "model_module": "@jupyter-widgets/controls",
          "model_module_version": "1.5.0",
          "model_name": "HBoxModel",
          "state": {
            "_dom_classes": [],
            "_model_module": "@jupyter-widgets/controls",
            "_model_module_version": "1.5.0",
            "_model_name": "HBoxModel",
            "_view_count": null,
            "_view_module": "@jupyter-widgets/controls",
            "_view_module_version": "1.5.0",
            "_view_name": "HBoxView",
            "box_style": "",
            "children": [
              "IPY_MODEL_3f36a54d08c1481fb0d77d20421e2f92",
              "IPY_MODEL_e0318de1404a4a9fa1436afba86269cb",
              "IPY_MODEL_13b9861eb1e14cc382392459632230c3"
            ],
            "layout": "IPY_MODEL_2a6eafbfd58448a39cef408264109b39"
          }
        },
        "32870eed2d5245cd8b0b1eb62757a2df": {
          "model_module": "@jupyter-widgets/controls",
          "model_module_version": "1.5.0",
          "model_name": "FloatProgressModel",
          "state": {
            "_dom_classes": [],
            "_model_module": "@jupyter-widgets/controls",
            "_model_module_version": "1.5.0",
            "_model_name": "FloatProgressModel",
            "_view_count": null,
            "_view_module": "@jupyter-widgets/controls",
            "_view_module_version": "1.5.0",
            "_view_name": "ProgressView",
            "bar_style": "success",
            "description": "",
            "description_tooltip": null,
            "layout": "IPY_MODEL_8b71d09620464e73953946838a362144",
            "max": 345,
            "min": 0,
            "orientation": "horizontal",
            "style": "IPY_MODEL_41073decfe4747d3a1ba145fa83ba8a0",
            "value": 345
          }
        },
        "35bea27c0536455fa704147fe1924cd6": {
          "model_module": "@jupyter-widgets/controls",
          "model_module_version": "1.5.0",
          "model_name": "HTMLModel",
          "state": {
            "_dom_classes": [],
            "_model_module": "@jupyter-widgets/controls",
            "_model_module_version": "1.5.0",
            "_model_name": "HTMLModel",
            "_view_count": null,
            "_view_module": "@jupyter-widgets/controls",
            "_view_module_version": "1.5.0",
            "_view_name": "HTMLView",
            "description": "",
            "description_tooltip": null,
            "layout": "IPY_MODEL_6e9fbb70564c469b89c0cdda4f634f99",
            "placeholder": "​",
            "style": "IPY_MODEL_7d537e57f8714f24a4f3c480be1e0021",
            "value": " 5.70G/5.70G [01:19&lt;00:00, 55.9MB/s]"
          }
        },
        "360e8734c9f2488d863d80b000e2716d": {
          "model_module": "@jupyter-widgets/base",
          "model_module_version": "1.2.0",
          "model_name": "LayoutModel",
          "state": {
            "_model_module": "@jupyter-widgets/base",
            "_model_module_version": "1.2.0",
            "_model_name": "LayoutModel",
            "_view_count": null,
            "_view_module": "@jupyter-widgets/base",
            "_view_module_version": "1.2.0",
            "_view_name": "LayoutView",
            "align_content": null,
            "align_items": null,
            "align_self": null,
            "border": null,
            "bottom": null,
            "display": null,
            "flex": null,
            "flex_flow": null,
            "grid_area": null,
            "grid_auto_columns": null,
            "grid_auto_flow": null,
            "grid_auto_rows": null,
            "grid_column": null,
            "grid_gap": null,
            "grid_row": null,
            "grid_template_areas": null,
            "grid_template_columns": null,
            "grid_template_rows": null,
            "height": null,
            "justify_content": null,
            "justify_items": null,
            "left": null,
            "margin": null,
            "max_height": null,
            "max_width": null,
            "min_height": null,
            "min_width": null,
            "object_fit": null,
            "object_position": null,
            "order": null,
            "overflow": null,
            "overflow_x": null,
            "overflow_y": null,
            "padding": null,
            "right": null,
            "top": null,
            "visibility": null,
            "width": null
          }
        },
        "36620307a76149fdbd597916de0edc1f": {
          "model_module": "@jupyter-widgets/controls",
          "model_module_version": "1.5.0",
          "model_name": "DescriptionStyleModel",
          "state": {
            "_model_module": "@jupyter-widgets/controls",
            "_model_module_version": "1.5.0",
            "_model_name": "DescriptionStyleModel",
            "_view_count": null,
            "_view_module": "@jupyter-widgets/base",
            "_view_module_version": "1.2.0",
            "_view_name": "StyleView",
            "description_width": ""
          }
        },
        "3bc825034e98411884b72790a009f68f": {
          "model_module": "@jupyter-widgets/controls",
          "model_module_version": "1.5.0",
          "model_name": "ProgressStyleModel",
          "state": {
            "_model_module": "@jupyter-widgets/controls",
            "_model_module_version": "1.5.0",
            "_model_name": "ProgressStyleModel",
            "_view_count": null,
            "_view_module": "@jupyter-widgets/base",
            "_view_module_version": "1.2.0",
            "_view_name": "StyleView",
            "bar_color": null,
            "description_width": ""
          }
        },
        "3c1e6764bae245739eac900833707447": {
          "model_module": "@jupyter-widgets/base",
          "model_module_version": "1.2.0",
          "model_name": "LayoutModel",
          "state": {
            "_model_module": "@jupyter-widgets/base",
            "_model_module_version": "1.2.0",
            "_model_name": "LayoutModel",
            "_view_count": null,
            "_view_module": "@jupyter-widgets/base",
            "_view_module_version": "1.2.0",
            "_view_name": "LayoutView",
            "align_content": null,
            "align_items": null,
            "align_self": null,
            "border": null,
            "bottom": null,
            "display": null,
            "flex": null,
            "flex_flow": null,
            "grid_area": null,
            "grid_auto_columns": null,
            "grid_auto_flow": null,
            "grid_auto_rows": null,
            "grid_column": null,
            "grid_gap": null,
            "grid_row": null,
            "grid_template_areas": null,
            "grid_template_columns": null,
            "grid_template_rows": null,
            "height": null,
            "justify_content": null,
            "justify_items": null,
            "left": null,
            "margin": null,
            "max_height": null,
            "max_width": null,
            "min_height": null,
            "min_width": null,
            "object_fit": null,
            "object_position": null,
            "order": null,
            "overflow": null,
            "overflow_x": null,
            "overflow_y": null,
            "padding": null,
            "right": null,
            "top": null,
            "visibility": null,
            "width": null
          }
        },
        "3f36a54d08c1481fb0d77d20421e2f92": {
          "model_module": "@jupyter-widgets/controls",
          "model_module_version": "1.5.0",
          "model_name": "HTMLModel",
          "state": {
            "_dom_classes": [],
            "_model_module": "@jupyter-widgets/controls",
            "_model_module_version": "1.5.0",
            "_model_name": "HTMLModel",
            "_view_count": null,
            "_view_module": "@jupyter-widgets/controls",
            "_view_module_version": "1.5.0",
            "_view_name": "HTMLView",
            "description": "",
            "description_tooltip": null,
            "layout": "IPY_MODEL_7b5f9d65e8a14ce3ab3336349fa88ed1",
            "placeholder": "​",
            "style": "IPY_MODEL_57ec178a81084f9ebb44dcd2fc59e0c4",
            "value": "100%"
          }
        },
        "41073decfe4747d3a1ba145fa83ba8a0": {
          "model_module": "@jupyter-widgets/controls",
          "model_module_version": "1.5.0",
          "model_name": "ProgressStyleModel",
          "state": {
            "_model_module": "@jupyter-widgets/controls",
            "_model_module_version": "1.5.0",
            "_model_name": "ProgressStyleModel",
            "_view_count": null,
            "_view_module": "@jupyter-widgets/base",
            "_view_module_version": "1.2.0",
            "_view_name": "StyleView",
            "bar_color": null,
            "description_width": ""
          }
        },
        "4610a4453b3b44bd8b19a75974a7e1c4": {
          "model_module": "@jupyter-widgets/controls",
          "model_module_version": "1.5.0",
          "model_name": "DescriptionStyleModel",
          "state": {
            "_model_module": "@jupyter-widgets/controls",
            "_model_module_version": "1.5.0",
            "_model_name": "DescriptionStyleModel",
            "_view_count": null,
            "_view_module": "@jupyter-widgets/base",
            "_view_module_version": "1.2.0",
            "_view_name": "StyleView",
            "description_width": ""
          }
        },
        "4904f0bf07b148a2855e82e26e9568c2": {
          "model_module": "@jupyter-widgets/controls",
          "model_module_version": "1.5.0",
          "model_name": "HTMLModel",
          "state": {
            "_dom_classes": [],
            "_model_module": "@jupyter-widgets/controls",
            "_model_module_version": "1.5.0",
            "_model_name": "HTMLModel",
            "_view_count": null,
            "_view_module": "@jupyter-widgets/controls",
            "_view_module_version": "1.5.0",
            "_view_name": "HTMLView",
            "description": "",
            "description_tooltip": null,
            "layout": "IPY_MODEL_a15c69e69e4c4f79b7054091d6eb95b7",
            "placeholder": "​",
            "style": "IPY_MODEL_1550f0e80d254bd090f8aeefa7bf4272",
            "value": " 51.1k/? [00:00&lt;00:00, 2.89MB/s]"
          }
        },
        "498d3ea6fb09406394efccc317448a15": {
          "model_module": "@jupyter-widgets/base",
          "model_module_version": "1.2.0",
          "model_name": "LayoutModel",
          "state": {
            "_model_module": "@jupyter-widgets/base",
            "_model_module_version": "1.2.0",
            "_model_name": "LayoutModel",
            "_view_count": null,
            "_view_module": "@jupyter-widgets/base",
            "_view_module_version": "1.2.0",
            "_view_name": "LayoutView",
            "align_content": null,
            "align_items": null,
            "align_self": null,
            "border": null,
            "bottom": null,
            "display": null,
            "flex": null,
            "flex_flow": null,
            "grid_area": null,
            "grid_auto_columns": null,
            "grid_auto_flow": null,
            "grid_auto_rows": null,
            "grid_column": null,
            "grid_gap": null,
            "grid_row": null,
            "grid_template_areas": null,
            "grid_template_columns": null,
            "grid_template_rows": null,
            "height": null,
            "justify_content": null,
            "justify_items": null,
            "left": null,
            "margin": null,
            "max_height": null,
            "max_width": null,
            "min_height": null,
            "min_width": null,
            "object_fit": null,
            "object_position": null,
            "order": null,
            "overflow": null,
            "overflow_x": null,
            "overflow_y": null,
            "padding": null,
            "right": null,
            "top": null,
            "visibility": null,
            "width": null
          }
        },
        "55c669846aa24eac8e5593bc66f69edc": {
          "model_module": "@jupyter-widgets/base",
          "model_module_version": "1.2.0",
          "model_name": "LayoutModel",
          "state": {
            "_model_module": "@jupyter-widgets/base",
            "_model_module_version": "1.2.0",
            "_model_name": "LayoutModel",
            "_view_count": null,
            "_view_module": "@jupyter-widgets/base",
            "_view_module_version": "1.2.0",
            "_view_name": "LayoutView",
            "align_content": null,
            "align_items": null,
            "align_self": null,
            "border": null,
            "bottom": null,
            "display": null,
            "flex": null,
            "flex_flow": null,
            "grid_area": null,
            "grid_auto_columns": null,
            "grid_auto_flow": null,
            "grid_auto_rows": null,
            "grid_column": null,
            "grid_gap": null,
            "grid_row": null,
            "grid_template_areas": null,
            "grid_template_columns": null,
            "grid_template_rows": null,
            "height": null,
            "justify_content": null,
            "justify_items": null,
            "left": null,
            "margin": null,
            "max_height": null,
            "max_width": null,
            "min_height": null,
            "min_width": null,
            "object_fit": null,
            "object_position": null,
            "order": null,
            "overflow": null,
            "overflow_x": null,
            "overflow_y": null,
            "padding": null,
            "right": null,
            "top": null,
            "visibility": null,
            "width": null
          }
        },
        "57ec178a81084f9ebb44dcd2fc59e0c4": {
          "model_module": "@jupyter-widgets/controls",
          "model_module_version": "1.5.0",
          "model_name": "DescriptionStyleModel",
          "state": {
            "_model_module": "@jupyter-widgets/controls",
            "_model_module_version": "1.5.0",
            "_model_name": "DescriptionStyleModel",
            "_view_count": null,
            "_view_module": "@jupyter-widgets/base",
            "_view_module_version": "1.2.0",
            "_view_name": "StyleView",
            "description_width": ""
          }
        },
        "57ed2fae54e04e288741d08a803ad03d": {
          "model_module": "@jupyter-widgets/controls",
          "model_module_version": "1.5.0",
          "model_name": "FloatProgressModel",
          "state": {
            "_dom_classes": [],
            "_model_module": "@jupyter-widgets/controls",
            "_model_module_version": "1.5.0",
            "_model_name": "FloatProgressModel",
            "_view_count": null,
            "_view_module": "@jupyter-widgets/controls",
            "_view_module_version": "1.5.0",
            "_view_name": "ProgressView",
            "bar_style": "success",
            "description": "",
            "description_tooltip": null,
            "layout": "IPY_MODEL_07f953a01ded42969d6f4a77ed032850",
            "max": 220,
            "min": 0,
            "orientation": "horizontal",
            "style": "IPY_MODEL_6ae00f0b75a745368c438506d5600758",
            "value": 220
          }
        },
        "6503de1e717546d08f0217d92f0971da": {
          "model_module": "@jupyter-widgets/controls",
          "model_module_version": "1.5.0",
          "model_name": "HTMLModel",
          "state": {
            "_dom_classes": [],
            "_model_module": "@jupyter-widgets/controls",
            "_model_module_version": "1.5.0",
            "_model_name": "HTMLModel",
            "_view_count": null,
            "_view_module": "@jupyter-widgets/controls",
            "_view_module_version": "1.5.0",
            "_view_name": "HTMLView",
            "description": "",
            "description_tooltip": null,
            "layout": "IPY_MODEL_498d3ea6fb09406394efccc317448a15",
            "placeholder": "​",
            "style": "IPY_MODEL_9c6d0da31a1e467ca41cb62da319e1d8",
            "value": " 9.09M/? [00:00&lt;00:00, 119MB/s]"
          }
        },
        "6ae00f0b75a745368c438506d5600758": {
          "model_module": "@jupyter-widgets/controls",
          "model_module_version": "1.5.0",
          "model_name": "ProgressStyleModel",
          "state": {
            "_model_module": "@jupyter-widgets/controls",
            "_model_module_version": "1.5.0",
            "_model_name": "ProgressStyleModel",
            "_view_count": null,
            "_view_module": "@jupyter-widgets/base",
            "_view_module_version": "1.2.0",
            "_view_name": "StyleView",
            "bar_color": null,
            "description_width": ""
          }
        },
        "6c37a74fed5042edb847e1f419bfc439": {
          "model_module": "@jupyter-widgets/controls",
          "model_module_version": "1.5.0",
          "model_name": "ProgressStyleModel",
          "state": {
            "_model_module": "@jupyter-widgets/controls",
            "_model_module_version": "1.5.0",
            "_model_name": "ProgressStyleModel",
            "_view_count": null,
            "_view_module": "@jupyter-widgets/base",
            "_view_module_version": "1.2.0",
            "_view_name": "StyleView",
            "bar_color": null,
            "description_width": ""
          }
        },
        "6e9fbb70564c469b89c0cdda4f634f99": {
          "model_module": "@jupyter-widgets/base",
          "model_module_version": "1.2.0",
          "model_name": "LayoutModel",
          "state": {
            "_model_module": "@jupyter-widgets/base",
            "_model_module_version": "1.2.0",
            "_model_name": "LayoutModel",
            "_view_count": null,
            "_view_module": "@jupyter-widgets/base",
            "_view_module_version": "1.2.0",
            "_view_name": "LayoutView",
            "align_content": null,
            "align_items": null,
            "align_self": null,
            "border": null,
            "bottom": null,
            "display": null,
            "flex": null,
            "flex_flow": null,
            "grid_area": null,
            "grid_auto_columns": null,
            "grid_auto_flow": null,
            "grid_auto_rows": null,
            "grid_column": null,
            "grid_gap": null,
            "grid_row": null,
            "grid_template_areas": null,
            "grid_template_columns": null,
            "grid_template_rows": null,
            "height": null,
            "justify_content": null,
            "justify_items": null,
            "left": null,
            "margin": null,
            "max_height": null,
            "max_width": null,
            "min_height": null,
            "min_width": null,
            "object_fit": null,
            "object_position": null,
            "order": null,
            "overflow": null,
            "overflow_x": null,
            "overflow_y": null,
            "padding": null,
            "right": null,
            "top": null,
            "visibility": null,
            "width": null
          }
        },
        "72c8a00ba9b9401385c606e4941feba8": {
          "model_module": "@jupyter-widgets/controls",
          "model_module_version": "1.5.0",
          "model_name": "DescriptionStyleModel",
          "state": {
            "_model_module": "@jupyter-widgets/controls",
            "_model_module_version": "1.5.0",
            "_model_name": "DescriptionStyleModel",
            "_view_count": null,
            "_view_module": "@jupyter-widgets/base",
            "_view_module_version": "1.2.0",
            "_view_name": "StyleView",
            "description_width": ""
          }
        },
        "745d54b07a114ff5b60e5327aaada156": {
          "model_module": "@jupyter-widgets/controls",
          "model_module_version": "1.5.0",
          "model_name": "HBoxModel",
          "state": {
            "_dom_classes": [],
            "_model_module": "@jupyter-widgets/controls",
            "_model_module_version": "1.5.0",
            "_model_name": "HBoxModel",
            "_view_count": null,
            "_view_module": "@jupyter-widgets/controls",
            "_view_module_version": "1.5.0",
            "_view_name": "HBoxView",
            "box_style": "",
            "children": [
              "IPY_MODEL_7c19df58ecf84010ada6153e6019966c",
              "IPY_MODEL_32870eed2d5245cd8b0b1eb62757a2df",
              "IPY_MODEL_b4f25d9387604ccfa5244abd798c929c"
            ],
            "layout": "IPY_MODEL_14f9e9b8fa71414d82ba4bb0c89c709f"
          }
        },
        "7617531036164f2a9c10c35d5191df6e": {
          "model_module": "@jupyter-widgets/base",
          "model_module_version": "1.2.0",
          "model_name": "LayoutModel",
          "state": {
            "_model_module": "@jupyter-widgets/base",
            "_model_module_version": "1.2.0",
            "_model_name": "LayoutModel",
            "_view_count": null,
            "_view_module": "@jupyter-widgets/base",
            "_view_module_version": "1.2.0",
            "_view_name": "LayoutView",
            "align_content": null,
            "align_items": null,
            "align_self": null,
            "border": null,
            "bottom": null,
            "display": null,
            "flex": null,
            "flex_flow": null,
            "grid_area": null,
            "grid_auto_columns": null,
            "grid_auto_flow": null,
            "grid_auto_rows": null,
            "grid_column": null,
            "grid_gap": null,
            "grid_row": null,
            "grid_template_areas": null,
            "grid_template_columns": null,
            "grid_template_rows": null,
            "height": null,
            "justify_content": null,
            "justify_items": null,
            "left": null,
            "margin": null,
            "max_height": null,
            "max_width": null,
            "min_height": null,
            "min_width": null,
            "object_fit": null,
            "object_position": null,
            "order": null,
            "overflow": null,
            "overflow_x": null,
            "overflow_y": null,
            "padding": null,
            "right": null,
            "top": null,
            "visibility": null,
            "width": null
          }
        },
        "78cb1cc5ba7541cbbe13bfa30c813ff3": {
          "model_module": "@jupyter-widgets/base",
          "model_module_version": "1.2.0",
          "model_name": "LayoutModel",
          "state": {
            "_model_module": "@jupyter-widgets/base",
            "_model_module_version": "1.2.0",
            "_model_name": "LayoutModel",
            "_view_count": null,
            "_view_module": "@jupyter-widgets/base",
            "_view_module_version": "1.2.0",
            "_view_name": "LayoutView",
            "align_content": null,
            "align_items": null,
            "align_self": null,
            "border": null,
            "bottom": null,
            "display": null,
            "flex": null,
            "flex_flow": null,
            "grid_area": null,
            "grid_auto_columns": null,
            "grid_auto_flow": null,
            "grid_auto_rows": null,
            "grid_column": null,
            "grid_gap": null,
            "grid_row": null,
            "grid_template_areas": null,
            "grid_template_columns": null,
            "grid_template_rows": null,
            "height": null,
            "justify_content": null,
            "justify_items": null,
            "left": null,
            "margin": null,
            "max_height": null,
            "max_width": null,
            "min_height": null,
            "min_width": null,
            "object_fit": null,
            "object_position": null,
            "order": null,
            "overflow": null,
            "overflow_x": null,
            "overflow_y": null,
            "padding": null,
            "right": null,
            "top": null,
            "visibility": null,
            "width": null
          }
        },
        "7b5f9d65e8a14ce3ab3336349fa88ed1": {
          "model_module": "@jupyter-widgets/base",
          "model_module_version": "1.2.0",
          "model_name": "LayoutModel",
          "state": {
            "_model_module": "@jupyter-widgets/base",
            "_model_module_version": "1.2.0",
            "_model_name": "LayoutModel",
            "_view_count": null,
            "_view_module": "@jupyter-widgets/base",
            "_view_module_version": "1.2.0",
            "_view_name": "LayoutView",
            "align_content": null,
            "align_items": null,
            "align_self": null,
            "border": null,
            "bottom": null,
            "display": null,
            "flex": null,
            "flex_flow": null,
            "grid_area": null,
            "grid_auto_columns": null,
            "grid_auto_flow": null,
            "grid_auto_rows": null,
            "grid_column": null,
            "grid_gap": null,
            "grid_row": null,
            "grid_template_areas": null,
            "grid_template_columns": null,
            "grid_template_rows": null,
            "height": null,
            "justify_content": null,
            "justify_items": null,
            "left": null,
            "margin": null,
            "max_height": null,
            "max_width": null,
            "min_height": null,
            "min_width": null,
            "object_fit": null,
            "object_position": null,
            "order": null,
            "overflow": null,
            "overflow_x": null,
            "overflow_y": null,
            "padding": null,
            "right": null,
            "top": null,
            "visibility": null,
            "width": null
          }
        },
        "7c19df58ecf84010ada6153e6019966c": {
          "model_module": "@jupyter-widgets/controls",
          "model_module_version": "1.5.0",
          "model_name": "HTMLModel",
          "state": {
            "_dom_classes": [],
            "_model_module": "@jupyter-widgets/controls",
            "_model_module_version": "1.5.0",
            "_model_name": "HTMLModel",
            "_view_count": null,
            "_view_module": "@jupyter-widgets/controls",
            "_view_module_version": "1.5.0",
            "_view_name": "HTMLView",
            "description": "",
            "description_tooltip": null,
            "layout": "IPY_MODEL_efdc4c776b224158aa70fecd3f370805",
            "placeholder": "​",
            "style": "IPY_MODEL_f30d8c51a9ee4bc1a453e4c8a3e489f5",
            "value": "special_tokens_map.json: 100%"
          }
        },
        "7c26b3717c3b4840be60270a37e0972a": {
          "model_module": "@jupyter-widgets/controls",
          "model_module_version": "1.5.0",
          "model_name": "DescriptionStyleModel",
          "state": {
            "_model_module": "@jupyter-widgets/controls",
            "_model_module_version": "1.5.0",
            "_model_name": "DescriptionStyleModel",
            "_view_count": null,
            "_view_module": "@jupyter-widgets/base",
            "_view_module_version": "1.2.0",
            "_view_name": "StyleView",
            "description_width": ""
          }
        },
        "7d537e57f8714f24a4f3c480be1e0021": {
          "model_module": "@jupyter-widgets/controls",
          "model_module_version": "1.5.0",
          "model_name": "DescriptionStyleModel",
          "state": {
            "_model_module": "@jupyter-widgets/controls",
            "_model_module_version": "1.5.0",
            "_model_name": "DescriptionStyleModel",
            "_view_count": null,
            "_view_module": "@jupyter-widgets/base",
            "_view_module_version": "1.2.0",
            "_view_name": "StyleView",
            "description_width": ""
          }
        },
        "8890a0fe3d2d4d6db5c1263f5578ec8c": {
          "model_module": "@jupyter-widgets/controls",
          "model_module_version": "1.5.0",
          "model_name": "HTMLModel",
          "state": {
            "_dom_classes": [],
            "_model_module": "@jupyter-widgets/controls",
            "_model_module_version": "1.5.0",
            "_model_name": "HTMLModel",
            "_view_count": null,
            "_view_module": "@jupyter-widgets/controls",
            "_view_module_version": "1.5.0",
            "_view_name": "HTMLView",
            "description": "",
            "description_tooltip": null,
            "layout": "IPY_MODEL_55c669846aa24eac8e5593bc66f69edc",
            "placeholder": "​",
            "style": "IPY_MODEL_72c8a00ba9b9401385c606e4941feba8",
            "value": " 220/220 [00:00&lt;00:00, 20.2kB/s]"
          }
        },
        "89a17592c18f4af290fdb509c9ada6c3": {
          "model_module": "@jupyter-widgets/controls",
          "model_module_version": "1.5.0",
          "model_name": "HTMLModel",
          "state": {
            "_dom_classes": [],
            "_model_module": "@jupyter-widgets/controls",
            "_model_module_version": "1.5.0",
            "_model_name": "HTMLModel",
            "_view_count": null,
            "_view_module": "@jupyter-widgets/controls",
            "_view_module_version": "1.5.0",
            "_view_name": "HTMLView",
            "description": "",
            "description_tooltip": null,
            "layout": "IPY_MODEL_78cb1cc5ba7541cbbe13bfa30c813ff3",
            "placeholder": "​",
            "style": "IPY_MODEL_bec6edbcc420403fbba17a377dbaac8b",
            "value": "generation_config.json: 100%"
          }
        },
        "8b71d09620464e73953946838a362144": {
          "model_module": "@jupyter-widgets/base",
          "model_module_version": "1.2.0",
          "model_name": "LayoutModel",
          "state": {
            "_model_module": "@jupyter-widgets/base",
            "_model_module_version": "1.2.0",
            "_model_name": "LayoutModel",
            "_view_count": null,
            "_view_module": "@jupyter-widgets/base",
            "_view_module_version": "1.2.0",
            "_view_name": "LayoutView",
            "align_content": null,
            "align_items": null,
            "align_self": null,
            "border": null,
            "bottom": null,
            "display": null,
            "flex": null,
            "flex_flow": null,
            "grid_area": null,
            "grid_auto_columns": null,
            "grid_auto_flow": null,
            "grid_auto_rows": null,
            "grid_column": null,
            "grid_gap": null,
            "grid_row": null,
            "grid_template_areas": null,
            "grid_template_columns": null,
            "grid_template_rows": null,
            "height": null,
            "justify_content": null,
            "justify_items": null,
            "left": null,
            "margin": null,
            "max_height": null,
            "max_width": null,
            "min_height": null,
            "min_width": null,
            "object_fit": null,
            "object_position": null,
            "order": null,
            "overflow": null,
            "overflow_x": null,
            "overflow_y": null,
            "padding": null,
            "right": null,
            "top": null,
            "visibility": null,
            "width": null
          }
        },
        "8e9f260dafe244e596f9718c9b42a13c": {
          "model_module": "@jupyter-widgets/controls",
          "model_module_version": "1.5.0",
          "model_name": "HBoxModel",
          "state": {
            "_dom_classes": [],
            "_model_module": "@jupyter-widgets/controls",
            "_model_module_version": "1.5.0",
            "_model_name": "HBoxModel",
            "_view_count": null,
            "_view_module": "@jupyter-widgets/controls",
            "_view_module_version": "1.5.0",
            "_view_name": "HBoxView",
            "box_style": "",
            "children": [
              "IPY_MODEL_1a157c8d5a754c81a35541c5c5b42bd8",
              "IPY_MODEL_2f66924860504e98ac048fd605fc6f6b",
              "IPY_MODEL_6503de1e717546d08f0217d92f0971da"
            ],
            "layout": "IPY_MODEL_b518ba35b4fb47d5b3f7ca5208ee6822"
          }
        },
        "952b60761dd04fa7924281eeecf8efc4": {
          "model_module": "@jupyter-widgets/controls",
          "model_module_version": "1.5.0",
          "model_name": "HBoxModel",
          "state": {
            "_dom_classes": [],
            "_model_module": "@jupyter-widgets/controls",
            "_model_module_version": "1.5.0",
            "_model_name": "HBoxModel",
            "_view_count": null,
            "_view_module": "@jupyter-widgets/controls",
            "_view_module_version": "1.5.0",
            "_view_name": "HBoxView",
            "box_style": "",
            "children": [
              "IPY_MODEL_d1ae628611104695994e2d72f7cfea70",
              "IPY_MODEL_a80dd46516424d0c84f0c53cf2fa3218",
              "IPY_MODEL_4904f0bf07b148a2855e82e26e9568c2"
            ],
            "layout": "IPY_MODEL_c4e5b5bfb63140c2b8586c6c70f2f1b0"
          }
        },
        "9c6d0da31a1e467ca41cb62da319e1d8": {
          "model_module": "@jupyter-widgets/controls",
          "model_module_version": "1.5.0",
          "model_name": "DescriptionStyleModel",
          "state": {
            "_model_module": "@jupyter-widgets/controls",
            "_model_module_version": "1.5.0",
            "_model_name": "DescriptionStyleModel",
            "_view_count": null,
            "_view_module": "@jupyter-widgets/base",
            "_view_module_version": "1.2.0",
            "_view_name": "StyleView",
            "description_width": ""
          }
        },
        "a15c69e69e4c4f79b7054091d6eb95b7": {
          "model_module": "@jupyter-widgets/base",
          "model_module_version": "1.2.0",
          "model_name": "LayoutModel",
          "state": {
            "_model_module": "@jupyter-widgets/base",
            "_model_module_version": "1.2.0",
            "_model_name": "LayoutModel",
            "_view_count": null,
            "_view_module": "@jupyter-widgets/base",
            "_view_module_version": "1.2.0",
            "_view_name": "LayoutView",
            "align_content": null,
            "align_items": null,
            "align_self": null,
            "border": null,
            "bottom": null,
            "display": null,
            "flex": null,
            "flex_flow": null,
            "grid_area": null,
            "grid_auto_columns": null,
            "grid_auto_flow": null,
            "grid_auto_rows": null,
            "grid_column": null,
            "grid_gap": null,
            "grid_row": null,
            "grid_template_areas": null,
            "grid_template_columns": null,
            "grid_template_rows": null,
            "height": null,
            "justify_content": null,
            "justify_items": null,
            "left": null,
            "margin": null,
            "max_height": null,
            "max_width": null,
            "min_height": null,
            "min_width": null,
            "object_fit": null,
            "object_position": null,
            "order": null,
            "overflow": null,
            "overflow_x": null,
            "overflow_y": null,
            "padding": null,
            "right": null,
            "top": null,
            "visibility": null,
            "width": null
          }
        },
        "a1e31a2696424b548f7d09c1dfcf0d76": {
          "model_module": "@jupyter-widgets/controls",
          "model_module_version": "1.5.0",
          "model_name": "HTMLModel",
          "state": {
            "_dom_classes": [],
            "_model_module": "@jupyter-widgets/controls",
            "_model_module_version": "1.5.0",
            "_model_name": "HTMLModel",
            "_view_count": null,
            "_view_module": "@jupyter-widgets/controls",
            "_view_module_version": "1.5.0",
            "_view_name": "HTMLView",
            "description": "",
            "description_tooltip": null,
            "layout": "IPY_MODEL_a59507b1646f4cb28e65d11fc047ccd8",
            "placeholder": "​",
            "style": "IPY_MODEL_7c26b3717c3b4840be60270a37e0972a",
            "value": "model.safetensors: 100%"
          }
        },
        "a26739ca5e44460298595201852e3f68": {
          "model_module": "@jupyter-widgets/base",
          "model_module_version": "1.2.0",
          "model_name": "LayoutModel",
          "state": {
            "_model_module": "@jupyter-widgets/base",
            "_model_module_version": "1.2.0",
            "_model_name": "LayoutModel",
            "_view_count": null,
            "_view_module": "@jupyter-widgets/base",
            "_view_module_version": "1.2.0",
            "_view_name": "LayoutView",
            "align_content": null,
            "align_items": null,
            "align_self": null,
            "border": null,
            "bottom": null,
            "display": null,
            "flex": null,
            "flex_flow": null,
            "grid_area": null,
            "grid_auto_columns": null,
            "grid_auto_flow": null,
            "grid_auto_rows": null,
            "grid_column": null,
            "grid_gap": null,
            "grid_row": null,
            "grid_template_areas": null,
            "grid_template_columns": null,
            "grid_template_rows": null,
            "height": null,
            "justify_content": null,
            "justify_items": null,
            "left": null,
            "margin": null,
            "max_height": null,
            "max_width": null,
            "min_height": null,
            "min_width": null,
            "object_fit": null,
            "object_position": null,
            "order": null,
            "overflow": null,
            "overflow_x": null,
            "overflow_y": null,
            "padding": null,
            "right": null,
            "top": null,
            "visibility": null,
            "width": null
          }
        },
        "a3155c44a8874062a8c3fc2a1554417f": {
          "model_module": "@jupyter-widgets/controls",
          "model_module_version": "1.5.0",
          "model_name": "HBoxModel",
          "state": {
            "_dom_classes": [],
            "_model_module": "@jupyter-widgets/controls",
            "_model_module_version": "1.5.0",
            "_model_name": "HBoxModel",
            "_view_count": null,
            "_view_module": "@jupyter-widgets/controls",
            "_view_module_version": "1.5.0",
            "_view_name": "HBoxView",
            "box_style": "",
            "children": [
              "IPY_MODEL_0228cf71e1344c1eb5da29d9a45e53e1",
              "IPY_MODEL_110ab7c6677d4a14ab6e5699557c092d",
              "IPY_MODEL_1f06596a6c444e65b2a6eda3979885cc"
            ],
            "layout": "IPY_MODEL_7617531036164f2a9c10c35d5191df6e"
          }
        },
        "a3bac0b2e55c4ab1a27b1d79c85a3483": {
          "model_module": "@jupyter-widgets/controls",
          "model_module_version": "1.5.0",
          "model_name": "ProgressStyleModel",
          "state": {
            "_model_module": "@jupyter-widgets/controls",
            "_model_module_version": "1.5.0",
            "_model_name": "ProgressStyleModel",
            "_view_count": null,
            "_view_module": "@jupyter-widgets/base",
            "_view_module_version": "1.2.0",
            "_view_name": "StyleView",
            "bar_color": null,
            "description_width": ""
          }
        },
        "a4decd256a6044429693f8bd6df38a91": {
          "model_module": "@jupyter-widgets/base",
          "model_module_version": "1.2.0",
          "model_name": "LayoutModel",
          "state": {
            "_model_module": "@jupyter-widgets/base",
            "_model_module_version": "1.2.0",
            "_model_name": "LayoutModel",
            "_view_count": null,
            "_view_module": "@jupyter-widgets/base",
            "_view_module_version": "1.2.0",
            "_view_name": "LayoutView",
            "align_content": null,
            "align_items": null,
            "align_self": null,
            "border": null,
            "bottom": null,
            "display": null,
            "flex": null,
            "flex_flow": null,
            "grid_area": null,
            "grid_auto_columns": null,
            "grid_auto_flow": null,
            "grid_auto_rows": null,
            "grid_column": null,
            "grid_gap": null,
            "grid_row": null,
            "grid_template_areas": null,
            "grid_template_columns": null,
            "grid_template_rows": null,
            "height": null,
            "justify_content": null,
            "justify_items": null,
            "left": null,
            "margin": null,
            "max_height": null,
            "max_width": null,
            "min_height": null,
            "min_width": null,
            "object_fit": null,
            "object_position": null,
            "order": null,
            "overflow": null,
            "overflow_x": null,
            "overflow_y": null,
            "padding": null,
            "right": null,
            "top": null,
            "visibility": null,
            "width": null
          }
        },
        "a59507b1646f4cb28e65d11fc047ccd8": {
          "model_module": "@jupyter-widgets/base",
          "model_module_version": "1.2.0",
          "model_name": "LayoutModel",
          "state": {
            "_model_module": "@jupyter-widgets/base",
            "_model_module_version": "1.2.0",
            "_model_name": "LayoutModel",
            "_view_count": null,
            "_view_module": "@jupyter-widgets/base",
            "_view_module_version": "1.2.0",
            "_view_name": "LayoutView",
            "align_content": null,
            "align_items": null,
            "align_self": null,
            "border": null,
            "bottom": null,
            "display": null,
            "flex": null,
            "flex_flow": null,
            "grid_area": null,
            "grid_auto_columns": null,
            "grid_auto_flow": null,
            "grid_auto_rows": null,
            "grid_column": null,
            "grid_gap": null,
            "grid_row": null,
            "grid_template_areas": null,
            "grid_template_columns": null,
            "grid_template_rows": null,
            "height": null,
            "justify_content": null,
            "justify_items": null,
            "left": null,
            "margin": null,
            "max_height": null,
            "max_width": null,
            "min_height": null,
            "min_width": null,
            "object_fit": null,
            "object_position": null,
            "order": null,
            "overflow": null,
            "overflow_x": null,
            "overflow_y": null,
            "padding": null,
            "right": null,
            "top": null,
            "visibility": null,
            "width": null
          }
        },
        "a80dd46516424d0c84f0c53cf2fa3218": {
          "model_module": "@jupyter-widgets/controls",
          "model_module_version": "1.5.0",
          "model_name": "FloatProgressModel",
          "state": {
            "_dom_classes": [],
            "_model_module": "@jupyter-widgets/controls",
            "_model_module_version": "1.5.0",
            "_model_name": "FloatProgressModel",
            "_view_count": null,
            "_view_module": "@jupyter-widgets/controls",
            "_view_module_version": "1.5.0",
            "_view_name": "ProgressView",
            "bar_style": "success",
            "description": "",
            "description_tooltip": null,
            "layout": "IPY_MODEL_148f2bfb5f884e32972d2229239d598b",
            "max": 1,
            "min": 0,
            "orientation": "horizontal",
            "style": "IPY_MODEL_3bc825034e98411884b72790a009f68f",
            "value": 1
          }
        },
        "a99a9d79c38344e490cb52b1ff3bc96d": {
          "model_module": "@jupyter-widgets/controls",
          "model_module_version": "1.5.0",
          "model_name": "ProgressStyleModel",
          "state": {
            "_model_module": "@jupyter-widgets/controls",
            "_model_module_version": "1.5.0",
            "_model_name": "ProgressStyleModel",
            "_view_count": null,
            "_view_module": "@jupyter-widgets/base",
            "_view_module_version": "1.2.0",
            "_view_name": "StyleView",
            "bar_color": null,
            "description_width": ""
          }
        },
        "b19610146f304d54b4466312a9b82638": {
          "model_module": "@jupyter-widgets/base",
          "model_module_version": "1.2.0",
          "model_name": "LayoutModel",
          "state": {
            "_model_module": "@jupyter-widgets/base",
            "_model_module_version": "1.2.0",
            "_model_name": "LayoutModel",
            "_view_count": null,
            "_view_module": "@jupyter-widgets/base",
            "_view_module_version": "1.2.0",
            "_view_name": "LayoutView",
            "align_content": null,
            "align_items": null,
            "align_self": null,
            "border": null,
            "bottom": null,
            "display": null,
            "flex": null,
            "flex_flow": null,
            "grid_area": null,
            "grid_auto_columns": null,
            "grid_auto_flow": null,
            "grid_auto_rows": null,
            "grid_column": null,
            "grid_gap": null,
            "grid_row": null,
            "grid_template_areas": null,
            "grid_template_columns": null,
            "grid_template_rows": null,
            "height": null,
            "justify_content": null,
            "justify_items": null,
            "left": null,
            "margin": null,
            "max_height": null,
            "max_width": null,
            "min_height": null,
            "min_width": null,
            "object_fit": null,
            "object_position": null,
            "order": null,
            "overflow": null,
            "overflow_x": null,
            "overflow_y": null,
            "padding": null,
            "right": null,
            "top": null,
            "visibility": null,
            "width": "20px"
          }
        },
        "b4f25d9387604ccfa5244abd798c929c": {
          "model_module": "@jupyter-widgets/controls",
          "model_module_version": "1.5.0",
          "model_name": "HTMLModel",
          "state": {
            "_dom_classes": [],
            "_model_module": "@jupyter-widgets/controls",
            "_model_module_version": "1.5.0",
            "_model_name": "HTMLModel",
            "_view_count": null,
            "_view_module": "@jupyter-widgets/controls",
            "_view_module_version": "1.5.0",
            "_view_name": "HTMLView",
            "description": "",
            "description_tooltip": null,
            "layout": "IPY_MODEL_a26739ca5e44460298595201852e3f68",
            "placeholder": "​",
            "style": "IPY_MODEL_4610a4453b3b44bd8b19a75974a7e1c4",
            "value": " 345/345 [00:00&lt;00:00, 26.1kB/s]"
          }
        },
        "b518ba35b4fb47d5b3f7ca5208ee6822": {
          "model_module": "@jupyter-widgets/base",
          "model_module_version": "1.2.0",
          "model_name": "LayoutModel",
          "state": {
            "_model_module": "@jupyter-widgets/base",
            "_model_module_version": "1.2.0",
            "_model_name": "LayoutModel",
            "_view_count": null,
            "_view_module": "@jupyter-widgets/base",
            "_view_module_version": "1.2.0",
            "_view_name": "LayoutView",
            "align_content": null,
            "align_items": null,
            "align_self": null,
            "border": null,
            "bottom": null,
            "display": null,
            "flex": null,
            "flex_flow": null,
            "grid_area": null,
            "grid_auto_columns": null,
            "grid_auto_flow": null,
            "grid_auto_rows": null,
            "grid_column": null,
            "grid_gap": null,
            "grid_row": null,
            "grid_template_areas": null,
            "grid_template_columns": null,
            "grid_template_rows": null,
            "height": null,
            "justify_content": null,
            "justify_items": null,
            "left": null,
            "margin": null,
            "max_height": null,
            "max_width": null,
            "min_height": null,
            "min_width": null,
            "object_fit": null,
            "object_position": null,
            "order": null,
            "overflow": null,
            "overflow_x": null,
            "overflow_y": null,
            "padding": null,
            "right": null,
            "top": null,
            "visibility": null,
            "width": null
          }
        },
        "ba769b414a094db09ce77039ffe0c2f3": {
          "model_module": "@jupyter-widgets/controls",
          "model_module_version": "1.5.0",
          "model_name": "DescriptionStyleModel",
          "state": {
            "_model_module": "@jupyter-widgets/controls",
            "_model_module_version": "1.5.0",
            "_model_name": "DescriptionStyleModel",
            "_view_count": null,
            "_view_module": "@jupyter-widgets/base",
            "_view_module_version": "1.2.0",
            "_view_name": "StyleView",
            "description_width": ""
          }
        },
        "bec6edbcc420403fbba17a377dbaac8b": {
          "model_module": "@jupyter-widgets/controls",
          "model_module_version": "1.5.0",
          "model_name": "DescriptionStyleModel",
          "state": {
            "_model_module": "@jupyter-widgets/controls",
            "_model_module_version": "1.5.0",
            "_model_name": "DescriptionStyleModel",
            "_view_count": null,
            "_view_module": "@jupyter-widgets/base",
            "_view_module_version": "1.2.0",
            "_view_name": "StyleView",
            "description_width": ""
          }
        },
        "c4e5b5bfb63140c2b8586c6c70f2f1b0": {
          "model_module": "@jupyter-widgets/base",
          "model_module_version": "1.2.0",
          "model_name": "LayoutModel",
          "state": {
            "_model_module": "@jupyter-widgets/base",
            "_model_module_version": "1.2.0",
            "_model_name": "LayoutModel",
            "_view_count": null,
            "_view_module": "@jupyter-widgets/base",
            "_view_module_version": "1.2.0",
            "_view_name": "LayoutView",
            "align_content": null,
            "align_items": null,
            "align_self": null,
            "border": null,
            "bottom": null,
            "display": null,
            "flex": null,
            "flex_flow": null,
            "grid_area": null,
            "grid_auto_columns": null,
            "grid_auto_flow": null,
            "grid_auto_rows": null,
            "grid_column": null,
            "grid_gap": null,
            "grid_row": null,
            "grid_template_areas": null,
            "grid_template_columns": null,
            "grid_template_rows": null,
            "height": null,
            "justify_content": null,
            "justify_items": null,
            "left": null,
            "margin": null,
            "max_height": null,
            "max_width": null,
            "min_height": null,
            "min_width": null,
            "object_fit": null,
            "object_position": null,
            "order": null,
            "overflow": null,
            "overflow_x": null,
            "overflow_y": null,
            "padding": null,
            "right": null,
            "top": null,
            "visibility": null,
            "width": null
          }
        },
        "cc2f958d7161415c87739cce12bac821": {
          "model_module": "@jupyter-widgets/controls",
          "model_module_version": "1.5.0",
          "model_name": "DescriptionStyleModel",
          "state": {
            "_model_module": "@jupyter-widgets/controls",
            "_model_module_version": "1.5.0",
            "_model_name": "DescriptionStyleModel",
            "_view_count": null,
            "_view_module": "@jupyter-widgets/base",
            "_view_module_version": "1.2.0",
            "_view_name": "StyleView",
            "description_width": ""
          }
        },
        "cd3c1c33d4b243b9b819b2daf594a967": {
          "model_module": "@jupyter-widgets/base",
          "model_module_version": "1.2.0",
          "model_name": "LayoutModel",
          "state": {
            "_model_module": "@jupyter-widgets/base",
            "_model_module_version": "1.2.0",
            "_model_name": "LayoutModel",
            "_view_count": null,
            "_view_module": "@jupyter-widgets/base",
            "_view_module_version": "1.2.0",
            "_view_name": "LayoutView",
            "align_content": null,
            "align_items": null,
            "align_self": null,
            "border": null,
            "bottom": null,
            "display": null,
            "flex": null,
            "flex_flow": null,
            "grid_area": null,
            "grid_auto_columns": null,
            "grid_auto_flow": null,
            "grid_auto_rows": null,
            "grid_column": null,
            "grid_gap": null,
            "grid_row": null,
            "grid_template_areas": null,
            "grid_template_columns": null,
            "grid_template_rows": null,
            "height": null,
            "justify_content": null,
            "justify_items": null,
            "left": null,
            "margin": null,
            "max_height": null,
            "max_width": null,
            "min_height": null,
            "min_width": null,
            "object_fit": null,
            "object_position": null,
            "order": null,
            "overflow": null,
            "overflow_x": null,
            "overflow_y": null,
            "padding": null,
            "right": null,
            "top": null,
            "visibility": null,
            "width": null
          }
        },
        "d1ae628611104695994e2d72f7cfea70": {
          "model_module": "@jupyter-widgets/controls",
          "model_module_version": "1.5.0",
          "model_name": "HTMLModel",
          "state": {
            "_dom_classes": [],
            "_model_module": "@jupyter-widgets/controls",
            "_model_module_version": "1.5.0",
            "_model_name": "HTMLModel",
            "_view_count": null,
            "_view_module": "@jupyter-widgets/controls",
            "_view_module_version": "1.5.0",
            "_view_name": "HTMLView",
            "description": "",
            "description_tooltip": null,
            "layout": "IPY_MODEL_360e8734c9f2488d863d80b000e2716d",
            "placeholder": "​",
            "style": "IPY_MODEL_0a7fc796c21442138af32f559934562d",
            "value": "tokenizer_config.json: "
          }
        },
        "d323a085905940408bab8308fd1a39ee": {
          "model_module": "@jupyter-widgets/base",
          "model_module_version": "1.2.0",
          "model_name": "LayoutModel",
          "state": {
            "_model_module": "@jupyter-widgets/base",
            "_model_module_version": "1.2.0",
            "_model_name": "LayoutModel",
            "_view_count": null,
            "_view_module": "@jupyter-widgets/base",
            "_view_module_version": "1.2.0",
            "_view_name": "LayoutView",
            "align_content": null,
            "align_items": null,
            "align_self": null,
            "border": null,
            "bottom": null,
            "display": null,
            "flex": null,
            "flex_flow": null,
            "grid_area": null,
            "grid_auto_columns": null,
            "grid_auto_flow": null,
            "grid_auto_rows": null,
            "grid_column": null,
            "grid_gap": null,
            "grid_row": null,
            "grid_template_areas": null,
            "grid_template_columns": null,
            "grid_template_rows": null,
            "height": null,
            "justify_content": null,
            "justify_items": null,
            "left": null,
            "margin": null,
            "max_height": null,
            "max_width": null,
            "min_height": null,
            "min_width": null,
            "object_fit": null,
            "object_position": null,
            "order": null,
            "overflow": null,
            "overflow_x": null,
            "overflow_y": null,
            "padding": null,
            "right": null,
            "top": null,
            "visibility": null,
            "width": null
          }
        },
        "d34bc348152f41f4a76578172f47c729": {
          "model_module": "@jupyter-widgets/controls",
          "model_module_version": "1.5.0",
          "model_name": "DescriptionStyleModel",
          "state": {
            "_model_module": "@jupyter-widgets/controls",
            "_model_module_version": "1.5.0",
            "_model_name": "DescriptionStyleModel",
            "_view_count": null,
            "_view_module": "@jupyter-widgets/base",
            "_view_module_version": "1.2.0",
            "_view_name": "StyleView",
            "description_width": ""
          }
        },
        "e0318de1404a4a9fa1436afba86269cb": {
          "model_module": "@jupyter-widgets/controls",
          "model_module_version": "1.5.0",
          "model_name": "FloatProgressModel",
          "state": {
            "_dom_classes": [],
            "_model_module": "@jupyter-widgets/controls",
            "_model_module_version": "1.5.0",
            "_model_name": "FloatProgressModel",
            "_view_count": null,
            "_view_module": "@jupyter-widgets/controls",
            "_view_module_version": "1.5.0",
            "_view_name": "ProgressView",
            "bar_style": "success",
            "description": "",
            "description_tooltip": null,
            "layout": "IPY_MODEL_18f99de0df1c4d0b998fea67197a4ace",
            "max": 2000,
            "min": 0,
            "orientation": "horizontal",
            "style": "IPY_MODEL_a99a9d79c38344e490cb52b1ff3bc96d",
            "value": 2000
          }
        },
        "e95dc0042d464d9a8b7d09c4ad1b4fa8": {
          "model_module": "@jupyter-widgets/base",
          "model_module_version": "1.2.0",
          "model_name": "LayoutModel",
          "state": {
            "_model_module": "@jupyter-widgets/base",
            "_model_module_version": "1.2.0",
            "_model_name": "LayoutModel",
            "_view_count": null,
            "_view_module": "@jupyter-widgets/base",
            "_view_module_version": "1.2.0",
            "_view_name": "LayoutView",
            "align_content": null,
            "align_items": null,
            "align_self": null,
            "border": null,
            "bottom": null,
            "display": null,
            "flex": null,
            "flex_flow": null,
            "grid_area": null,
            "grid_auto_columns": null,
            "grid_auto_flow": null,
            "grid_auto_rows": null,
            "grid_column": null,
            "grid_gap": null,
            "grid_row": null,
            "grid_template_areas": null,
            "grid_template_columns": null,
            "grid_template_rows": null,
            "height": null,
            "justify_content": null,
            "justify_items": null,
            "left": null,
            "margin": null,
            "max_height": null,
            "max_width": null,
            "min_height": null,
            "min_width": null,
            "object_fit": null,
            "object_position": null,
            "order": null,
            "overflow": null,
            "overflow_x": null,
            "overflow_y": null,
            "padding": null,
            "right": null,
            "top": null,
            "visibility": null,
            "width": null
          }
        },
        "efdc4c776b224158aa70fecd3f370805": {
          "model_module": "@jupyter-widgets/base",
          "model_module_version": "1.2.0",
          "model_name": "LayoutModel",
          "state": {
            "_model_module": "@jupyter-widgets/base",
            "_model_module_version": "1.2.0",
            "_model_name": "LayoutModel",
            "_view_count": null,
            "_view_module": "@jupyter-widgets/base",
            "_view_module_version": "1.2.0",
            "_view_name": "LayoutView",
            "align_content": null,
            "align_items": null,
            "align_self": null,
            "border": null,
            "bottom": null,
            "display": null,
            "flex": null,
            "flex_flow": null,
            "grid_area": null,
            "grid_auto_columns": null,
            "grid_auto_flow": null,
            "grid_auto_rows": null,
            "grid_column": null,
            "grid_gap": null,
            "grid_row": null,
            "grid_template_areas": null,
            "grid_template_columns": null,
            "grid_template_rows": null,
            "height": null,
            "justify_content": null,
            "justify_items": null,
            "left": null,
            "margin": null,
            "max_height": null,
            "max_width": null,
            "min_height": null,
            "min_width": null,
            "object_fit": null,
            "object_position": null,
            "order": null,
            "overflow": null,
            "overflow_x": null,
            "overflow_y": null,
            "padding": null,
            "right": null,
            "top": null,
            "visibility": null,
            "width": null
          }
        },
        "f30d8c51a9ee4bc1a453e4c8a3e489f5": {
          "model_module": "@jupyter-widgets/controls",
          "model_module_version": "1.5.0",
          "model_name": "DescriptionStyleModel",
          "state": {
            "_model_module": "@jupyter-widgets/controls",
            "_model_module_version": "1.5.0",
            "_model_name": "DescriptionStyleModel",
            "_view_count": null,
            "_view_module": "@jupyter-widgets/base",
            "_view_module_version": "1.2.0",
            "_view_name": "StyleView",
            "description_width": ""
          }
        },
        "f65a30a99c0f4470b550fff6975d3def": {
          "model_module": "@jupyter-widgets/base",
          "model_module_version": "1.2.0",
          "model_name": "LayoutModel",
          "state": {
            "_model_module": "@jupyter-widgets/base",
            "_model_module_version": "1.2.0",
            "_model_name": "LayoutModel",
            "_view_count": null,
            "_view_module": "@jupyter-widgets/base",
            "_view_module_version": "1.2.0",
            "_view_name": "LayoutView",
            "align_content": null,
            "align_items": null,
            "align_self": null,
            "border": null,
            "bottom": null,
            "display": null,
            "flex": null,
            "flex_flow": null,
            "grid_area": null,
            "grid_auto_columns": null,
            "grid_auto_flow": null,
            "grid_auto_rows": null,
            "grid_column": null,
            "grid_gap": null,
            "grid_row": null,
            "grid_template_areas": null,
            "grid_template_columns": null,
            "grid_template_rows": null,
            "height": null,
            "justify_content": null,
            "justify_items": null,
            "left": null,
            "margin": null,
            "max_height": null,
            "max_width": null,
            "min_height": null,
            "min_width": null,
            "object_fit": null,
            "object_position": null,
            "order": null,
            "overflow": null,
            "overflow_x": null,
            "overflow_y": null,
            "padding": null,
            "right": null,
            "top": null,
            "visibility": null,
            "width": null
          }
        },
        "f972586a16f84b48b7d87466c2d4339b": {
          "model_module": "@jupyter-widgets/controls",
          "model_module_version": "1.5.0",
          "model_name": "HBoxModel",
          "state": {
            "_dom_classes": [],
            "_model_module": "@jupyter-widgets/controls",
            "_model_module_version": "1.5.0",
            "_model_name": "HBoxModel",
            "_view_count": null,
            "_view_module": "@jupyter-widgets/controls",
            "_view_module_version": "1.5.0",
            "_view_name": "HBoxView",
            "box_style": "",
            "children": [
              "IPY_MODEL_89a17592c18f4af290fdb509c9ada6c3",
              "IPY_MODEL_57ed2fae54e04e288741d08a803ad03d",
              "IPY_MODEL_8890a0fe3d2d4d6db5c1263f5578ec8c"
            ],
            "layout": "IPY_MODEL_a4decd256a6044429693f8bd6df38a91"
          }
        }
      }
    }
  },
  "nbformat": 4,
  "nbformat_minor": 0
}
